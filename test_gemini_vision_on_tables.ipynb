{
  "nbformat": 4,
  "nbformat_minor": 0,
  "metadata": {
    "colab": {
      "provenance": [],
      "include_colab_link": true
    },
    "kernelspec": {
      "name": "python3",
      "display_name": "Python 3"
    },
    "language_info": {
      "name": "python"
    }
  },
  "cells": [
    {
      "cell_type": "markdown",
      "metadata": {
        "id": "view-in-github",
        "colab_type": "text"
      },
      "source": [
        "<a href=\"https://colab.research.google.com/github/imusicmash/stanford_llm_python/blob/main/test_gemini_vision_on_tables.ipynb\" target=\"_parent\"><img src=\"https://colab.research.google.com/assets/colab-badge.svg\" alt=\"Open In Colab\"/></a>"
      ]
    },
    {
      "cell_type": "code",
      "source": [
        "from IPython.display import HTML, display\n",
        "\n",
        "def set_css():\n",
        "  display(HTML('''\n",
        "  <style>\n",
        "    pre {\n",
        "        white-space: pre-wrap;\n",
        "    }\n",
        "  </style>\n",
        "  '''))\n",
        "get_ipython().events.register('pre_run_cell', set_css)"
      ],
      "metadata": {
        "colab": {
          "base_uri": "https://localhost:8080/",
          "height": 17
        },
        "id": "knQeONStMZCf",
        "outputId": "63574f68-c0cc-4b1a-d367-5e1ccb97600e"
      },
      "execution_count": null,
      "outputs": [
        {
          "output_type": "display_data",
          "data": {
            "text/plain": [
              "<IPython.core.display.HTML object>"
            ],
            "text/html": [
              "\n",
              "  <style>\n",
              "    pre {\n",
              "        white-space: pre-wrap;\n",
              "    }\n",
              "  </style>\n",
              "  "
            ]
          },
          "metadata": {}
        },
        {
          "output_type": "display_data",
          "data": {
            "text/plain": [
              "<IPython.core.display.HTML object>"
            ],
            "text/html": [
              "\n",
              "  <style>\n",
              "    pre {\n",
              "        white-space: pre-wrap;\n",
              "    }\n",
              "  </style>\n",
              "  "
            ]
          },
          "metadata": {}
        }
      ]
    },
    {
      "cell_type": "code",
      "execution_count": null,
      "metadata": {
        "colab": {
          "base_uri": "https://localhost:8080/",
          "height": 191
        },
        "id": "0rrPG47QMMc_",
        "outputId": "d466277b-d104-4306-a954-b09620ab84aa"
      },
      "outputs": [
        {
          "output_type": "display_data",
          "data": {
            "text/plain": [
              "<IPython.core.display.HTML object>"
            ],
            "text/html": [
              "\n",
              "  <style>\n",
              "    pre {\n",
              "        white-space: pre-wrap;\n",
              "    }\n",
              "  </style>\n",
              "  "
            ]
          },
          "metadata": {}
        },
        {
          "output_type": "display_data",
          "data": {
            "text/plain": [
              "<IPython.core.display.HTML object>"
            ],
            "text/html": [
              "\n",
              "  <style>\n",
              "    pre {\n",
              "        white-space: pre-wrap;\n",
              "    }\n",
              "  </style>\n",
              "  "
            ]
          },
          "metadata": {}
        },
        {
          "output_type": "display_data",
          "data": {
            "text/plain": [
              "<IPython.core.display.HTML object>"
            ],
            "text/html": [
              "\n",
              "  <style>\n",
              "    pre {\n",
              "        white-space: pre-wrap;\n",
              "    }\n",
              "  </style>\n",
              "  "
            ]
          },
          "metadata": {}
        },
        {
          "output_type": "stream",
          "name": "stdout",
          "text": [
            "Requirement already satisfied: Pillow in /usr/local/lib/python3.10/dist-packages (9.4.0)\n",
            "Requirement already satisfied: PyPDF4 in /usr/local/lib/python3.10/dist-packages (1.27.0)\n",
            "Requirement already satisfied: pdfplumber in /usr/local/lib/python3.10/dist-packages (0.10.4)\n",
            "Requirement already satisfied: pdfminer.six==20221105 in /usr/local/lib/python3.10/dist-packages (from pdfplumber) (20221105)\n",
            "Requirement already satisfied: Pillow>=9.1 in /usr/local/lib/python3.10/dist-packages (from pdfplumber) (9.4.0)\n",
            "Requirement already satisfied: pypdfium2>=4.18.0 in /usr/local/lib/python3.10/dist-packages (from pdfplumber) (4.27.0)\n",
            "Requirement already satisfied: charset-normalizer>=2.0.0 in /usr/local/lib/python3.10/dist-packages (from pdfminer.six==20221105->pdfplumber) (3.3.2)\n",
            "Requirement already satisfied: cryptography>=36.0.0 in /usr/local/lib/python3.10/dist-packages (from pdfminer.six==20221105->pdfplumber) (42.0.5)\n",
            "Requirement already satisfied: cffi>=1.12 in /usr/local/lib/python3.10/dist-packages (from cryptography>=36.0.0->pdfminer.six==20221105->pdfplumber) (1.16.0)\n",
            "Requirement already satisfied: pycparser in /usr/local/lib/python3.10/dist-packages (from cffi>=1.12->cryptography>=36.0.0->pdfminer.six==20221105->pdfplumber) (2.21)\n"
          ]
        }
      ],
      "source": [
        "!pip install -q -U google-generativeai\n",
        "!pip install Pillow\n",
        "!pip install PyPDF4\n",
        "!pip install pdfplumber"
      ]
    },
    {
      "cell_type": "code",
      "source": [
        "import google.generativeai as genai\n",
        "from google.generativeai import generative_models\n",
        "import PIL.Image\n",
        "import pdfplumber\n",
        "import PyPDF4"
      ],
      "metadata": {
        "colab": {
          "base_uri": "https://localhost:8080/",
          "height": 17
        },
        "id": "fQ3upulPMXuL",
        "outputId": "ebd21e2d-59b7-4a2e-dcc4-ef854cdce89b"
      },
      "execution_count": null,
      "outputs": [
        {
          "output_type": "display_data",
          "data": {
            "text/plain": [
              "<IPython.core.display.HTML object>"
            ],
            "text/html": [
              "\n",
              "  <style>\n",
              "    pre {\n",
              "        white-space: pre-wrap;\n",
              "    }\n",
              "  </style>\n",
              "  "
            ]
          },
          "metadata": {}
        },
        {
          "output_type": "display_data",
          "data": {
            "text/plain": [
              "<IPython.core.display.HTML object>"
            ],
            "text/html": [
              "\n",
              "  <style>\n",
              "    pre {\n",
              "        white-space: pre-wrap;\n",
              "    }\n",
              "  </style>\n",
              "  "
            ]
          },
          "metadata": {}
        },
        {
          "output_type": "display_data",
          "data": {
            "text/plain": [
              "<IPython.core.display.HTML object>"
            ],
            "text/html": [
              "\n",
              "  <style>\n",
              "    pre {\n",
              "        white-space: pre-wrap;\n",
              "    }\n",
              "  </style>\n",
              "  "
            ]
          },
          "metadata": {}
        }
      ]
    },
    {
      "cell_type": "code",
      "source": [
        "from google.colab import userdata\n",
        "GOOGLE_API_KEY=userdata.get('google_api')\n",
        "genai.configure(api_key=GOOGLE_API_KEY)"
      ],
      "metadata": {
        "colab": {
          "base_uri": "https://localhost:8080/",
          "height": 17
        },
        "id": "ye4Jye_bMXr3",
        "outputId": "05ccc829-4a7d-478e-b041-309f089526f6"
      },
      "execution_count": null,
      "outputs": [
        {
          "output_type": "display_data",
          "data": {
            "text/plain": [
              "<IPython.core.display.HTML object>"
            ],
            "text/html": [
              "\n",
              "  <style>\n",
              "    pre {\n",
              "        white-space: pre-wrap;\n",
              "    }\n",
              "  </style>\n",
              "  "
            ]
          },
          "metadata": {}
        },
        {
          "output_type": "display_data",
          "data": {
            "text/plain": [
              "<IPython.core.display.HTML object>"
            ],
            "text/html": [
              "\n",
              "  <style>\n",
              "    pre {\n",
              "        white-space: pre-wrap;\n",
              "    }\n",
              "  </style>\n",
              "  "
            ]
          },
          "metadata": {}
        },
        {
          "output_type": "display_data",
          "data": {
            "text/plain": [
              "<IPython.core.display.HTML object>"
            ],
            "text/html": [
              "\n",
              "  <style>\n",
              "    pre {\n",
              "        white-space: pre-wrap;\n",
              "    }\n",
              "  </style>\n",
              "  "
            ]
          },
          "metadata": {}
        }
      ]
    },
    {
      "cell_type": "code",
      "source": [
        "from google.colab import files\n",
        "files.upload()"
      ],
      "metadata": {
        "id": "b0Z9I5vKMXpY"
      },
      "execution_count": null,
      "outputs": []
    },
    {
      "cell_type": "code",
      "source": [
        "from matplotlib import pyplot as plt\n",
        "from matplotlib import image as mpimg\n",
        "\n",
        "plt.title(\"Testing Vision\")\n",
        "plt.xlabel(\"X pixel scaling\")\n",
        "plt.ylabel(\"Y pixels scaling\")\n",
        "\n",
        "image = mpimg.imread(\"HAITable.png\")\n",
        "plt.imshow(image)"
      ],
      "metadata": {
        "colab": {
          "base_uri": "https://localhost:8080/",
          "height": 489
        },
        "id": "uQyVXQd8MXm3",
        "outputId": "0111b7ba-8b7e-46f7-ec64-344091581275"
      },
      "execution_count": null,
      "outputs": [
        {
          "output_type": "display_data",
          "data": {
            "text/plain": [
              "<IPython.core.display.HTML object>"
            ],
            "text/html": [
              "\n",
              "  <style>\n",
              "    pre {\n",
              "        white-space: pre-wrap;\n",
              "    }\n",
              "  </style>\n",
              "  "
            ]
          },
          "metadata": {}
        },
        {
          "output_type": "display_data",
          "data": {
            "text/plain": [
              "<IPython.core.display.HTML object>"
            ],
            "text/html": [
              "\n",
              "  <style>\n",
              "    pre {\n",
              "        white-space: pre-wrap;\n",
              "    }\n",
              "  </style>\n",
              "  "
            ]
          },
          "metadata": {}
        },
        {
          "output_type": "display_data",
          "data": {
            "text/plain": [
              "<IPython.core.display.HTML object>"
            ],
            "text/html": [
              "\n",
              "  <style>\n",
              "    pre {\n",
              "        white-space: pre-wrap;\n",
              "    }\n",
              "  </style>\n",
              "  "
            ]
          },
          "metadata": {}
        },
        {
          "output_type": "execute_result",
          "data": {
            "text/plain": [
              "<matplotlib.image.AxesImage at 0x7e2d092a3040>"
            ]
          },
          "metadata": {},
          "execution_count": 134
        },
        {
          "output_type": "display_data",
          "data": {
            "text/plain": [
              "<Figure size 640x480 with 1 Axes>"
            ],
            "image/png": "[encoded data removed]"
          },
          "metadata": {}
        }
      ]
    },
    {
      "cell_type": "code",
      "source": [
        "vis_model = genai.GenerativeModel('gemini-pro-vision')\n",
        "result = vis_model.generate_content([\"Capture all the text in this picture one row at a time and format it exactly the way it appears in this picture\", PIL.Image.open('HAITable.png')])"
      ],
      "metadata": {
        "colab": {
          "base_uri": "https://localhost:8080/",
          "height": 17
        },
        "id": "zgHiRVfWMXkI",
        "outputId": "abff2590-7a36-47f3-ea4d-1b811a100a0d"
      },
      "execution_count": null,
      "outputs": [
        {
          "output_type": "display_data",
          "data": {
            "text/plain": [
              "<IPython.core.display.HTML object>"
            ],
            "text/html": [
              "\n",
              "  <style>\n",
              "    pre {\n",
              "        white-space: pre-wrap;\n",
              "    }\n",
              "  </style>\n",
              "  "
            ]
          },
          "metadata": {}
        },
        {
          "output_type": "display_data",
          "data": {
            "text/plain": [
              "<IPython.core.display.HTML object>"
            ],
            "text/html": [
              "\n",
              "  <style>\n",
              "    pre {\n",
              "        white-space: pre-wrap;\n",
              "    }\n",
              "  </style>\n",
              "  "
            ]
          },
          "metadata": {}
        },
        {
          "output_type": "display_data",
          "data": {
            "text/plain": [
              "<IPython.core.display.HTML object>"
            ],
            "text/html": [
              "\n",
              "  <style>\n",
              "    pre {\n",
              "        white-space: pre-wrap;\n",
              "    }\n",
              "  </style>\n",
              "  "
            ]
          },
          "metadata": {}
        }
      ]
    },
    {
      "cell_type": "code",
      "source": [
        "print(\"this is the text returned by the vision api \\n\\n\", result.text)"
      ],
      "metadata": {
        "colab": {
          "base_uri": "https://localhost:8080/",
          "height": 382
        },
        "id": "q6r8ylrNMXhl",
        "outputId": "101b73f7-7d64-40ef-f8b6-a18379fa30ac"
      },
      "execution_count": null,
      "outputs": [
        {
          "output_type": "display_data",
          "data": {
            "text/plain": [
              "<IPython.core.display.HTML object>"
            ],
            "text/html": [
              "\n",
              "  <style>\n",
              "    pre {\n",
              "        white-space: pre-wrap;\n",
              "    }\n",
              "  </style>\n",
              "  "
            ]
          },
          "metadata": {}
        },
        {
          "output_type": "display_data",
          "data": {
            "text/plain": [
              "<IPython.core.display.HTML object>"
            ],
            "text/html": [
              "\n",
              "  <style>\n",
              "    pre {\n",
              "        white-space: pre-wrap;\n",
              "    }\n",
              "  </style>\n",
              "  "
            ]
          },
          "metadata": {}
        },
        {
          "output_type": "display_data",
          "data": {
            "text/plain": [
              "<IPython.core.display.HTML object>"
            ],
            "text/html": [
              "\n",
              "  <style>\n",
              "    pre {\n",
              "        white-space: pre-wrap;\n",
              "    }\n",
              "  </style>\n",
              "  "
            ]
          },
          "metadata": {}
        },
        {
          "output_type": "stream",
          "name": "stdout",
          "text": [
            "this is the text returned by the vision api \n",
            "\n",
            "  Narrative Highlight: The Rise of Capable Multimodal Reasoning Systems\n",
            "\n",
            "Traditionally AI has been strong in narrow tasks, but it has been unable to easily generalize across multiple domains. For instance, many image classifiers are adept at classifying images but are incapable of understanding written text. However, recent technical progress in AI has begun to challenge this notion. In 2022, several models were introduced, for example BEiT-3 from Microsoft and PaLM from Google, that posted state-of-the-art results across a variety of both vision and language benchmarks. For example, at the time of publication of the BEiT-3 paper, BEiT-3 posted state-of-the-art results for four different vision skills and five different vision-language skills (Figure 2.2.2).\n",
            "\n",
            "BEiT-3 Vs. Previous State-of-the-Art Models\n",
            "Source: Wang et al., 2022 | Table 2.2.2\n",
            "\n",
            "Category\tTask\tDataset\tMetric\tPrevious SOTA\tModel of Previous SOTA\tBEiT-3\tScale of Improvement\n",
            "Vision\tSemantic Segmentation\tADE20K\tmIoU\t61.40\tFD-SwimV2\t62.80\t2.28%\n",
            "Vision\tObject Detection\tCOCO\tAP\t63.30\tDINO\t63.70\t0.63%\n",
            "Vision\tInstance Segmentation\tCOCO\tAP\t54.70\tMask DINO\t54.80\t0.18%\n",
            "Vision\tImage Classification\tImageNet\tTop-1 Accuracy\t89.00\tFD-CLIP\t89.60\t0.67%\n",
            "Vision-Language\tVisual Reasoning\tNLVR\tAccuracy\t87.00\tCoCA\t92.60\t6.44%\n",
            "Vision-Language\tImage-Video QA\tVQAv2\tVQAccuracy\t145.30\tOFA\t147.60\t2.07%\n",
            "Vision-Language\tFine-tuned Captioning\tCOCO\tCIDEr\t72.50\tFlorence\t76.00\t4.83%\n",
            "Vision-Language\tZero-Shot Retrieval\tFlickr30K\tR@1\t86.50\tCoCA\t88.20\t1.97%\n"
          ]
        }
      ]
    },
    {
      "cell_type": "code",
      "source": [
        "def format_query():\n",
        "  question = input(\"Enter your question: \")\n",
        "  prompt = \"Answer this question: \" + question + \" using the context provided. You should avoid providing incorrect answers if you do not have the context.\"\n",
        "  print(\"\\nthis is the prompt that is provided to the LLM\\n\", prompt)\n",
        "  return prompt"
      ],
      "metadata": {
        "colab": {
          "base_uri": "https://localhost:8080/",
          "height": 17
        },
        "id": "dJfJKJgR2gE4",
        "outputId": "0b4afb89-8907-4463-fcc6-f6137510a5d8"
      },
      "execution_count": null,
      "outputs": [
        {
          "output_type": "display_data",
          "data": {
            "text/plain": [
              "<IPython.core.display.HTML object>"
            ],
            "text/html": [
              "\n",
              "  <style>\n",
              "    pre {\n",
              "        white-space: pre-wrap;\n",
              "    }\n",
              "  </style>\n",
              "  "
            ]
          },
          "metadata": {}
        },
        {
          "output_type": "display_data",
          "data": {
            "text/plain": [
              "<IPython.core.display.HTML object>"
            ],
            "text/html": [
              "\n",
              "  <style>\n",
              "    pre {\n",
              "        white-space: pre-wrap;\n",
              "    }\n",
              "  </style>\n",
              "  "
            ]
          },
          "metadata": {}
        },
        {
          "output_type": "display_data",
          "data": {
            "text/plain": [
              "<IPython.core.display.HTML object>"
            ],
            "text/html": [
              "\n",
              "  <style>\n",
              "    pre {\n",
              "        white-space: pre-wrap;\n",
              "    }\n",
              "  </style>\n",
              "  "
            ]
          },
          "metadata": {}
        }
      ]
    },
    {
      "cell_type": "code",
      "source": [
        "def run_query(prompt, context):\n",
        "  messages = []\n",
        "  messages.append({'role': 'user', 'parts': [f\"{prompt}\"]})\n",
        "  response = model.generate_content(messages)\n",
        "  print (\"\\n initial resposnse from LLM without the context\\n\", response.candidates[0].content.parts[0].text)\n",
        "\n",
        "  messages.append(response.candidates[0].content)\n",
        "  messages.append({'role': 'user', 'parts': [f\"{context}\"]})\n",
        "  response = model.generate_content(messages)\n",
        "  print (\"\\n the resposnse from LLM when context is provided\\n\", response.candidates[0].content.parts[0].text)"
      ],
      "metadata": {
        "colab": {
          "base_uri": "https://localhost:8080/",
          "height": 17
        },
        "id": "045CvT8f2zNk",
        "outputId": "3605c18f-2c12-4056-9d70-5ea6d3c96f00"
      },
      "execution_count": null,
      "outputs": [
        {
          "output_type": "display_data",
          "data": {
            "text/plain": [
              "<IPython.core.display.HTML object>"
            ],
            "text/html": [
              "\n",
              "  <style>\n",
              "    pre {\n",
              "        white-space: pre-wrap;\n",
              "    }\n",
              "  </style>\n",
              "  "
            ]
          },
          "metadata": {}
        },
        {
          "output_type": "display_data",
          "data": {
            "text/plain": [
              "<IPython.core.display.HTML object>"
            ],
            "text/html": [
              "\n",
              "  <style>\n",
              "    pre {\n",
              "        white-space: pre-wrap;\n",
              "    }\n",
              "  </style>\n",
              "  "
            ]
          },
          "metadata": {}
        },
        {
          "output_type": "display_data",
          "data": {
            "text/plain": [
              "<IPython.core.display.HTML object>"
            ],
            "text/html": [
              "\n",
              "  <style>\n",
              "    pre {\n",
              "        white-space: pre-wrap;\n",
              "    }\n",
              "  </style>\n",
              "  "
            ]
          },
          "metadata": {}
        }
      ]
    },
    {
      "cell_type": "code",
      "source": [
        "def read_pdf (file_path, pages):\n",
        "  with open(file_path, \"rb\") as pdf_file:\n",
        "    reader = PyPDF4.PdfFileReader(pdf_file)\n",
        "    metadata = reader.getDocumentInfo()\n",
        "    print (\"Title: \", metadata.get(\"/Title\", \"\"))\n",
        "    print (\"Author: \", metadata.get(\"/Author\", \"\"))\n",
        "\n",
        "  with pdfplumber.open(file_path) as pdf:\n",
        "    for page_num, page in enumerate(pdf.pages):\n",
        "      text = page.extract_text()\n",
        "      if text.strip():\n",
        "        pages.append((page_num + 1, text))\n",
        "  return page_num"
      ],
      "metadata": {
        "colab": {
          "base_uri": "https://localhost:8080/",
          "height": 17
        },
        "id": "7MUcjvnpUdfs",
        "outputId": "e3eca178-d183-4b5c-81b8-023df77f093b"
      },
      "execution_count": null,
      "outputs": [
        {
          "output_type": "display_data",
          "data": {
            "text/plain": [
              "<IPython.core.display.HTML object>"
            ],
            "text/html": [
              "\n",
              "  <style>\n",
              "    pre {\n",
              "        white-space: pre-wrap;\n",
              "    }\n",
              "  </style>\n",
              "  "
            ]
          },
          "metadata": {}
        },
        {
          "output_type": "display_data",
          "data": {
            "text/plain": [
              "<IPython.core.display.HTML object>"
            ],
            "text/html": [
              "\n",
              "  <style>\n",
              "    pre {\n",
              "        white-space: pre-wrap;\n",
              "    }\n",
              "  </style>\n",
              "  "
            ]
          },
          "metadata": {}
        },
        {
          "output_type": "display_data",
          "data": {
            "text/plain": [
              "<IPython.core.display.HTML object>"
            ],
            "text/html": [
              "\n",
              "  <style>\n",
              "    pre {\n",
              "        white-space: pre-wrap;\n",
              "    }\n",
              "  </style>\n",
              "  "
            ]
          },
          "metadata": {}
        }
      ]
    },
    {
      "cell_type": "code",
      "source": [
        "model = genai.GenerativeModel('gemini-pro')"
      ],
      "metadata": {
        "colab": {
          "base_uri": "https://localhost:8080/",
          "height": 17
        },
        "id": "fDIU7RlrQtf0",
        "outputId": "57b2f59c-5097-476c-ebf1-d610c6996131"
      },
      "execution_count": null,
      "outputs": [
        {
          "output_type": "display_data",
          "data": {
            "text/plain": [
              "<IPython.core.display.HTML object>"
            ],
            "text/html": [
              "\n",
              "  <style>\n",
              "    pre {\n",
              "        white-space: pre-wrap;\n",
              "    }\n",
              "  </style>\n",
              "  "
            ]
          },
          "metadata": {}
        },
        {
          "output_type": "display_data",
          "data": {
            "text/plain": [
              "<IPython.core.display.HTML object>"
            ],
            "text/html": [
              "\n",
              "  <style>\n",
              "    pre {\n",
              "        white-space: pre-wrap;\n",
              "    }\n",
              "  </style>\n",
              "  "
            ]
          },
          "metadata": {}
        },
        {
          "output_type": "display_data",
          "data": {
            "text/plain": [
              "<IPython.core.display.HTML object>"
            ],
            "text/html": [
              "\n",
              "  <style>\n",
              "    pre {\n",
              "        white-space: pre-wrap;\n",
              "    }\n",
              "  </style>\n",
              "  "
            ]
          },
          "metadata": {}
        }
      ]
    },
    {
      "cell_type": "code",
      "source": [
        "print(\"running a query on the table captured as a image by the vision api \\n\\n\")\n",
        "prompt = format_query()\n",
        "run_query(prompt, result.text)"
      ],
      "metadata": {
        "colab": {
          "base_uri": "https://localhost:8080/",
          "height": 295
        },
        "id": "4B5AEL6x4Atr",
        "outputId": "d708e012-b4a1-4825-9af7-14404a958548"
      },
      "execution_count": null,
      "outputs": [
        {
          "output_type": "display_data",
          "data": {
            "text/plain": [
              "<IPython.core.display.HTML object>"
            ],
            "text/html": [
              "\n",
              "  <style>\n",
              "    pre {\n",
              "        white-space: pre-wrap;\n",
              "    }\n",
              "  </style>\n",
              "  "
            ]
          },
          "metadata": {}
        },
        {
          "output_type": "display_data",
          "data": {
            "text/plain": [
              "<IPython.core.display.HTML object>"
            ],
            "text/html": [
              "\n",
              "  <style>\n",
              "    pre {\n",
              "        white-space: pre-wrap;\n",
              "    }\n",
              "  </style>\n",
              "  "
            ]
          },
          "metadata": {}
        },
        {
          "output_type": "display_data",
          "data": {
            "text/plain": [
              "<IPython.core.display.HTML object>"
            ],
            "text/html": [
              "\n",
              "  <style>\n",
              "    pre {\n",
              "        white-space: pre-wrap;\n",
              "    }\n",
              "  </style>\n",
              "  "
            ]
          },
          "metadata": {}
        },
        {
          "output_type": "stream",
          "name": "stdout",
          "text": [
            "running a query on the table captured as a image by the vision api \n",
            "\n",
            "\n",
            "Enter your question: what is the scale of improvement for object detection?\n",
            "\n",
            "this is the prompt that is provided to the LLM\n",
            " Answer this question: what is the scale of improvement for object detection? using the context provided. You should avoid providing incorrect answers if you do not have the context.\n",
            "\n",
            " initial resposnse from LLM without the context\n",
            " The provided context does not mention anything about the scale of improvement for object detection, so I cannot answer this question from the provided context.\n",
            "\n",
            " the resposnse from LLM when context is provided\n",
            " The scale of improvement for object detection is **0.63%**.\n",
            "\n",
            "This can be found in the table provided in the context, under the \"Vision\" category and \"Object Detection\" task. The previous state-of-the-art (SOTA) model for object detection was DINO, with an AP of 63.30. BEiT-3 improved upon this by achieving an AP of 63.70, which represents a scale of improvement of 0.63%.\n"
          ]
        }
      ]
    },
    {
      "cell_type": "markdown",
      "source": [
        "The vision api is able to pull the exact information of 0.63% from the table"
      ],
      "metadata": {
        "id": "BefnfWbf8ux8"
      }
    },
    {
      "cell_type": "code",
      "source": [
        "doc = []\n",
        "pages = read_pdf('./HAI_AI-Index-Report_2023.pdf', doc)\n",
        "#pages = read_pdf('./HAIReport.pdf', doc)\n",
        "print(\"Length of the pdf in number of pages: \", len(doc))"
      ],
      "metadata": {
        "colab": {
          "base_uri": "https://localhost:8080/",
          "height": 86
        },
        "id": "ArI2-dIKUdcg",
        "outputId": "e6a8a25f-f138-4028-cd7c-66d31fafdf78"
      },
      "execution_count": null,
      "outputs": [
        {
          "output_type": "display_data",
          "data": {
            "text/plain": [
              "<IPython.core.display.HTML object>"
            ],
            "text/html": [
              "\n",
              "  <style>\n",
              "    pre {\n",
              "        white-space: pre-wrap;\n",
              "    }\n",
              "  </style>\n",
              "  "
            ]
          },
          "metadata": {}
        },
        {
          "output_type": "display_data",
          "data": {
            "text/plain": [
              "<IPython.core.display.HTML object>"
            ],
            "text/html": [
              "\n",
              "  <style>\n",
              "    pre {\n",
              "        white-space: pre-wrap;\n",
              "    }\n",
              "  </style>\n",
              "  "
            ]
          },
          "metadata": {}
        },
        {
          "output_type": "display_data",
          "data": {
            "text/plain": [
              "<IPython.core.display.HTML object>"
            ],
            "text/html": [
              "\n",
              "  <style>\n",
              "    pre {\n",
              "        white-space: pre-wrap;\n",
              "    }\n",
              "  </style>\n",
              "  "
            ]
          },
          "metadata": {}
        },
        {
          "output_type": "stream",
          "name": "stderr",
          "text": [
            "PdfReadWarning: Xref table not zero-indexed. ID numbers for objects will be corrected. [pdf.py:1801]\n"
          ]
        },
        {
          "output_type": "stream",
          "name": "stdout",
          "text": [
            "Title:  \n",
            "Author:  \n",
            "Length of the pdf in number of pages:  386\n"
          ]
        }
      ]
    },
    {
      "cell_type": "code",
      "source": [
        "print(\"This is the page that was referenced above with the vision api\\n\\n\", doc[92])"
      ],
      "metadata": {
        "colab": {
          "base_uri": "https://localhost:8080/",
          "height": 399
        },
        "id": "oj0GBkM-c_ED",
        "outputId": "4b051604-1163-4b57-d7ff-7ba017a3bf21"
      },
      "execution_count": null,
      "outputs": [
        {
          "output_type": "display_data",
          "data": {
            "text/plain": [
              "<IPython.core.display.HTML object>"
            ],
            "text/html": [
              "\n",
              "  <style>\n",
              "    pre {\n",
              "        white-space: pre-wrap;\n",
              "    }\n",
              "  </style>\n",
              "  "
            ]
          },
          "metadata": {}
        },
        {
          "output_type": "display_data",
          "data": {
            "text/plain": [
              "<IPython.core.display.HTML object>"
            ],
            "text/html": [
              "\n",
              "  <style>\n",
              "    pre {\n",
              "        white-space: pre-wrap;\n",
              "    }\n",
              "  </style>\n",
              "  "
            ]
          },
          "metadata": {}
        },
        {
          "output_type": "display_data",
          "data": {
            "text/plain": [
              "<IPython.core.display.HTML object>"
            ],
            "text/html": [
              "\n",
              "  <style>\n",
              "    pre {\n",
              "        white-space: pre-wrap;\n",
              "    }\n",
              "  </style>\n",
              "  "
            ]
          },
          "metadata": {}
        },
        {
          "output_type": "stream",
          "name": "stdout",
          "text": [
            "This is the page that was referenced above with the vision api\n",
            "\n",
            " (93, 'AArrttiifificciiaall IInntteelllliiggeennccee Chapter 2: Technical Performance\\nIInnddeexx RReeppoorrtt 22002233\\n2.1 Computer Vision–Image\\nNarrative Highlight:\\nThe Rise of Capable Multimodal Reasoning Systems\\nTraditionally AI has been strong in narrow tasks, models were introduced, for example BEiT-3 from\\nbut it has been unable to easily generalize across Microsoft and PaLI from Google, that posted state-\\nmultiple domains. For instance, many image of-the-art results across a variety of both vision and\\nclassifiers are adept at classifying images but are language benchmarks. For example, at the time of\\nincapable of understanding written text. publication of the BEiT-3 paper, BEiT-3 posted state-\\nof-the-art results for four different vision skills and\\nHowever, recent technical progress in AI has\\nfive different vision-language skills (Figure 2.2.22).\\nbegun to challenge this notion. In 2022, several\\nBEiT-3 Vs. Previous State-of-the-Art Models\\nBBEEiiTT--33 VVss.. PPrreevviioouuss SSttaattee--ooff--tthhee--AArrtt MMooddeellss\\nSource: Wang et al., 2022 | Table: 2023 AI Index Report\\nSSoouurrccee:: WWaanngg eett aall..,, 22002222 || TTaabbllee:: 22002233 AAII IInnddeexx RReeppoorrtt\\nCCC aaa ttt eee ggg ooo rrr yyy TTT aaa sss kkk DDD aaa ttt aaa sss eee ttt MMM eee ttt rrr iii ccc PPP rrr eee vvv iii ooo uuu sss SSS OOO TTT AAA MMM ooo ddd eee lll ooo fff BBB EEE iii TTT --- 333 SSS ccc aaa lll eee ooo fff\\nPrevious SOTA Improvement\\nPPrreevviioouuss SSOOTTAA IImmpprroovveemmeenntt\\nVVV iisi ss iioi oo nnn SSS eee mmm aaa nnn ttt iici cc AAA DDD EEE 222 000 KKK mmm III ooo UUU 666 111 ... 444 000 FFF DDD --- SSS www iii mmm VVV 222 666 222 ... 888 000 222 ... 222 888 %%%\\nSegmentation\\nSSeeggmmeennttaattiioonn\\nVVV iisi ss iioi oo nnn OOO bbb jjej ee ccc ttt CCC OOO CCC OOO AAA PPP 666 333 ... 333 000 DDD III NNN OOO 666 333 ... 777 000 000 ... 666 333 %%%\\nDetection\\nDDeetteeccttiioonn\\nVVV iisi ss iioi oo nnn IInI nn sss ttt aaa nnn ccc eee CCC OOO CCC OOO AAA PPP 555 444 ... 777 000 MMM aaa sss kkk DDD III NNN OOO 555 444 ... 888 000 000 ..1. 11 888 %%%\\nSegmentation\\nSSeeggmmeennttaattiioonn\\nVVV iisi ss iioi oo nnn IImI mm aaa ggg eee III mmm aaa ggg eee NNN eee ttt TTT ooo ppp --- 111 AAA ccc ccc uuu rrr aaa ccc yyy 888 999 ... 000 000 FFF DDD --- CCC LLL III PPP 888 999 ... 666 000 000 ... 666 777 %%%\\nClassi  cation\\nCCllaassssii   ccaattiioonn\\nVVV iisi ss iioi oo nnn --- LLL aaa nnn ggg uuu aaa ggg eee VVV iisi ss uuu aaa lll NNN LLL VVV RRR AAA ccc ccc uuu rrr aaa ccc yyy 888 777 ... 000 000 CCC ooo CCC AAA 999 222 ... 666 000 666 ... 444 444 %%%\\nReasoning\\nRReeaassoonniinngg\\nVision-Language Visual QA VQAv2 VQA Accuracy 82.30 CoCA 84.00 2.07%\\nVViissiioonn--LLaanngguuaaggee VViissuuaall QQAA VVQQAAvv22 VVQQAA AAccccuurraaccyy 8822..3300 CCooCCAA 8844..0000 22..0077%%\\nVVV iisi ss iioi oo nnn --- LLL aaa nnn ggg uuu aaa ggg eee IImI mm aaa ggg eee CCC OOO CCC OOO CCC III DDD EEE rrr 111 444 555 ... 333 000 OOO FFF AAA 111 444 777 ... 666 000 111 ... 555 888 %%%\\nCaptioning\\nCCaappttiioonniinngg\\nVVV iisi ss iioi oo nnn --- LLL aaa nnn ggg uuu aaa ggg eee FFF iini nn eee ttt uuu nnn eee ddd CCC OOO CCC OOO RRR @@@ 111 777 222 ... 555 000 FFF lll ooo rrr eee nnn ccc eee 777 666 ... 000 000 444 ... 888 333 %%%\\nRetrieval Flickr30K\\nRReettrriieevvaall FFlliicckkrr3300KK\\nVVV iisi ss iioi oo nnn --- LLL aaa nnn ggg uuu aaa ggg eee ZZZ eee rrr ooo --- SSS hhh ooo ttt FFF llil ici cc kkk rrr 333 000 KKK RRR @@@ 111 888 666 ... 555 000 CCC ooo CCC AAA 888 888 ... 222 000 111 ... 999 777 %%%\\nRetrieval\\nRReettrriieevvaall\\nFigure 2.2.22\\nTable of Contents Chapter 2 Preview 93')\n"
          ]
        }
      ]
    },
    {
      "cell_type": "code",
      "source": [
        "print(\"running a query on the pdf table \\n\\n\")\n",
        "prompt = format_query()\n",
        "run_query(prompt, doc[92])"
      ],
      "metadata": {
        "colab": {
          "base_uri": "https://localhost:8080/",
          "height": 243
        },
        "id": "mXjQCvBb4iGg",
        "outputId": "8e65a77c-a0d0-40f9-aef9-ad567f183b1b"
      },
      "execution_count": null,
      "outputs": [
        {
          "output_type": "display_data",
          "data": {
            "text/plain": [
              "<IPython.core.display.HTML object>"
            ],
            "text/html": [
              "\n",
              "  <style>\n",
              "    pre {\n",
              "        white-space: pre-wrap;\n",
              "    }\n",
              "  </style>\n",
              "  "
            ]
          },
          "metadata": {}
        },
        {
          "output_type": "display_data",
          "data": {
            "text/plain": [
              "<IPython.core.display.HTML object>"
            ],
            "text/html": [
              "\n",
              "  <style>\n",
              "    pre {\n",
              "        white-space: pre-wrap;\n",
              "    }\n",
              "  </style>\n",
              "  "
            ]
          },
          "metadata": {}
        },
        {
          "output_type": "display_data",
          "data": {
            "text/plain": [
              "<IPython.core.display.HTML object>"
            ],
            "text/html": [
              "\n",
              "  <style>\n",
              "    pre {\n",
              "        white-space: pre-wrap;\n",
              "    }\n",
              "  </style>\n",
              "  "
            ]
          },
          "metadata": {}
        },
        {
          "output_type": "stream",
          "name": "stdout",
          "text": [
            "running a query on the pdf table \n",
            "\n",
            "\n",
            "Enter your question: what is the scale of improvement for object detection?\n",
            "\n",
            "this is the prompt that is provided to the LLM\n",
            " Answer this question: what is the scale of improvement for object detection? using the context provided. You should avoid providing incorrect answers if you do not have the context.\n",
            "\n",
            " initial resposnse from LLM without the context\n",
            " I cannot answer this question because the context has not been provided.\n",
            "\n",
            " the resposnse from LLM when context is provided\n",
            " The scale of improvement for object detection is 555.444% over the previous state-of-the-art models.\n"
          ]
        }
      ]
    },
    {
      "cell_type": "markdown",
      "source": [
        "The LLM is hallucinating when querying a pdf table by providing a value of 555.444%"
      ],
      "metadata": {
        "id": "IQpgvUy677ZW"
      }
    }
  ]
}