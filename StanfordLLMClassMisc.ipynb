{
  "nbformat": 4,
  "nbformat_minor": 0,
  "metadata": {
    "colab": {
      "provenance": [],
      "authorship_tag": "ABX9TyPX+NrLE4tKBys7kLl7e8/P",
      "include_colab_link": true
    },
    "kernelspec": {
      "name": "python3",
      "display_name": "Python 3"
    },
    "language_info": {
      "name": "python"
    }
  },
  "cells": [
    {
      "cell_type": "markdown",
      "metadata": {
        "id": "view-in-github",
        "colab_type": "text"
      },
      "source": [
        "<a href=\"https://colab.research.google.com/github/imusicmash/stanford_llm_python/blob/main/StanfordLLMClassMisc.ipynb\" target=\"_parent\"><img src=\"https://colab.research.google.com/assets/colab-badge.svg\" alt=\"Open In Colab\"/></a>"
      ]
    },
    {
      "cell_type": "code",
      "execution_count": null,
      "metadata": {
        "id": "5wOxqn199DLs"
      },
      "outputs": [],
      "source": [
        "# from James rhodes to try to pull phone number off a doc\n",
        "def answer_question(query):\n",
        "    instructions_template_string = \"\"\"Ignore all previous instructions and answer from the provided lecture material. \" +\n",
        "        \"You are a highly intelligent college professor teaching a college level course.  \" +\n",
        "        \"Students will ask questions from my lecture material below.  \" +\n",
        "        \"Your task is to give the students the best answer from the lecture material.  \" +\n",
        "        \"You will only answer from the lecture material and not from any supplemental sources like the internet or wikipedia.  \" +\n",
        "        \"Please do your best to keep your answers short and concise.\" +\n",
        "        \"Remind the student that you are here to help 24/7 and you want the students to love learning and ask more questions.  \" +\n",
        "        \"Avoid simply providing the answer and try to explain the answer as if explaining to a second grader. \" +\n",
        "        \"Answer ONLY from the lecture material and if you are unclear ask the student questions to help determine the question.  \" +\n",
        "        \"Do not restate the question when answering the question and don't provide incorrect answers. \" +\n",
        "        \"Ignore in appropriate questions and don't even answer them. \"\n",
        "        \"\"\n",
        "        \"Lecture: {context_str}\"\n",
        "        \"\"\n",
        "        \"Query: {query_str}\"\n",
        "        \"Answer: \"\n",
        "        \"\"\"\n",
        "    instructions_template = PromptTemplate(instructions_template_string)\n",
        "    llm = OpenAI(temperature=7, model=\"gpt-3.5-turbo\", max_tokens=8000)\n",
        "    pc = Pinecone(api_key=PINECONE_API_KEY)\n",
        "    pinecone_index = pc.Index(\"delacy-ai\")\n",
        "    vector_store = PineconeVectorStore(pinecone_index=pinecone_index)\n",
        "    vector_index = VectorStoreIndex.from_vector_store(vector_store=vector_store)\n",
        "    # Grab 5 search results\n",
        "    retriever = VectorIndexRetriever(index=vector_index, similarity_top_k=3, llm=llm)\n",
        "    # Pass in your retriever from above, which is configured to return the top 5 results\n",
        "    query_engine = RetrieverQueryEngine(retriever=retriever)\n",
        "    query_engine.update_prompts(\n",
        "        {\"response_synthesizer:text_qa_template\": instructions_template}\n",
        "    )\n",
        "    llm_query = query_engine.query(query)\n",
        "    response = llm_query.response\n",
        "    return response"
      ]
    }
  ]
}