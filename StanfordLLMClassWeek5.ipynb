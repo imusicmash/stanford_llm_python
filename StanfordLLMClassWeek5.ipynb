{
  "nbformat": 4,
  "nbformat_minor": 0,
  "metadata": {
    "colab": {
      "provenance": [],
      "gpuType": "T4",
      "include_colab_link": true
    },
    "kernelspec": {
      "name": "python3",
      "display_name": "Python 3"
    },
    "language_info": {
      "name": "python"
    }
  },
  "cells": [
    {
      "cell_type": "markdown",
      "metadata": {
        "id": "view-in-github",
        "colab_type": "text"
      },
      "source": [
        "<a href=\"https://colab.research.google.com/github/imusicmash/stanford_llm_python/blob/main/StanfordLLMClassWeek5.ipynb\" target=\"_parent\"><img src=\"https://colab.research.google.com/assets/colab-badge.svg\" alt=\"Open In Colab\"/></a>"
      ]
    },
    {
      "cell_type": "code",
      "source": [
        "!pip install openai\n",
        "!pip install sentence-transformers\n",
        "!pip install langchain pypdf langchain-openai #tiktoken chromadb"
      ],
      "metadata": {
        "id": "UAsj88npPdRu"
      },
      "execution_count": null,
      "outputs": []
    },
    {
      "cell_type": "code",
      "source": [
        "# need thes aysnc stuff later for the agent summary to work\n",
        "!pip install nest-asyncio\n",
        "import nest_asyncio\n",
        "nest_asyncio.apply()"
      ],
      "metadata": {
        "colab": {
          "base_uri": "https://localhost:8080/"
        },
        "id": "L9SSNF_3NdKY",
        "outputId": "c60065ba-c79d-4d31-c7ac-ca92df86f0a8"
      },
      "execution_count": 11,
      "outputs": [
        {
          "output_type": "stream",
          "name": "stdout",
          "text": [
            "Requirement already satisfied: nest-asyncio in /usr/local/lib/python3.10/dist-packages (1.6.0)\n"
          ]
        }
      ]
    },
    {
      "cell_type": "markdown",
      "source": [
        "# RAG"
      ],
      "metadata": {
        "id": "JlNnTJmFN6k9"
      }
    },
    {
      "cell_type": "code",
      "source": [
        "!pip install llama-index --upgrade"
      ],
      "metadata": {
        "colab": {
          "base_uri": "https://localhost:8080/"
        },
        "id": "o2XmY9HZN-Ji",
        "outputId": "46745943-f536-4e4d-987e-169d4b4bf669"
      },
      "execution_count": 6,
      "outputs": [
        {
          "output_type": "stream",
          "name": "stdout",
          "text": [
            "Collecting llama-index\n",
            "  Downloading llama_index-0.10.15-py3-none-any.whl (5.6 kB)\n",
            "Collecting llama-index-agent-openai<0.2.0,>=0.1.4 (from llama-index)\n",
            "  Downloading llama_index_agent_openai-0.1.5-py3-none-any.whl (12 kB)\n",
            "Collecting llama-index-cli<0.2.0,>=0.1.2 (from llama-index)\n",
            "  Downloading llama_index_cli-0.1.7-py3-none-any.whl (25 kB)\n",
            "Collecting llama-index-core<0.11.0,>=0.10.15 (from llama-index)\n",
            "  Downloading llama_index_core-0.10.15-py3-none-any.whl (15.3 MB)\n",
            "\u001b[2K     \u001b[90m━━━━━━━━━━━━━━━━━━━━━━━━━━━━━━━━━━━━━━━━\u001b[0m \u001b[32m15.3/15.3 MB\u001b[0m \u001b[31m67.5 MB/s\u001b[0m eta \u001b[36m0:00:00\u001b[0m\n",
            "\u001b[?25hCollecting llama-index-embeddings-openai<0.2.0,>=0.1.5 (from llama-index)\n",
            "  Downloading llama_index_embeddings_openai-0.1.6-py3-none-any.whl (6.0 kB)\n",
            "Collecting llama-index-indices-managed-llama-cloud<0.2.0,>=0.1.2 (from llama-index)\n",
            "  Downloading llama_index_indices_managed_llama_cloud-0.1.3-py3-none-any.whl (6.6 kB)\n",
            "Collecting llama-index-legacy<0.10.0,>=0.9.48 (from llama-index)\n",
            "  Downloading llama_index_legacy-0.9.48-py3-none-any.whl (2.0 MB)\n",
            "\u001b[2K     \u001b[90m━━━━━━━━━━━━━━━━━━━━━━━━━━━━━━━━━━━━━━━━\u001b[0m \u001b[32m2.0/2.0 MB\u001b[0m \u001b[31m82.3 MB/s\u001b[0m eta \u001b[36m0:00:00\u001b[0m\n",
            "\u001b[?25hCollecting llama-index-llms-openai<0.2.0,>=0.1.5 (from llama-index)\n",
            "  Downloading llama_index_llms_openai-0.1.7-py3-none-any.whl (9.3 kB)\n",
            "Collecting llama-index-multi-modal-llms-openai<0.2.0,>=0.1.3 (from llama-index)\n",
            "  Downloading llama_index_multi_modal_llms_openai-0.1.4-py3-none-any.whl (5.8 kB)\n",
            "Collecting llama-index-program-openai<0.2.0,>=0.1.3 (from llama-index)\n",
            "  Downloading llama_index_program_openai-0.1.4-py3-none-any.whl (4.1 kB)\n",
            "Collecting llama-index-question-gen-openai<0.2.0,>=0.1.2 (from llama-index)\n",
            "  Downloading llama_index_question_gen_openai-0.1.3-py3-none-any.whl (2.9 kB)\n",
            "Collecting llama-index-readers-file<0.2.0,>=0.1.4 (from llama-index)\n",
            "  Downloading llama_index_readers_file-0.1.6-py3-none-any.whl (34 kB)\n",
            "Collecting llama-index-readers-llama-parse<0.2.0,>=0.1.2 (from llama-index)\n",
            "  Downloading llama_index_readers_llama_parse-0.1.3-py3-none-any.whl (2.5 kB)\n",
            "Collecting llama-index-vector-stores-chroma<0.2.0,>=0.1.1 (from llama-index-cli<0.2.0,>=0.1.2->llama-index)\n",
            "  Downloading llama_index_vector_stores_chroma-0.1.5-py3-none-any.whl (4.7 kB)\n",
            "Requirement already satisfied: PyYAML>=6.0.1 in /usr/local/lib/python3.10/dist-packages (from llama-index-core<0.11.0,>=0.10.15->llama-index) (6.0.1)\n",
            "Requirement already satisfied: SQLAlchemy[asyncio]>=1.4.49 in /usr/local/lib/python3.10/dist-packages (from llama-index-core<0.11.0,>=0.10.15->llama-index) (2.0.27)\n",
            "Requirement already satisfied: aiohttp<4.0.0,>=3.8.6 in /usr/local/lib/python3.10/dist-packages (from llama-index-core<0.11.0,>=0.10.15->llama-index) (3.9.3)\n",
            "Collecting dataclasses-json (from llama-index-core<0.11.0,>=0.10.15->llama-index)\n",
            "  Downloading dataclasses_json-0.6.4-py3-none-any.whl (28 kB)\n",
            "Collecting deprecated>=1.2.9.3 (from llama-index-core<0.11.0,>=0.10.15->llama-index)\n",
            "  Downloading Deprecated-1.2.14-py2.py3-none-any.whl (9.6 kB)\n",
            "Collecting dirtyjson<2.0.0,>=1.0.8 (from llama-index-core<0.11.0,>=0.10.15->llama-index)\n",
            "  Downloading dirtyjson-1.0.8-py3-none-any.whl (25 kB)\n",
            "Requirement already satisfied: fsspec>=2023.5.0 in /usr/local/lib/python3.10/dist-packages (from llama-index-core<0.11.0,>=0.10.15->llama-index) (2023.6.0)\n",
            "Collecting httpx (from llama-index-core<0.11.0,>=0.10.15->llama-index)\n",
            "  Downloading httpx-0.27.0-py3-none-any.whl (75 kB)\n",
            "\u001b[2K     \u001b[90m━━━━━━━━━━━━━━━━━━━━━━━━━━━━━━━━━━━━━━━━\u001b[0m \u001b[32m75.6/75.6 kB\u001b[0m \u001b[31m11.7 MB/s\u001b[0m eta \u001b[36m0:00:00\u001b[0m\n",
            "\u001b[?25hCollecting llamaindex-py-client<0.2.0,>=0.1.13 (from llama-index-core<0.11.0,>=0.10.15->llama-index)\n",
            "  Downloading llamaindex_py_client-0.1.13-py3-none-any.whl (107 kB)\n",
            "\u001b[2K     \u001b[90m━━━━━━━━━━━━━━━━━━━━━━━━━━━━━━━━━━━━━━━━\u001b[0m \u001b[32m108.0/108.0 kB\u001b[0m \u001b[31m15.3 MB/s\u001b[0m eta \u001b[36m0:00:00\u001b[0m\n",
            "\u001b[?25hRequirement already satisfied: nest-asyncio<2.0.0,>=1.5.8 in /usr/local/lib/python3.10/dist-packages (from llama-index-core<0.11.0,>=0.10.15->llama-index) (1.6.0)\n",
            "Requirement already satisfied: networkx>=3.0 in /usr/local/lib/python3.10/dist-packages (from llama-index-core<0.11.0,>=0.10.15->llama-index) (3.2.1)\n",
            "Requirement already satisfied: nltk<4.0.0,>=3.8.1 in /usr/local/lib/python3.10/dist-packages (from llama-index-core<0.11.0,>=0.10.15->llama-index) (3.8.1)\n",
            "Requirement already satisfied: numpy in /usr/local/lib/python3.10/dist-packages (from llama-index-core<0.11.0,>=0.10.15->llama-index) (1.25.2)\n",
            "Collecting openai>=1.1.0 (from llama-index-core<0.11.0,>=0.10.15->llama-index)\n",
            "  Downloading openai-1.13.3-py3-none-any.whl (227 kB)\n",
            "\u001b[2K     \u001b[90m━━━━━━━━━━━━━━━━━━━━━━━━━━━━━━━━━━━━━━━━\u001b[0m \u001b[32m227.4/227.4 kB\u001b[0m \u001b[31m26.8 MB/s\u001b[0m eta \u001b[36m0:00:00\u001b[0m\n",
            "\u001b[?25hRequirement already satisfied: pandas in /usr/local/lib/python3.10/dist-packages (from llama-index-core<0.11.0,>=0.10.15->llama-index) (1.5.3)\n",
            "Requirement already satisfied: pillow>=9.0.0 in /usr/local/lib/python3.10/dist-packages (from llama-index-core<0.11.0,>=0.10.15->llama-index) (9.4.0)\n",
            "Requirement already satisfied: requests>=2.31.0 in /usr/local/lib/python3.10/dist-packages (from llama-index-core<0.11.0,>=0.10.15->llama-index) (2.31.0)\n",
            "Requirement already satisfied: tenacity<9.0.0,>=8.2.0 in /usr/local/lib/python3.10/dist-packages (from llama-index-core<0.11.0,>=0.10.15->llama-index) (8.2.3)\n",
            "Collecting tiktoken>=0.3.3 (from llama-index-core<0.11.0,>=0.10.15->llama-index)\n",
            "  Downloading tiktoken-0.6.0-cp310-cp310-manylinux_2_17_x86_64.manylinux2014_x86_64.whl (1.8 MB)\n",
            "\u001b[2K     \u001b[90m━━━━━━━━━━━━━━━━━━━━━━━━━━━━━━━━━━━━━━━━\u001b[0m \u001b[32m1.8/1.8 MB\u001b[0m \u001b[31m87.2 MB/s\u001b[0m eta \u001b[36m0:00:00\u001b[0m\n",
            "\u001b[?25hRequirement already satisfied: tqdm<5.0.0,>=4.66.1 in /usr/local/lib/python3.10/dist-packages (from llama-index-core<0.11.0,>=0.10.15->llama-index) (4.66.2)\n",
            "Requirement already satisfied: typing-extensions>=4.5.0 in /usr/local/lib/python3.10/dist-packages (from llama-index-core<0.11.0,>=0.10.15->llama-index) (4.10.0)\n",
            "Collecting typing-inspect>=0.8.0 (from llama-index-core<0.11.0,>=0.10.15->llama-index)\n",
            "  Downloading typing_inspect-0.9.0-py3-none-any.whl (8.8 kB)\n",
            "Requirement already satisfied: beautifulsoup4<5.0.0,>=4.12.3 in /usr/local/lib/python3.10/dist-packages (from llama-index-readers-file<0.2.0,>=0.1.4->llama-index) (4.12.3)\n",
            "Collecting bs4<0.0.3,>=0.0.2 (from llama-index-readers-file<0.2.0,>=0.1.4->llama-index)\n",
            "  Downloading bs4-0.0.2-py2.py3-none-any.whl (1.2 kB)\n",
            "Collecting pymupdf<2.0.0,>=1.23.21 (from llama-index-readers-file<0.2.0,>=0.1.4->llama-index)\n",
            "  Downloading PyMuPDF-1.23.26-cp310-none-manylinux2014_x86_64.whl (4.4 MB)\n",
            "\u001b[2K     \u001b[90m━━━━━━━━━━━━━━━━━━━━━━━━━━━━━━━━━━━━━━━━\u001b[0m \u001b[32m4.4/4.4 MB\u001b[0m \u001b[31m92.7 MB/s\u001b[0m eta \u001b[36m0:00:00\u001b[0m\n",
            "\u001b[?25hCollecting pypdf<5.0.0,>=4.0.1 (from llama-index-readers-file<0.2.0,>=0.1.4->llama-index)\n",
            "  Downloading pypdf-4.1.0-py3-none-any.whl (286 kB)\n",
            "\u001b[2K     \u001b[90m━━━━━━━━━━━━━━━━━━━━━━━━━━━━━━━━━━━━━━━━\u001b[0m \u001b[32m286.1/286.1 kB\u001b[0m \u001b[31m35.0 MB/s\u001b[0m eta \u001b[36m0:00:00\u001b[0m\n",
            "\u001b[?25hCollecting llama-parse<0.4.0,>=0.3.3 (from llama-index-readers-llama-parse<0.2.0,>=0.1.2->llama-index)\n",
            "  Downloading llama_parse-0.3.5-py3-none-any.whl (7.7 kB)\n",
            "Requirement already satisfied: aiosignal>=1.1.2 in /usr/local/lib/python3.10/dist-packages (from aiohttp<4.0.0,>=3.8.6->llama-index-core<0.11.0,>=0.10.15->llama-index) (1.3.1)\n",
            "Requirement already satisfied: attrs>=17.3.0 in /usr/local/lib/python3.10/dist-packages (from aiohttp<4.0.0,>=3.8.6->llama-index-core<0.11.0,>=0.10.15->llama-index) (23.2.0)\n",
            "Requirement already satisfied: frozenlist>=1.1.1 in /usr/local/lib/python3.10/dist-packages (from aiohttp<4.0.0,>=3.8.6->llama-index-core<0.11.0,>=0.10.15->llama-index) (1.4.1)\n",
            "Requirement already satisfied: multidict<7.0,>=4.5 in /usr/local/lib/python3.10/dist-packages (from aiohttp<4.0.0,>=3.8.6->llama-index-core<0.11.0,>=0.10.15->llama-index) (6.0.5)\n",
            "Requirement already satisfied: yarl<2.0,>=1.0 in /usr/local/lib/python3.10/dist-packages (from aiohttp<4.0.0,>=3.8.6->llama-index-core<0.11.0,>=0.10.15->llama-index) (1.9.4)\n",
            "Requirement already satisfied: async-timeout<5.0,>=4.0 in /usr/local/lib/python3.10/dist-packages (from aiohttp<4.0.0,>=3.8.6->llama-index-core<0.11.0,>=0.10.15->llama-index) (4.0.3)\n",
            "Requirement already satisfied: soupsieve>1.2 in /usr/local/lib/python3.10/dist-packages (from beautifulsoup4<5.0.0,>=4.12.3->llama-index-readers-file<0.2.0,>=0.1.4->llama-index) (2.5)\n",
            "Requirement already satisfied: wrapt<2,>=1.10 in /usr/local/lib/python3.10/dist-packages (from deprecated>=1.2.9.3->llama-index-core<0.11.0,>=0.10.15->llama-index) (1.14.1)\n",
            "Collecting chromadb<0.5.0,>=0.4.22 (from llama-index-vector-stores-chroma<0.2.0,>=0.1.1->llama-index-cli<0.2.0,>=0.1.2->llama-index)\n",
            "  Downloading chromadb-0.4.24-py3-none-any.whl (525 kB)\n",
            "\u001b[2K     \u001b[90m━━━━━━━━━━━━━━━━━━━━━━━━━━━━━━━━━━━━━━━━\u001b[0m \u001b[32m525.5/525.5 kB\u001b[0m \u001b[31m48.0 MB/s\u001b[0m eta \u001b[36m0:00:00\u001b[0m\n",
            "\u001b[?25hCollecting onnxruntime<2.0.0,>=1.17.0 (from llama-index-vector-stores-chroma<0.2.0,>=0.1.1->llama-index-cli<0.2.0,>=0.1.2->llama-index)\n",
            "  Downloading onnxruntime-1.17.1-cp310-cp310-manylinux_2_27_x86_64.manylinux_2_28_x86_64.whl (6.8 MB)\n",
            "\u001b[2K     \u001b[90m━━━━━━━━━━━━━━━━━━━━━━━━━━━━━━━━━━━━━━━━\u001b[0m \u001b[32m6.8/6.8 MB\u001b[0m \u001b[31m98.8 MB/s\u001b[0m eta \u001b[36m0:00:00\u001b[0m\n",
            "\u001b[?25hRequirement already satisfied: tokenizers<0.16.0,>=0.15.1 in /usr/local/lib/python3.10/dist-packages (from llama-index-vector-stores-chroma<0.2.0,>=0.1.1->llama-index-cli<0.2.0,>=0.1.2->llama-index) (0.15.2)\n",
            "Requirement already satisfied: pydantic>=1.10 in /usr/local/lib/python3.10/dist-packages (from llamaindex-py-client<0.2.0,>=0.1.13->llama-index-core<0.11.0,>=0.10.15->llama-index) (2.6.3)\n",
            "Requirement already satisfied: anyio in /usr/local/lib/python3.10/dist-packages (from httpx->llama-index-core<0.11.0,>=0.10.15->llama-index) (3.7.1)\n",
            "Requirement already satisfied: certifi in /usr/local/lib/python3.10/dist-packages (from httpx->llama-index-core<0.11.0,>=0.10.15->llama-index) (2024.2.2)\n",
            "Collecting httpcore==1.* (from httpx->llama-index-core<0.11.0,>=0.10.15->llama-index)\n",
            "  Downloading httpcore-1.0.4-py3-none-any.whl (77 kB)\n",
            "\u001b[2K     \u001b[90m━━━━━━━━━━━━━━━━━━━━━━━━━━━━━━━━━━━━━━━━\u001b[0m \u001b[32m77.8/77.8 kB\u001b[0m \u001b[31m11.2 MB/s\u001b[0m eta \u001b[36m0:00:00\u001b[0m\n",
            "\u001b[?25hRequirement already satisfied: idna in /usr/local/lib/python3.10/dist-packages (from httpx->llama-index-core<0.11.0,>=0.10.15->llama-index) (3.6)\n",
            "Requirement already satisfied: sniffio in /usr/local/lib/python3.10/dist-packages (from httpx->llama-index-core<0.11.0,>=0.10.15->llama-index) (1.3.1)\n",
            "Collecting h11<0.15,>=0.13 (from httpcore==1.*->httpx->llama-index-core<0.11.0,>=0.10.15->llama-index)\n",
            "  Downloading h11-0.14.0-py3-none-any.whl (58 kB)\n",
            "\u001b[2K     \u001b[90m━━━━━━━━━━━━━━━━━━━━━━━━━━━━━━━━━━━━━━━━\u001b[0m \u001b[32m58.3/58.3 kB\u001b[0m \u001b[31m7.8 MB/s\u001b[0m eta \u001b[36m0:00:00\u001b[0m\n",
            "\u001b[?25hRequirement already satisfied: click in /usr/local/lib/python3.10/dist-packages (from nltk<4.0.0,>=3.8.1->llama-index-core<0.11.0,>=0.10.15->llama-index) (8.1.7)\n",
            "Requirement already satisfied: joblib in /usr/local/lib/python3.10/dist-packages (from nltk<4.0.0,>=3.8.1->llama-index-core<0.11.0,>=0.10.15->llama-index) (1.3.2)\n",
            "Requirement already satisfied: regex>=2021.8.3 in /usr/local/lib/python3.10/dist-packages (from nltk<4.0.0,>=3.8.1->llama-index-core<0.11.0,>=0.10.15->llama-index) (2023.12.25)\n",
            "Requirement already satisfied: distro<2,>=1.7.0 in /usr/lib/python3/dist-packages (from openai>=1.1.0->llama-index-core<0.11.0,>=0.10.15->llama-index) (1.7.0)\n",
            "Collecting PyMuPDFb==1.23.22 (from pymupdf<2.0.0,>=1.23.21->llama-index-readers-file<0.2.0,>=0.1.4->llama-index)\n",
            "  Downloading PyMuPDFb-1.23.22-py3-none-manylinux2014_x86_64.manylinux_2_17_x86_64.whl (30.6 MB)\n",
            "\u001b[2K     \u001b[90m━━━━━━━━━━━━━━━━━━━━━━━━━━━━━━━━━━━━━━━━\u001b[0m \u001b[32m30.6/30.6 MB\u001b[0m \u001b[31m17.3 MB/s\u001b[0m eta \u001b[36m0:00:00\u001b[0m\n",
            "\u001b[?25hRequirement already satisfied: charset-normalizer<4,>=2 in /usr/local/lib/python3.10/dist-packages (from requests>=2.31.0->llama-index-core<0.11.0,>=0.10.15->llama-index) (3.3.2)\n",
            "Requirement already satisfied: urllib3<3,>=1.21.1 in /usr/local/lib/python3.10/dist-packages (from requests>=2.31.0->llama-index-core<0.11.0,>=0.10.15->llama-index) (2.0.7)\n",
            "Requirement already satisfied: greenlet!=0.4.17 in /usr/local/lib/python3.10/dist-packages (from SQLAlchemy[asyncio]>=1.4.49->llama-index-core<0.11.0,>=0.10.15->llama-index) (3.0.3)\n",
            "Collecting mypy-extensions>=0.3.0 (from typing-inspect>=0.8.0->llama-index-core<0.11.0,>=0.10.15->llama-index)\n",
            "  Downloading mypy_extensions-1.0.0-py3-none-any.whl (4.7 kB)\n",
            "Collecting marshmallow<4.0.0,>=3.18.0 (from dataclasses-json->llama-index-core<0.11.0,>=0.10.15->llama-index)\n",
            "  Downloading marshmallow-3.21.1-py3-none-any.whl (49 kB)\n",
            "\u001b[2K     \u001b[90m━━━━━━━━━━━━━━━━━━━━━━━━━━━━━━━━━━━━━━━━\u001b[0m \u001b[32m49.4/49.4 kB\u001b[0m \u001b[31m6.8 MB/s\u001b[0m eta \u001b[36m0:00:00\u001b[0m\n",
            "\u001b[?25hRequirement already satisfied: python-dateutil>=2.8.1 in /usr/local/lib/python3.10/dist-packages (from pandas->llama-index-core<0.11.0,>=0.10.15->llama-index) (2.8.2)\n",
            "Requirement already satisfied: pytz>=2020.1 in /usr/local/lib/python3.10/dist-packages (from pandas->llama-index-core<0.11.0,>=0.10.15->llama-index) (2023.4)\n",
            "Requirement already satisfied: exceptiongroup in /usr/local/lib/python3.10/dist-packages (from anyio->httpx->llama-index-core<0.11.0,>=0.10.15->llama-index) (1.2.0)\n",
            "Requirement already satisfied: build>=1.0.3 in /usr/local/lib/python3.10/dist-packages (from chromadb<0.5.0,>=0.4.22->llama-index-vector-stores-chroma<0.2.0,>=0.1.1->llama-index-cli<0.2.0,>=0.1.2->llama-index) (1.0.3)\n",
            "Collecting chroma-hnswlib==0.7.3 (from chromadb<0.5.0,>=0.4.22->llama-index-vector-stores-chroma<0.2.0,>=0.1.1->llama-index-cli<0.2.0,>=0.1.2->llama-index)\n",
            "  Downloading chroma_hnswlib-0.7.3-cp310-cp310-manylinux_2_17_x86_64.manylinux2014_x86_64.whl (2.4 MB)\n",
            "\u001b[2K     \u001b[90m━━━━━━━━━━━━━━━━━━━━━━━━━━━━━━━━━━━━━━━━\u001b[0m \u001b[32m2.4/2.4 MB\u001b[0m \u001b[31m96.2 MB/s\u001b[0m eta \u001b[36m0:00:00\u001b[0m\n",
            "\u001b[?25hCollecting fastapi>=0.95.2 (from chromadb<0.5.0,>=0.4.22->llama-index-vector-stores-chroma<0.2.0,>=0.1.1->llama-index-cli<0.2.0,>=0.1.2->llama-index)\n",
            "  Downloading fastapi-0.110.0-py3-none-any.whl (92 kB)\n",
            "\u001b[2K     \u001b[90m━━━━━━━━━━━━━━━━━━━━━━━━━━━━━━━━━━━━━━━━\u001b[0m \u001b[32m92.1/92.1 kB\u001b[0m \u001b[31m13.0 MB/s\u001b[0m eta \u001b[36m0:00:00\u001b[0m\n",
            "\u001b[?25hCollecting uvicorn[standard]>=0.18.3 (from chromadb<0.5.0,>=0.4.22->llama-index-vector-stores-chroma<0.2.0,>=0.1.1->llama-index-cli<0.2.0,>=0.1.2->llama-index)\n",
            "  Downloading uvicorn-0.27.1-py3-none-any.whl (60 kB)\n",
            "\u001b[2K     \u001b[90m━━━━━━━━━━━━━━━━━━━━━━━━━━━━━━━━━━━━━━━━\u001b[0m \u001b[32m60.8/60.8 kB\u001b[0m \u001b[31m6.9 MB/s\u001b[0m eta \u001b[36m0:00:00\u001b[0m\n",
            "\u001b[?25hCollecting posthog>=2.4.0 (from chromadb<0.5.0,>=0.4.22->llama-index-vector-stores-chroma<0.2.0,>=0.1.1->llama-index-cli<0.2.0,>=0.1.2->llama-index)\n",
            "  Downloading posthog-3.5.0-py2.py3-none-any.whl (41 kB)\n",
            "\u001b[2K     \u001b[90m━━━━━━━━━━━━━━━━━━━━━━━━━━━━━━━━━━━━━━━━\u001b[0m \u001b[32m41.3/41.3 kB\u001b[0m \u001b[31m5.1 MB/s\u001b[0m eta \u001b[36m0:00:00\u001b[0m\n",
            "\u001b[?25hCollecting pulsar-client>=3.1.0 (from chromadb<0.5.0,>=0.4.22->llama-index-vector-stores-chroma<0.2.0,>=0.1.1->llama-index-cli<0.2.0,>=0.1.2->llama-index)\n",
            "  Downloading pulsar_client-3.4.0-cp310-cp310-manylinux_2_17_x86_64.manylinux2014_x86_64.whl (5.4 MB)\n",
            "\u001b[2K     \u001b[90m━━━━━━━━━━━━━━━━━━━━━━━━━━━━━━━━━━━━━━━━\u001b[0m \u001b[32m5.4/5.4 MB\u001b[0m \u001b[31m70.3 MB/s\u001b[0m eta \u001b[36m0:00:00\u001b[0m\n",
            "\u001b[?25hCollecting opentelemetry-api>=1.2.0 (from chromadb<0.5.0,>=0.4.22->llama-index-vector-stores-chroma<0.2.0,>=0.1.1->llama-index-cli<0.2.0,>=0.1.2->llama-index)\n",
            "  Downloading opentelemetry_api-1.23.0-py3-none-any.whl (58 kB)\n",
            "\u001b[2K     \u001b[90m━━━━━━━━━━━━━━━━━━━━━━━━━━━━━━━━━━━━━━━━\u001b[0m \u001b[32m58.4/58.4 kB\u001b[0m \u001b[31m7.3 MB/s\u001b[0m eta \u001b[36m0:00:00\u001b[0m\n",
            "\u001b[?25hCollecting opentelemetry-exporter-otlp-proto-grpc>=1.2.0 (from chromadb<0.5.0,>=0.4.22->llama-index-vector-stores-chroma<0.2.0,>=0.1.1->llama-index-cli<0.2.0,>=0.1.2->llama-index)\n",
            "  Downloading opentelemetry_exporter_otlp_proto_grpc-1.23.0-py3-none-any.whl (18 kB)\n",
            "Collecting opentelemetry-instrumentation-fastapi>=0.41b0 (from chromadb<0.5.0,>=0.4.22->llama-index-vector-stores-chroma<0.2.0,>=0.1.1->llama-index-cli<0.2.0,>=0.1.2->llama-index)\n",
            "  Downloading opentelemetry_instrumentation_fastapi-0.44b0-py3-none-any.whl (11 kB)\n",
            "Collecting opentelemetry-sdk>=1.2.0 (from chromadb<0.5.0,>=0.4.22->llama-index-vector-stores-chroma<0.2.0,>=0.1.1->llama-index-cli<0.2.0,>=0.1.2->llama-index)\n",
            "  Downloading opentelemetry_sdk-1.23.0-py3-none-any.whl (105 kB)\n",
            "\u001b[2K     \u001b[90m━━━━━━━━━━━━━━━━━━━━━━━━━━━━━━━━━━━━━━━━\u001b[0m \u001b[32m105.7/105.7 kB\u001b[0m \u001b[31m13.1 MB/s\u001b[0m eta \u001b[36m0:00:00\u001b[0m\n",
            "\u001b[?25hCollecting pypika>=0.48.9 (from chromadb<0.5.0,>=0.4.22->llama-index-vector-stores-chroma<0.2.0,>=0.1.1->llama-index-cli<0.2.0,>=0.1.2->llama-index)\n",
            "  Downloading PyPika-0.48.9.tar.gz (67 kB)\n",
            "\u001b[2K     \u001b[90m━━━━━━━━━━━━━━━━━━━━━━━━━━━━━━━━━━━━━━━━\u001b[0m \u001b[32m67.3/67.3 kB\u001b[0m \u001b[31m9.0 MB/s\u001b[0m eta \u001b[36m0:00:00\u001b[0m\n",
            "\u001b[?25h  Installing build dependencies ... \u001b[?25l\u001b[?25hdone\n",
            "  Getting requirements to build wheel ... \u001b[?25l\u001b[?25hdone\n",
            "  Preparing metadata (pyproject.toml) ... \u001b[?25l\u001b[?25hdone\n",
            "Collecting overrides>=7.3.1 (from chromadb<0.5.0,>=0.4.22->llama-index-vector-stores-chroma<0.2.0,>=0.1.1->llama-index-cli<0.2.0,>=0.1.2->llama-index)\n",
            "  Downloading overrides-7.7.0-py3-none-any.whl (17 kB)\n",
            "Requirement already satisfied: importlib-resources in /usr/local/lib/python3.10/dist-packages (from chromadb<0.5.0,>=0.4.22->llama-index-vector-stores-chroma<0.2.0,>=0.1.1->llama-index-cli<0.2.0,>=0.1.2->llama-index) (6.1.2)\n",
            "Requirement already satisfied: grpcio>=1.58.0 in /usr/local/lib/python3.10/dist-packages (from chromadb<0.5.0,>=0.4.22->llama-index-vector-stores-chroma<0.2.0,>=0.1.1->llama-index-cli<0.2.0,>=0.1.2->llama-index) (1.62.0)\n",
            "Collecting bcrypt>=4.0.1 (from chromadb<0.5.0,>=0.4.22->llama-index-vector-stores-chroma<0.2.0,>=0.1.1->llama-index-cli<0.2.0,>=0.1.2->llama-index)\n",
            "  Downloading bcrypt-4.1.2-cp39-abi3-manylinux_2_28_x86_64.whl (698 kB)\n",
            "\u001b[2K     \u001b[90m━━━━━━━━━━━━━━━━━━━━━━━━━━━━━━━━━━━━━━━━\u001b[0m \u001b[32m698.9/698.9 kB\u001b[0m \u001b[31m56.4 MB/s\u001b[0m eta \u001b[36m0:00:00\u001b[0m\n",
            "\u001b[?25hRequirement already satisfied: typer>=0.9.0 in /usr/local/lib/python3.10/dist-packages (from chromadb<0.5.0,>=0.4.22->llama-index-vector-stores-chroma<0.2.0,>=0.1.1->llama-index-cli<0.2.0,>=0.1.2->llama-index) (0.9.0)\n",
            "Collecting kubernetes>=28.1.0 (from chromadb<0.5.0,>=0.4.22->llama-index-vector-stores-chroma<0.2.0,>=0.1.1->llama-index-cli<0.2.0,>=0.1.2->llama-index)\n",
            "  Downloading kubernetes-29.0.0-py2.py3-none-any.whl (1.6 MB)\n",
            "\u001b[2K     \u001b[90m━━━━━━━━━━━━━━━━━━━━━━━━━━━━━━━━━━━━━━━━\u001b[0m \u001b[32m1.6/1.6 MB\u001b[0m \u001b[31m64.5 MB/s\u001b[0m eta \u001b[36m0:00:00\u001b[0m\n",
            "\u001b[?25hCollecting mmh3>=4.0.1 (from chromadb<0.5.0,>=0.4.22->llama-index-vector-stores-chroma<0.2.0,>=0.1.1->llama-index-cli<0.2.0,>=0.1.2->llama-index)\n",
            "  Downloading mmh3-4.1.0-cp310-cp310-manylinux_2_5_x86_64.manylinux1_x86_64.manylinux_2_17_x86_64.manylinux2014_x86_64.whl (67 kB)\n",
            "\u001b[2K     \u001b[90m━━━━━━━━━━━━━━━━━━━━━━━━━━━━━━━━━━━━━━━━\u001b[0m \u001b[32m67.6/67.6 kB\u001b[0m \u001b[31m9.2 MB/s\u001b[0m eta \u001b[36m0:00:00\u001b[0m\n",
            "\u001b[?25hCollecting orjson>=3.9.12 (from chromadb<0.5.0,>=0.4.22->llama-index-vector-stores-chroma<0.2.0,>=0.1.1->llama-index-cli<0.2.0,>=0.1.2->llama-index)\n",
            "  Downloading orjson-3.9.15-cp310-cp310-manylinux_2_17_x86_64.manylinux2014_x86_64.whl (138 kB)\n",
            "\u001b[2K     \u001b[90m━━━━━━━━━━━━━━━━━━━━━━━━━━━━━━━━━━━━━━━━\u001b[0m \u001b[32m138.5/138.5 kB\u001b[0m \u001b[31m19.6 MB/s\u001b[0m eta \u001b[36m0:00:00\u001b[0m\n",
            "\u001b[?25hRequirement already satisfied: packaging>=17.0 in /usr/local/lib/python3.10/dist-packages (from marshmallow<4.0.0,>=3.18.0->dataclasses-json->llama-index-core<0.11.0,>=0.10.15->llama-index) (23.2)\n",
            "Collecting coloredlogs (from onnxruntime<2.0.0,>=1.17.0->llama-index-vector-stores-chroma<0.2.0,>=0.1.1->llama-index-cli<0.2.0,>=0.1.2->llama-index)\n",
            "  Downloading coloredlogs-15.0.1-py2.py3-none-any.whl (46 kB)\n",
            "\u001b[2K     \u001b[90m━━━━━━━━━━━━━━━━━━━━━━━━━━━━━━━━━━━━━━━━\u001b[0m \u001b[32m46.0/46.0 kB\u001b[0m \u001b[31m6.0 MB/s\u001b[0m eta \u001b[36m0:00:00\u001b[0m\n",
            "\u001b[?25hRequirement already satisfied: flatbuffers in /usr/local/lib/python3.10/dist-packages (from onnxruntime<2.0.0,>=1.17.0->llama-index-vector-stores-chroma<0.2.0,>=0.1.1->llama-index-cli<0.2.0,>=0.1.2->llama-index) (23.5.26)\n",
            "Requirement already satisfied: protobuf in /usr/local/lib/python3.10/dist-packages (from onnxruntime<2.0.0,>=1.17.0->llama-index-vector-stores-chroma<0.2.0,>=0.1.1->llama-index-cli<0.2.0,>=0.1.2->llama-index) (3.20.3)\n",
            "Requirement already satisfied: sympy in /usr/local/lib/python3.10/dist-packages (from onnxruntime<2.0.0,>=1.17.0->llama-index-vector-stores-chroma<0.2.0,>=0.1.1->llama-index-cli<0.2.0,>=0.1.2->llama-index) (1.12)\n",
            "Requirement already satisfied: annotated-types>=0.4.0 in /usr/local/lib/python3.10/dist-packages (from pydantic>=1.10->llamaindex-py-client<0.2.0,>=0.1.13->llama-index-core<0.11.0,>=0.10.15->llama-index) (0.6.0)\n",
            "Requirement already satisfied: pydantic-core==2.16.3 in /usr/local/lib/python3.10/dist-packages (from pydantic>=1.10->llamaindex-py-client<0.2.0,>=0.1.13->llama-index-core<0.11.0,>=0.10.15->llama-index) (2.16.3)\n",
            "Requirement already satisfied: six>=1.5 in /usr/local/lib/python3.10/dist-packages (from python-dateutil>=2.8.1->pandas->llama-index-core<0.11.0,>=0.10.15->llama-index) (1.16.0)\n",
            "Requirement already satisfied: huggingface_hub<1.0,>=0.16.4 in /usr/local/lib/python3.10/dist-packages (from tokenizers<0.16.0,>=0.15.1->llama-index-vector-stores-chroma<0.2.0,>=0.1.1->llama-index-cli<0.2.0,>=0.1.2->llama-index) (0.20.3)\n",
            "Requirement already satisfied: pyproject_hooks in /usr/local/lib/python3.10/dist-packages (from build>=1.0.3->chromadb<0.5.0,>=0.4.22->llama-index-vector-stores-chroma<0.2.0,>=0.1.1->llama-index-cli<0.2.0,>=0.1.2->llama-index) (1.0.0)\n",
            "Requirement already satisfied: tomli>=1.1.0 in /usr/local/lib/python3.10/dist-packages (from build>=1.0.3->chromadb<0.5.0,>=0.4.22->llama-index-vector-stores-chroma<0.2.0,>=0.1.1->llama-index-cli<0.2.0,>=0.1.2->llama-index) (2.0.1)\n",
            "Collecting starlette<0.37.0,>=0.36.3 (from fastapi>=0.95.2->chromadb<0.5.0,>=0.4.22->llama-index-vector-stores-chroma<0.2.0,>=0.1.1->llama-index-cli<0.2.0,>=0.1.2->llama-index)\n",
            "  Downloading starlette-0.36.3-py3-none-any.whl (71 kB)\n",
            "\u001b[2K     \u001b[90m━━━━━━━━━━━━━━━━━━━━━━━━━━━━━━━━━━━━━━━━\u001b[0m \u001b[32m71.5/71.5 kB\u001b[0m \u001b[31m9.1 MB/s\u001b[0m eta \u001b[36m0:00:00\u001b[0m\n",
            "\u001b[?25hRequirement already satisfied: filelock in /usr/local/lib/python3.10/dist-packages (from huggingface_hub<1.0,>=0.16.4->tokenizers<0.16.0,>=0.15.1->llama-index-vector-stores-chroma<0.2.0,>=0.1.1->llama-index-cli<0.2.0,>=0.1.2->llama-index) (3.13.1)\n",
            "Requirement already satisfied: google-auth>=1.0.1 in /usr/local/lib/python3.10/dist-packages (from kubernetes>=28.1.0->chromadb<0.5.0,>=0.4.22->llama-index-vector-stores-chroma<0.2.0,>=0.1.1->llama-index-cli<0.2.0,>=0.1.2->llama-index) (2.27.0)\n",
            "Requirement already satisfied: websocket-client!=0.40.0,!=0.41.*,!=0.42.*,>=0.32.0 in /usr/local/lib/python3.10/dist-packages (from kubernetes>=28.1.0->chromadb<0.5.0,>=0.4.22->llama-index-vector-stores-chroma<0.2.0,>=0.1.1->llama-index-cli<0.2.0,>=0.1.2->llama-index) (1.7.0)\n",
            "Requirement already satisfied: requests-oauthlib in /usr/local/lib/python3.10/dist-packages (from kubernetes>=28.1.0->chromadb<0.5.0,>=0.4.22->llama-index-vector-stores-chroma<0.2.0,>=0.1.1->llama-index-cli<0.2.0,>=0.1.2->llama-index) (1.3.1)\n",
            "Requirement already satisfied: oauthlib>=3.2.2 in /usr/local/lib/python3.10/dist-packages (from kubernetes>=28.1.0->chromadb<0.5.0,>=0.4.22->llama-index-vector-stores-chroma<0.2.0,>=0.1.1->llama-index-cli<0.2.0,>=0.1.2->llama-index) (3.2.2)\n",
            "Collecting importlib-metadata<7.0,>=6.0 (from opentelemetry-api>=1.2.0->chromadb<0.5.0,>=0.4.22->llama-index-vector-stores-chroma<0.2.0,>=0.1.1->llama-index-cli<0.2.0,>=0.1.2->llama-index)\n",
            "  Downloading importlib_metadata-6.11.0-py3-none-any.whl (23 kB)\n",
            "Requirement already satisfied: googleapis-common-protos~=1.52 in /usr/local/lib/python3.10/dist-packages (from opentelemetry-exporter-otlp-proto-grpc>=1.2.0->chromadb<0.5.0,>=0.4.22->llama-index-vector-stores-chroma<0.2.0,>=0.1.1->llama-index-cli<0.2.0,>=0.1.2->llama-index) (1.62.0)\n",
            "Collecting opentelemetry-exporter-otlp-proto-common==1.23.0 (from opentelemetry-exporter-otlp-proto-grpc>=1.2.0->chromadb<0.5.0,>=0.4.22->llama-index-vector-stores-chroma<0.2.0,>=0.1.1->llama-index-cli<0.2.0,>=0.1.2->llama-index)\n",
            "  Downloading opentelemetry_exporter_otlp_proto_common-1.23.0-py3-none-any.whl (17 kB)\n",
            "Collecting opentelemetry-proto==1.23.0 (from opentelemetry-exporter-otlp-proto-grpc>=1.2.0->chromadb<0.5.0,>=0.4.22->llama-index-vector-stores-chroma<0.2.0,>=0.1.1->llama-index-cli<0.2.0,>=0.1.2->llama-index)\n",
            "  Downloading opentelemetry_proto-1.23.0-py3-none-any.whl (50 kB)\n",
            "\u001b[2K     \u001b[90m━━━━━━━━━━━━━━━━━━━━━━━━━━━━━━━━━━━━━━━━\u001b[0m \u001b[32m50.8/50.8 kB\u001b[0m \u001b[31m5.7 MB/s\u001b[0m eta \u001b[36m0:00:00\u001b[0m\n",
            "\u001b[?25hCollecting opentelemetry-instrumentation-asgi==0.44b0 (from opentelemetry-instrumentation-fastapi>=0.41b0->chromadb<0.5.0,>=0.4.22->llama-index-vector-stores-chroma<0.2.0,>=0.1.1->llama-index-cli<0.2.0,>=0.1.2->llama-index)\n",
            "  Downloading opentelemetry_instrumentation_asgi-0.44b0-py3-none-any.whl (14 kB)\n",
            "Collecting opentelemetry-instrumentation==0.44b0 (from opentelemetry-instrumentation-fastapi>=0.41b0->chromadb<0.5.0,>=0.4.22->llama-index-vector-stores-chroma<0.2.0,>=0.1.1->llama-index-cli<0.2.0,>=0.1.2->llama-index)\n",
            "  Downloading opentelemetry_instrumentation-0.44b0-py3-none-any.whl (28 kB)\n",
            "Collecting opentelemetry-semantic-conventions==0.44b0 (from opentelemetry-instrumentation-fastapi>=0.41b0->chromadb<0.5.0,>=0.4.22->llama-index-vector-stores-chroma<0.2.0,>=0.1.1->llama-index-cli<0.2.0,>=0.1.2->llama-index)\n",
            "  Downloading opentelemetry_semantic_conventions-0.44b0-py3-none-any.whl (36 kB)\n",
            "Collecting opentelemetry-util-http==0.44b0 (from opentelemetry-instrumentation-fastapi>=0.41b0->chromadb<0.5.0,>=0.4.22->llama-index-vector-stores-chroma<0.2.0,>=0.1.1->llama-index-cli<0.2.0,>=0.1.2->llama-index)\n",
            "  Downloading opentelemetry_util_http-0.44b0-py3-none-any.whl (6.9 kB)\n",
            "Requirement already satisfied: setuptools>=16.0 in /usr/local/lib/python3.10/dist-packages (from opentelemetry-instrumentation==0.44b0->opentelemetry-instrumentation-fastapi>=0.41b0->chromadb<0.5.0,>=0.4.22->llama-index-vector-stores-chroma<0.2.0,>=0.1.1->llama-index-cli<0.2.0,>=0.1.2->llama-index) (67.7.2)\n",
            "Collecting asgiref~=3.0 (from opentelemetry-instrumentation-asgi==0.44b0->opentelemetry-instrumentation-fastapi>=0.41b0->chromadb<0.5.0,>=0.4.22->llama-index-vector-stores-chroma<0.2.0,>=0.1.1->llama-index-cli<0.2.0,>=0.1.2->llama-index)\n",
            "  Downloading asgiref-3.7.2-py3-none-any.whl (24 kB)\n",
            "Collecting monotonic>=1.5 (from posthog>=2.4.0->chromadb<0.5.0,>=0.4.22->llama-index-vector-stores-chroma<0.2.0,>=0.1.1->llama-index-cli<0.2.0,>=0.1.2->llama-index)\n",
            "  Downloading monotonic-1.6-py2.py3-none-any.whl (8.2 kB)\n",
            "Collecting backoff>=1.10.0 (from posthog>=2.4.0->chromadb<0.5.0,>=0.4.22->llama-index-vector-stores-chroma<0.2.0,>=0.1.1->llama-index-cli<0.2.0,>=0.1.2->llama-index)\n",
            "  Downloading backoff-2.2.1-py3-none-any.whl (15 kB)\n",
            "Collecting httptools>=0.5.0 (from uvicorn[standard]>=0.18.3->chromadb<0.5.0,>=0.4.22->llama-index-vector-stores-chroma<0.2.0,>=0.1.1->llama-index-cli<0.2.0,>=0.1.2->llama-index)\n",
            "  Downloading httptools-0.6.1-cp310-cp310-manylinux_2_5_x86_64.manylinux1_x86_64.manylinux_2_17_x86_64.manylinux2014_x86_64.whl (341 kB)\n",
            "\u001b[2K     \u001b[90m━━━━━━━━━━━━━━━━━━━━━━━━━━━━━━━━━━━━━━━━\u001b[0m \u001b[32m341.4/341.4 kB\u001b[0m \u001b[31m42.2 MB/s\u001b[0m eta \u001b[36m0:00:00\u001b[0m\n",
            "\u001b[?25hCollecting python-dotenv>=0.13 (from uvicorn[standard]>=0.18.3->chromadb<0.5.0,>=0.4.22->llama-index-vector-stores-chroma<0.2.0,>=0.1.1->llama-index-cli<0.2.0,>=0.1.2->llama-index)\n",
            "  Downloading python_dotenv-1.0.1-py3-none-any.whl (19 kB)\n",
            "Collecting uvloop!=0.15.0,!=0.15.1,>=0.14.0 (from uvicorn[standard]>=0.18.3->chromadb<0.5.0,>=0.4.22->llama-index-vector-stores-chroma<0.2.0,>=0.1.1->llama-index-cli<0.2.0,>=0.1.2->llama-index)\n",
            "  Downloading uvloop-0.19.0-cp310-cp310-manylinux_2_17_x86_64.manylinux2014_x86_64.whl (3.4 MB)\n",
            "\u001b[2K     \u001b[90m━━━━━━━━━━━━━━━━━━━━━━━━━━━━━━━━━━━━━━━━\u001b[0m \u001b[32m3.4/3.4 MB\u001b[0m \u001b[31m69.1 MB/s\u001b[0m eta \u001b[36m0:00:00\u001b[0m\n",
            "\u001b[?25hCollecting watchfiles>=0.13 (from uvicorn[standard]>=0.18.3->chromadb<0.5.0,>=0.4.22->llama-index-vector-stores-chroma<0.2.0,>=0.1.1->llama-index-cli<0.2.0,>=0.1.2->llama-index)\n",
            "  Downloading watchfiles-0.21.0-cp310-cp310-manylinux_2_17_x86_64.manylinux2014_x86_64.whl (1.3 MB)\n",
            "\u001b[2K     \u001b[90m━━━━━━━━━━━━━━━━━━━━━━━━━━━━━━━━━━━━━━━━\u001b[0m \u001b[32m1.3/1.3 MB\u001b[0m \u001b[31m66.4 MB/s\u001b[0m eta \u001b[36m0:00:00\u001b[0m\n",
            "\u001b[?25hCollecting websockets>=10.4 (from uvicorn[standard]>=0.18.3->chromadb<0.5.0,>=0.4.22->llama-index-vector-stores-chroma<0.2.0,>=0.1.1->llama-index-cli<0.2.0,>=0.1.2->llama-index)\n",
            "  Downloading websockets-12.0-cp310-cp310-manylinux_2_5_x86_64.manylinux1_x86_64.manylinux_2_17_x86_64.manylinux2014_x86_64.whl (130 kB)\n",
            "\u001b[2K     \u001b[90m━━━━━━━━━━━━━━━━━━━━━━━━━━━━━━━━━━━━━━━━\u001b[0m \u001b[32m130.2/130.2 kB\u001b[0m \u001b[31m20.2 MB/s\u001b[0m eta \u001b[36m0:00:00\u001b[0m\n",
            "\u001b[?25hCollecting humanfriendly>=9.1 (from coloredlogs->onnxruntime<2.0.0,>=1.17.0->llama-index-vector-stores-chroma<0.2.0,>=0.1.1->llama-index-cli<0.2.0,>=0.1.2->llama-index)\n",
            "  Downloading humanfriendly-10.0-py2.py3-none-any.whl (86 kB)\n",
            "\u001b[2K     \u001b[90m━━━━━━━━━━━━━━━━━━━━━━━━━━━━━━━━━━━━━━━━\u001b[0m \u001b[32m86.8/86.8 kB\u001b[0m \u001b[31m12.6 MB/s\u001b[0m eta \u001b[36m0:00:00\u001b[0m\n",
            "\u001b[?25hRequirement already satisfied: mpmath>=0.19 in /usr/local/lib/python3.10/dist-packages (from sympy->onnxruntime<2.0.0,>=1.17.0->llama-index-vector-stores-chroma<0.2.0,>=0.1.1->llama-index-cli<0.2.0,>=0.1.2->llama-index) (1.3.0)\n",
            "Requirement already satisfied: cachetools<6.0,>=2.0.0 in /usr/local/lib/python3.10/dist-packages (from google-auth>=1.0.1->kubernetes>=28.1.0->chromadb<0.5.0,>=0.4.22->llama-index-vector-stores-chroma<0.2.0,>=0.1.1->llama-index-cli<0.2.0,>=0.1.2->llama-index) (5.3.3)\n",
            "Requirement already satisfied: pyasn1-modules>=0.2.1 in /usr/local/lib/python3.10/dist-packages (from google-auth>=1.0.1->kubernetes>=28.1.0->chromadb<0.5.0,>=0.4.22->llama-index-vector-stores-chroma<0.2.0,>=0.1.1->llama-index-cli<0.2.0,>=0.1.2->llama-index) (0.3.0)\n",
            "Requirement already satisfied: rsa<5,>=3.1.4 in /usr/local/lib/python3.10/dist-packages (from google-auth>=1.0.1->kubernetes>=28.1.0->chromadb<0.5.0,>=0.4.22->llama-index-vector-stores-chroma<0.2.0,>=0.1.1->llama-index-cli<0.2.0,>=0.1.2->llama-index) (4.9)\n",
            "Requirement already satisfied: zipp>=0.5 in /usr/local/lib/python3.10/dist-packages (from importlib-metadata<7.0,>=6.0->opentelemetry-api>=1.2.0->chromadb<0.5.0,>=0.4.22->llama-index-vector-stores-chroma<0.2.0,>=0.1.1->llama-index-cli<0.2.0,>=0.1.2->llama-index) (3.17.0)\n",
            "Requirement already satisfied: pyasn1<0.6.0,>=0.4.6 in /usr/local/lib/python3.10/dist-packages (from pyasn1-modules>=0.2.1->google-auth>=1.0.1->kubernetes>=28.1.0->chromadb<0.5.0,>=0.4.22->llama-index-vector-stores-chroma<0.2.0,>=0.1.1->llama-index-cli<0.2.0,>=0.1.2->llama-index) (0.5.1)\n",
            "Building wheels for collected packages: pypika\n",
            "  Building wheel for pypika (pyproject.toml) ... \u001b[?25l\u001b[?25hdone\n",
            "  Created wheel for pypika: filename=PyPika-0.48.9-py2.py3-none-any.whl size=53723 sha256=4f883dc19bb6ff7835aa40e95e9ead84a834d51137b9cec7c1335c458d89d0f6\n",
            "  Stored in directory: /root/.cache/pip/wheels/e1/26/51/d0bffb3d2fd82256676d7ad3003faea3bd6dddc9577af665f4\n",
            "Successfully built pypika\n",
            "Installing collected packages: pypika, monotonic, mmh3, dirtyjson, websockets, uvloop, python-dotenv, pypdf, PyMuPDFb, pulsar-client, overrides, orjson, opentelemetry-util-http, opentelemetry-semantic-conventions, opentelemetry-proto, mypy-extensions, marshmallow, importlib-metadata, humanfriendly, httptools, h11, deprecated, chroma-hnswlib, bcrypt, backoff, asgiref, watchfiles, uvicorn, typing-inspect, tiktoken, starlette, pymupdf, posthog, opentelemetry-exporter-otlp-proto-common, opentelemetry-api, httpcore, coloredlogs, bs4, opentelemetry-sdk, opentelemetry-instrumentation, onnxruntime, kubernetes, httpx, fastapi, dataclasses-json, opentelemetry-instrumentation-asgi, opentelemetry-exporter-otlp-proto-grpc, openai, llamaindex-py-client, opentelemetry-instrumentation-fastapi, llama-index-legacy, llama-index-core, llama-parse, llama-index-readers-file, llama-index-llms-openai, llama-index-indices-managed-llama-cloud, llama-index-embeddings-openai, chromadb, llama-index-vector-stores-chroma, llama-index-readers-llama-parse, llama-index-multi-modal-llms-openai, llama-index-agent-openai, llama-index-program-openai, llama-index-cli, llama-index-question-gen-openai, llama-index\n",
            "  Attempting uninstall: importlib-metadata\n",
            "    Found existing installation: importlib-metadata 7.0.1\n",
            "    Uninstalling importlib-metadata-7.0.1:\n",
            "      Successfully uninstalled importlib-metadata-7.0.1\n",
            "Successfully installed PyMuPDFb-1.23.22 asgiref-3.7.2 backoff-2.2.1 bcrypt-4.1.2 bs4-0.0.2 chroma-hnswlib-0.7.3 chromadb-0.4.24 coloredlogs-15.0.1 dataclasses-json-0.6.4 deprecated-1.2.14 dirtyjson-1.0.8 fastapi-0.110.0 h11-0.14.0 httpcore-1.0.4 httptools-0.6.1 httpx-0.27.0 humanfriendly-10.0 importlib-metadata-6.11.0 kubernetes-29.0.0 llama-index-0.10.15 llama-index-agent-openai-0.1.5 llama-index-cli-0.1.7 llama-index-core-0.10.15 llama-index-embeddings-openai-0.1.6 llama-index-indices-managed-llama-cloud-0.1.3 llama-index-legacy-0.9.48 llama-index-llms-openai-0.1.7 llama-index-multi-modal-llms-openai-0.1.4 llama-index-program-openai-0.1.4 llama-index-question-gen-openai-0.1.3 llama-index-readers-file-0.1.6 llama-index-readers-llama-parse-0.1.3 llama-index-vector-stores-chroma-0.1.5 llama-parse-0.3.5 llamaindex-py-client-0.1.13 marshmallow-3.21.1 mmh3-4.1.0 monotonic-1.6 mypy-extensions-1.0.0 onnxruntime-1.17.1 openai-1.13.3 opentelemetry-api-1.23.0 opentelemetry-exporter-otlp-proto-common-1.23.0 opentelemetry-exporter-otlp-proto-grpc-1.23.0 opentelemetry-instrumentation-0.44b0 opentelemetry-instrumentation-asgi-0.44b0 opentelemetry-instrumentation-fastapi-0.44b0 opentelemetry-proto-1.23.0 opentelemetry-sdk-1.23.0 opentelemetry-semantic-conventions-0.44b0 opentelemetry-util-http-0.44b0 orjson-3.9.15 overrides-7.7.0 posthog-3.5.0 pulsar-client-3.4.0 pymupdf-1.23.26 pypdf-4.1.0 pypika-0.48.9 python-dotenv-1.0.1 starlette-0.36.3 tiktoken-0.6.0 typing-inspect-0.9.0 uvicorn-0.27.1 uvloop-0.19.0 watchfiles-0.21.0 websockets-12.0\n"
          ]
        }
      ]
    },
    {
      "cell_type": "code",
      "source": [
        "!pip install pypdf"
      ],
      "metadata": {
        "colab": {
          "base_uri": "https://localhost:8080/"
        },
        "id": "jT6Yd3IqPbwg",
        "outputId": "55ed8268-4334-478e-ab40-eae15452af54"
      },
      "execution_count": null,
      "outputs": [
        {
          "output_type": "stream",
          "name": "stdout",
          "text": [
            "Requirement already satisfied: pypdf in /usr/local/lib/python3.10/dist-packages (4.0.2)\n"
          ]
        }
      ]
    },
    {
      "cell_type": "code",
      "source": [
        "!wget https://www.goldmansachs.com/intelligence/pages/gs-research/2024-us-equity-outlook-all-you-had-to-do-was-stay/report.pdf"
      ],
      "metadata": {
        "colab": {
          "base_uri": "https://localhost:8080/"
        },
        "id": "q7t2rkYZEpYE",
        "outputId": "ca007898-eea4-42d5-a032-b139443e0f40"
      },
      "execution_count": 2,
      "outputs": [
        {
          "output_type": "stream",
          "name": "stdout",
          "text": [
            "--2024-03-04 21:22:14--  https://www.goldmansachs.com/intelligence/pages/gs-research/2024-us-equity-outlook-all-you-had-to-do-was-stay/report.pdf\n",
            "Resolving www.goldmansachs.com (www.goldmansachs.com)... 184.87.61.58\n",
            "Connecting to www.goldmansachs.com (www.goldmansachs.com)|184.87.61.58|:443... connected.\n",
            "HTTP request sent, awaiting response... 200 OK\n",
            "Length: 491250 (480K) [application/pdf]\n",
            "Saving to: ‘report.pdf’\n",
            "\n",
            "\rreport.pdf            0%[                    ]       0  --.-KB/s               \rreport.pdf          100%[===================>] 479.74K  --.-KB/s    in 0.05s   \n",
            "\n",
            "2024-03-04 21:22:15 (9.42 MB/s) - ‘report.pdf’ saved [491250/491250]\n",
            "\n"
          ]
        }
      ]
    },
    {
      "cell_type": "code",
      "source": [
        "from openai import OpenAI\n",
        "from google.colab import userdata\n",
        "\n",
        "open_ai_key = userdata.get('openai')\n",
        "# client = OpenAI(api_key=open_ai_key)"
      ],
      "metadata": {
        "id": "DES1mJnfTwMt"
      },
      "execution_count": 7,
      "outputs": []
    },
    {
      "cell_type": "code",
      "source": [
        "import os\n",
        "os.environ[\"OPENAI_API_KEY\"] = open_ai_key"
      ],
      "metadata": {
        "id": "oJOpJn7ROq0h"
      },
      "execution_count": 8,
      "outputs": []
    },
    {
      "cell_type": "markdown",
      "source": [
        "# Routing"
      ],
      "metadata": {
        "id": "QSZ_DMYjh4dE"
      }
    },
    {
      "cell_type": "code",
      "source": [
        "# Import necessary classes from the llama_index package\n",
        "from llama_index.core import VectorStoreIndex, SimpleDirectoryReader, SummaryIndex\n",
        "from llama_index.core import Settings\n",
        "\n",
        "# Read documents from the specified directory and load a specific document, \"report.pdf\".\n",
        "documents = SimpleDirectoryReader(\"./\").load_data(\"report.pdf\")\n",
        "\n",
        "# initialize settings (set chunk size)\n",
        "Settings.chunk_size = 1024\n",
        "# think of nodes like the chunks.\n",
        "nodes = Settings.node_parser.get_nodes_from_documents(documents)\n",
        "\n",
        "# Create a VectorStoreIndex object from the documents. This will involve processing the documents\n",
        "# and creating a vector representation for each of them, suitable for semantic searching.\n",
        "summary_index = SummaryIndex(nodes)\n",
        "vector_index = VectorStoreIndex(nodes)\n",
        "\n",
        "summary_query_engine = summary_index.as_query_engine(\n",
        "    response_mode=\"tree_summarize\",\n",
        "    use_async=True,\n",
        ")\n",
        "vector_query_engine = vector_index.as_query_engine()\n"
      ],
      "metadata": {
        "id": "ivg6ru6pOE4v",
        "colab": {
          "base_uri": "https://localhost:8080/"
        },
        "outputId": "ac13fe1e-4853-41da-9c47-5ca863ad364e"
      },
      "execution_count": 12,
      "outputs": [
        {
          "output_type": "stream",
          "name": "stderr",
          "text": [
            "\rLoading files:   0%|          | 0/1 [00:00<?, ?file/s]/usr/local/lib/python3.10/dist-packages/fsspec/implementations/local.py:388: RuntimeWarning: coroutine 'LLM.apredict' was never awaited\n",
            "  return self.f.seek(*args, **kwargs)\n",
            "RuntimeWarning: Enable tracemalloc to get the object allocation traceback\n",
            "/usr/local/lib/python3.10/dist-packages/fsspec/implementations/local.py:388: RuntimeWarning: coroutine 'run_async_tasks.<locals>._gather' was never awaited\n",
            "  return self.f.seek(*args, **kwargs)\n",
            "RuntimeWarning: Enable tracemalloc to get the object allocation traceback\n",
            "Loading files: 100%|██████████| 1/1 [00:02<00:00,  2.63s/file]\n"
          ]
        }
      ]
    },
    {
      "cell_type": "code",
      "source": [
        "# build the one central query engine, which will have several query engines\n",
        "from llama_index.core.query_engine import RouterQueryEngine\n",
        "from llama_index.core.selectors import PydanticSingleSelector\n",
        "from llama_index.core.tools import QueryEngineTool\n",
        "\n",
        "\n",
        "summary_tool = QueryEngineTool.from_defaults(\n",
        "    query_engine=summary_query_engine,\n",
        "    description=\"Useful for summarization questions related to the data source\",\n",
        "    #description = \"\"\n",
        ")\n",
        "vector_tool = QueryEngineTool.from_defaults(\n",
        "    query_engine=vector_query_engine,\n",
        "    description=\"Useful for retrieving specific context related to the data source\",\n",
        "    #description=\"Useful for generating pictures\",\n",
        "    #description = \"\"\n",
        ")\n",
        "\n",
        "query_engine = RouterQueryEngine(\n",
        "    selector=PydanticSingleSelector.from_defaults(),\n",
        "    query_engine_tools=[\n",
        "        summary_tool,\n",
        "        vector_tool,\n",
        "    ],\n",
        ")\n"
      ],
      "metadata": {
        "id": "9qvkE3JX5xKU"
      },
      "execution_count": 30,
      "outputs": []
    },
    {
      "cell_type": "code",
      "source": [
        "response = query_engine.query(\"What is the 2024 outlook for US GDP?\")\n",
        "print(response)\n",
        "\n",
        "# note i tried to trick it by saying the vector tool description is for generating pictures.\n",
        "# it properly told me it cannot answer with the context it has."
      ],
      "metadata": {
        "colab": {
          "base_uri": "https://localhost:8080/"
        },
        "id": "Jr0KuSKD5xZ-",
        "outputId": "86b9f0e9-c005-4bbb-8fe2-40b1bd2106b3"
      },
      "execution_count": 31,
      "outputs": [
        {
          "output_type": "stream",
          "name": "stdout",
          "text": [
            "The 2024 outlook for US GDP is forecasted to be above-consensus with a growth rate of 2.1%.\n"
          ]
        }
      ]
    },
    {
      "cell_type": "code",
      "source": [
        "response = query_engine.query(\"Summarize the document\")\n",
        "print(response)"
      ],
      "metadata": {
        "colab": {
          "base_uri": "https://localhost:8080/"
        },
        "id": "zvlRUe7ZM5_F",
        "outputId": "5f55ed57-52ce-44a0-d2bd-00388fe4be08"
      },
      "execution_count": 27,
      "outputs": [
        {
          "output_type": "stream",
          "name": "stdout",
          "text": [
            "The document provides an in-depth analysis and outlook on the US equity market for 2024, focusing on the S&P 500 index. It forecasts a positive year with a 5% price gain and a total return of 6%, including dividends. The report emphasizes expectations of modest economic expansion, earnings growth of 5%, and stable equity valuations. It discusses factors influencing equity appreciation, investment strategies, ownership allocations, and potential risks in the market. Additionally, the document highlights the performance and outlook of the \"Magnificent 7\" mega-cap tech stocks within the S&P 500 index, addressing factors affecting their future performance and associated risks. Furthermore, it provides insights into earnings forecasts, market scenarios, macroeconomic factors, and equity market trends for the upcoming year. The document also includes detailed disclosures and regulations related to investment research reports issued by Goldman Sachs in various jurisdictions worldwide, outlining restrictions, disclaimers, and distribution practices.\n"
          ]
        }
      ]
    },
    {
      "cell_type": "code",
      "source": [
        "# we discussed exactly how it knows which to use\n",
        "# someone mentined that Pydantic can also know that it's summary engine underneath.. so it may use both descriptin and type of q engine..\n",
        "# someone said that if u leave off desciption it may still work\n",
        "# watch pydanic video https://www.youtube.com/watch?v=yj-wSRJwrrc"
      ],
      "metadata": {
        "id": "LjUCO8VgZI7A"
      },
      "execution_count": 24,
      "outputs": []
    },
    {
      "cell_type": "markdown",
      "source": [
        "# Sub Question Query Engine"
      ],
      "metadata": {
        "id": "JcdIt8vUiU5b"
      }
    },
    {
      "cell_type": "code",
      "source": [
        "from llama_index.core import VectorStoreIndex, SimpleDirectoryReader\n",
        "from llama_index.core.tools import QueryEngineTool, ToolMetadata\n",
        "from llama_index.core.query_engine import SubQuestionQueryEngine\n",
        "from llama_index.core.callbacks import CallbackManager, LlamaDebugHandler\n",
        "from llama_index.core import Settings\n",
        "\n",
        "# Using the LlamaDebugHandler to print the trace of the sub questions\n",
        "# captured by the SUB_QUESTION callback event type\n",
        "llama_debug = LlamaDebugHandler(print_trace_on_end=True)\n",
        "callback_manager = CallbackManager([llama_debug])\n",
        "\n",
        "Settings.callback_manager = callback_manager\n",
        "\n",
        "documents = SimpleDirectoryReader(\"./\").load_data(\"report.pdf\")\n",
        "\n",
        "# build index and query engine\n",
        "vector_query_engine = VectorStoreIndex.from_documents(\n",
        "    documents,\n",
        "    use_async=True,\n",
        ").as_query_engine()\n",
        "\n",
        "\n",
        "# setup base query engine as tool\n",
        "query_engine_tools = [\n",
        "    QueryEngineTool(\n",
        "        query_engine=vector_query_engine,\n",
        "        metadata=ToolMetadata(\n",
        "            name=\"documents\",\n",
        "            description=\"Report\",\n",
        "        ),\n",
        "    ),\n",
        "]\n",
        "\n",
        "query_engine = SubQuestionQueryEngine.from_defaults(\n",
        "    query_engine_tools=query_engine_tools,\n",
        "    use_async=True,\n",
        ")\n",
        "\n",
        "response = query_engine.query(\n",
        "    \"What is the outlook for the US economy?\"\n",
        ")\n",
        "\n",
        "print(response)"
      ],
      "metadata": {
        "colab": {
          "base_uri": "https://localhost:8080/",
          "height": 373
        },
        "id": "NmmfVrOfiWu8",
        "outputId": "6c5130d2-3171-4c61-e742-75287998b3af"
      },
      "execution_count": 9,
      "outputs": [
        {
          "output_type": "error",
          "ename": "ValueError",
          "evalue": "No files found in ..",
          "traceback": [
            "\u001b[0;31m---------------------------------------------------------------------------\u001b[0m",
            "\u001b[0;31mValueError\u001b[0m                                Traceback (most recent call last)",
            "\u001b[0;32m<ipython-input-9-3bfa1f386b0f>\u001b[0m in \u001b[0;36m<cell line: 14>\u001b[0;34m()\u001b[0m\n\u001b[1;32m     12\u001b[0m \u001b[0mSettings\u001b[0m\u001b[0;34m.\u001b[0m\u001b[0mcallback_manager\u001b[0m \u001b[0;34m=\u001b[0m \u001b[0mcallback_manager\u001b[0m\u001b[0;34m\u001b[0m\u001b[0;34m\u001b[0m\u001b[0m\n\u001b[1;32m     13\u001b[0m \u001b[0;34m\u001b[0m\u001b[0m\n\u001b[0;32m---> 14\u001b[0;31m \u001b[0mdocuments\u001b[0m \u001b[0;34m=\u001b[0m \u001b[0mSimpleDirectoryReader\u001b[0m\u001b[0;34m(\u001b[0m\u001b[0;34m\"./\"\u001b[0m\u001b[0;34m)\u001b[0m\u001b[0;34m.\u001b[0m\u001b[0mload_data\u001b[0m\u001b[0;34m(\u001b[0m\u001b[0;34m\"report.pdf\"\u001b[0m\u001b[0;34m)\u001b[0m\u001b[0;34m\u001b[0m\u001b[0;34m\u001b[0m\u001b[0m\n\u001b[0m\u001b[1;32m     15\u001b[0m \u001b[0;34m\u001b[0m\u001b[0m\n\u001b[1;32m     16\u001b[0m \u001b[0;31m# build index and query engine\u001b[0m\u001b[0;34m\u001b[0m\u001b[0;34m\u001b[0m\u001b[0m\n",
            "\u001b[0;32m/usr/local/lib/python3.10/dist-packages/llama_index/core/readers/file/base.py\u001b[0m in \u001b[0;36m__init__\u001b[0;34m(self, input_dir, input_files, exclude, exclude_hidden, errors, recursive, encoding, filename_as_id, required_exts, file_extractor, num_files_limit, file_metadata, fs)\u001b[0m\n\u001b[1;32m    208\u001b[0m             \u001b[0mself\u001b[0m\u001b[0;34m.\u001b[0m\u001b[0minput_dir\u001b[0m \u001b[0;34m=\u001b[0m \u001b[0mPath\u001b[0m\u001b[0;34m(\u001b[0m\u001b[0minput_dir\u001b[0m\u001b[0;34m)\u001b[0m\u001b[0;34m\u001b[0m\u001b[0;34m\u001b[0m\u001b[0m\n\u001b[1;32m    209\u001b[0m             \u001b[0mself\u001b[0m\u001b[0;34m.\u001b[0m\u001b[0mexclude\u001b[0m \u001b[0;34m=\u001b[0m \u001b[0mexclude\u001b[0m\u001b[0;34m\u001b[0m\u001b[0;34m\u001b[0m\u001b[0m\n\u001b[0;32m--> 210\u001b[0;31m             \u001b[0mself\u001b[0m\u001b[0;34m.\u001b[0m\u001b[0minput_files\u001b[0m \u001b[0;34m=\u001b[0m \u001b[0mself\u001b[0m\u001b[0;34m.\u001b[0m\u001b[0m_add_files\u001b[0m\u001b[0;34m(\u001b[0m\u001b[0mself\u001b[0m\u001b[0;34m.\u001b[0m\u001b[0minput_dir\u001b[0m\u001b[0;34m)\u001b[0m\u001b[0;34m\u001b[0m\u001b[0;34m\u001b[0m\u001b[0m\n\u001b[0m\u001b[1;32m    211\u001b[0m \u001b[0;34m\u001b[0m\u001b[0m\n\u001b[1;32m    212\u001b[0m         \u001b[0;32mif\u001b[0m \u001b[0mfile_extractor\u001b[0m \u001b[0;32mis\u001b[0m \u001b[0;32mnot\u001b[0m \u001b[0;32mNone\u001b[0m\u001b[0;34m:\u001b[0m\u001b[0;34m\u001b[0m\u001b[0;34m\u001b[0m\u001b[0m\n",
            "\u001b[0;32m/usr/local/lib/python3.10/dist-packages/llama_index/core/readers/file/base.py\u001b[0m in \u001b[0;36m_add_files\u001b[0;34m(self, input_dir)\u001b[0m\n\u001b[1;32m    271\u001b[0m \u001b[0;34m\u001b[0m\u001b[0m\n\u001b[1;32m    272\u001b[0m         \u001b[0;32mif\u001b[0m \u001b[0mlen\u001b[0m\u001b[0;34m(\u001b[0m\u001b[0mnew_input_files\u001b[0m\u001b[0;34m)\u001b[0m \u001b[0;34m==\u001b[0m \u001b[0;36m0\u001b[0m\u001b[0;34m:\u001b[0m\u001b[0;34m\u001b[0m\u001b[0;34m\u001b[0m\u001b[0m\n\u001b[0;32m--> 273\u001b[0;31m             \u001b[0;32mraise\u001b[0m \u001b[0mValueError\u001b[0m\u001b[0;34m(\u001b[0m\u001b[0;34mf\"No files found in {input_dir}.\"\u001b[0m\u001b[0;34m)\u001b[0m\u001b[0;34m\u001b[0m\u001b[0;34m\u001b[0m\u001b[0m\n\u001b[0m\u001b[1;32m    274\u001b[0m \u001b[0;34m\u001b[0m\u001b[0m\n\u001b[1;32m    275\u001b[0m         \u001b[0;32mif\u001b[0m \u001b[0mself\u001b[0m\u001b[0;34m.\u001b[0m\u001b[0mnum_files_limit\u001b[0m \u001b[0;32mis\u001b[0m \u001b[0;32mnot\u001b[0m \u001b[0;32mNone\u001b[0m \u001b[0;32mand\u001b[0m \u001b[0mself\u001b[0m\u001b[0;34m.\u001b[0m\u001b[0mnum_files_limit\u001b[0m \u001b[0;34m>\u001b[0m \u001b[0;36m0\u001b[0m\u001b[0;34m:\u001b[0m\u001b[0;34m\u001b[0m\u001b[0;34m\u001b[0m\u001b[0m\n",
            "\u001b[0;31mValueError\u001b[0m: No files found in .."
          ]
        }
      ]
    },
    {
      "cell_type": "markdown",
      "source": [
        "# Calling OpenAI AssistantAPI (Code interpreter)"
      ],
      "metadata": {
        "id": "6H6aP4WUSp21"
      }
    },
    {
      "cell_type": "code",
      "source": [
        "from llama_index.agent.openai import OpenAIAssistantAgent\n",
        "\n",
        "agent = OpenAIAssistantAgent.from_new(\n",
        "    name=\"Python agent\",\n",
        "    openai_tools=[{\"type\": \"code_interpreter\"}],\n",
        "    instructions=\"You are an expert at writing python code to solve problems.\",\n",
        "    verbose=True\n",
        ")\n",
        "\n",
        "response = agent.chat(\n",
        "    \"\"\"Generate code to answer the following question:\n",
        "    How much is the us population likely to grow to by 2030?\n",
        "    Return and answer and the code used.\"\"\"\n",
        ")"
      ],
      "metadata": {
        "id": "173K-wLCSo8S"
      },
      "execution_count": 33,
      "outputs": []
    },
    {
      "cell_type": "code",
      "source": [
        "print(str(response))"
      ],
      "metadata": {
        "colab": {
          "base_uri": "https://localhost:8080/"
        },
        "id": "PjnQJnqVeiNl",
        "outputId": "15c156ae-4045-4dea-8116-433157fa027f"
      },
      "execution_count": 34,
      "outputs": [
        {
          "output_type": "stream",
          "name": "stdout",
          "text": [
            "Based on the hypothetical figures provided, the estimated US population by the year 2030 is approximately 348.6 million people.\n",
            "\n",
            "Here is the Python code used to perform the estimation:\n",
            "\n",
            "```python\n",
            "# Given data\n",
            "current_population = 332_000_000  # Current US population estimate in 2023\n",
            "annual_growth_rate = 0.007  # Average annual growth rate (in decimal form)\n",
            "target_year = 2030\n",
            "current_year = 2023\n",
            "years_into_future = target_year - current_year\n",
            "\n",
            "# Calculate the future population\n",
            "future_population = current_population * ((1 + annual_growth_rate) ** years_into_future)\n",
            "```\n",
            "\n",
            "This calculation is a simplified model that assumes a constant growth rate and does not account for other demographic factors (like immigration, emigration, birth rates, and death rates) that could influence the actual future population. For a more precise prediction, a more detailed demographic model would need to be used, and updated population statistics and growth rates should be obtained from a reliable source such as the US Census Bureau.\n"
          ]
        }
      ]
    },
    {
      "cell_type": "code",
      "source": [
        "response = agent.chat(\"Calculate 2+2 and show the python code\")\n",
        "print(str(response))"
      ],
      "metadata": {
        "colab": {
          "base_uri": "https://localhost:8080/"
        },
        "id": "QPpFVsJbqesD",
        "outputId": "0af0265e-179d-490a-ba5e-319275aa813b"
      },
      "execution_count": 36,
      "outputs": [
        {
          "output_type": "stream",
          "name": "stdout",
          "text": [
            "The result of calculating 2 + 2 is 4.\n",
            "\n",
            "Here is the Python code used to perform the calculation:\n",
            "\n",
            "```python\n",
            "# Python code to calculate 2+2\n",
            "result = 2 + 2\n",
            "```\n"
          ]
        }
      ]
    },
    {
      "cell_type": "code",
      "source": [
        "response = agent.chat(\n",
        "    \"\"\"Generate code to answer the following question:\n",
        "    Use the Titanic data set from Kaggle, and write python code to build a decision tree model that can predict if a passenger survived or not.\n",
        "    Return and answer and the code used.\"\"\"\n",
        ")\n",
        "print(str(response))"
      ],
      "metadata": {
        "colab": {
          "base_uri": "https://localhost:8080/"
        },
        "id": "zTK6FEX3flbK",
        "outputId": "632f52ee-150a-4ec1-ae67-6724afc0e117"
      },
      "execution_count": 37,
      "outputs": [
        {
          "output_type": "stream",
          "name": "stdout",
          "text": [
            "To build a decision tree model to predict passenger survival on the Titanic, we would need the Titanic dataset from Kaggle. Typically, this would involve downloading the data, performing data analysis, cleaning, and preprocessing, then training and testing a machine learning model.\n",
            "\n",
            "As I don't have access to the internet to download the dataset from Kaggle, I'll assume the dataset is in the commonly used format with features like 'Pclass' (passenger class), 'Sex', 'Age', 'SibSp' (siblings/spouses aboard), 'Parch' (parents/children aboard), 'Fare', 'Embarked' (port of embarkation), and the target variable 'Survived'.\n",
            "\n",
            "Here is a general outline of the steps you'd take to build the decision tree model using the scikit-learn library in Python:\n",
            "\n",
            "1. Load the dataset.\n",
            "2. Perform exploratory data analysis to understand the data.\n",
            "3. Preprocess the data (handle missing values, convert categorical variables to numeric, etc.).\n",
            "4. Split the dataset into a training set and a test set.\n",
            "5. Instantiate a decision tree classifier.\n",
            "6. Train the classifier on the training data.\n",
            "7. Test the classifier on the test data and evaluate its performance.\n",
            "\n",
            "I can show you the code to perform these steps. However, without the actual dataset, I won't be able to execute the model training and testing. Would you like to proceed with the example code, assuming a typical Titanic dataset format? If you have a specific dataset you would like to use and can provide it, please upload it, and I can write code tailored to that data and run the model training.\n"
          ]
        }
      ]
    },
    {
      "cell_type": "markdown",
      "source": [
        "# ReAct"
      ],
      "metadata": {
        "id": "I2CM35w9mSv0"
      }
    },
    {
      "cell_type": "code",
      "source": [
        "# more advanced.. it will choose the next best action\n",
        "# seems these next few lines are about persistence in vector db\n",
        "try:\n",
        "    storage_context = StorageContext.from_defaults(\n",
        "        persist_dir=\"./storage/lyft\"\n",
        "    )\n",
        "    lyft_index = load_index_from_storage(storage_context)\n",
        "\n",
        "    storage_context = StorageContext.from_defaults(\n",
        "        persist_dir=\"./storage/uber\"\n",
        "    )\n",
        "    uber_index = load_index_from_storage(storage_context)\n",
        "\n",
        "    index_loaded = True\n",
        "except:\n",
        "    index_loaded = False"
      ],
      "metadata": {
        "id": "Hw13jqUGmWNY"
      },
      "execution_count": 2,
      "outputs": []
    },
    {
      "cell_type": "code",
      "source": [
        "!mkdir -p 'data/10k/'\n",
        "!wget 'https://raw.githubusercontent.com/run-llama/llama_index/main/docs/examples/data/10k/uber_2021.pdf' -O 'data/10k/uber_2021.pdf'\n",
        "!wget 'https://raw.githubusercontent.com/run-llama/llama_index/main/docs/examples/data/10k/lyft_2021.pdf' -O 'data/10k/lyft_2021.pdf'"
      ],
      "metadata": {
        "colab": {
          "base_uri": "https://localhost:8080/"
        },
        "id": "ivEES8bFmfth",
        "outputId": "93dd1db5-bd78-45f8-dc60-79aa933deaeb"
      },
      "execution_count": 3,
      "outputs": [
        {
          "output_type": "stream",
          "name": "stdout",
          "text": [
            "--2024-03-05 04:17:49--  https://raw.githubusercontent.com/run-llama/llama_index/main/docs/examples/data/10k/uber_2021.pdf\n",
            "Resolving raw.githubusercontent.com (raw.githubusercontent.com)... 185.199.108.133, 185.199.109.133, 185.199.110.133, ...\n",
            "Connecting to raw.githubusercontent.com (raw.githubusercontent.com)|185.199.108.133|:443... connected.\n",
            "HTTP request sent, awaiting response... 200 OK\n",
            "Length: 1880483 (1.8M) [application/octet-stream]\n",
            "Saving to: ‘data/10k/uber_2021.pdf’\n",
            "\n",
            "data/10k/uber_2021. 100%[===================>]   1.79M  --.-KB/s    in 0.08s   \n",
            "\n",
            "2024-03-05 04:17:49 (22.8 MB/s) - ‘data/10k/uber_2021.pdf’ saved [1880483/1880483]\n",
            "\n",
            "--2024-03-05 04:17:49--  https://raw.githubusercontent.com/run-llama/llama_index/main/docs/examples/data/10k/lyft_2021.pdf\n",
            "Resolving raw.githubusercontent.com (raw.githubusercontent.com)... 185.199.108.133, 185.199.109.133, 185.199.110.133, ...\n",
            "Connecting to raw.githubusercontent.com (raw.githubusercontent.com)|185.199.108.133|:443... connected.\n",
            "HTTP request sent, awaiting response... 200 OK\n",
            "Length: 1440303 (1.4M) [application/octet-stream]\n",
            "Saving to: ‘data/10k/lyft_2021.pdf’\n",
            "\n",
            "data/10k/lyft_2021. 100%[===================>]   1.37M  --.-KB/s    in 0.09s   \n",
            "\n",
            "2024-03-05 04:17:50 (16.0 MB/s) - ‘data/10k/lyft_2021.pdf’ saved [1440303/1440303]\n",
            "\n"
          ]
        }
      ]
    },
    {
      "cell_type": "code",
      "source": [
        "if not index_loaded:\n",
        "    # load data\n",
        "    lyft_docs = SimpleDirectoryReader(\n",
        "        input_files=[\"./data/10k/lyft_2021.pdf\"]\n",
        "    ).load_data()\n",
        "    uber_docs = SimpleDirectoryReader(\n",
        "        input_files=[\"./data/10k/uber_2021.pdf\"]\n",
        "    ).load_data()\n",
        "\n",
        "    # build index\n",
        "    lyft_index = VectorStoreIndex.from_documents(lyft_docs)\n",
        "    uber_index = VectorStoreIndex.from_documents(uber_docs)\n",
        "\n",
        "    # persist index\n",
        "    lyft_index.storage_context.persist(persist_dir=\"./storage/lyft\")\n",
        "    uber_index.storage_context.persist(persist_dir=\"./storage/uber\")"
      ],
      "metadata": {
        "colab": {
          "base_uri": "https://localhost:8080/"
        },
        "id": "EsgIAm39mfzl",
        "outputId": "caaccc13-26ff-4d24-a2ed-03179ff0e2d1"
      },
      "execution_count": 10,
      "outputs": [
        {
          "output_type": "stream",
          "name": "stdout",
          "text": [
            "**********\n",
            "Trace: index_construction\n",
            "    |_node_parsing ->  0.758724 seconds\n",
            "      |_chunking ->  0.005237 seconds\n",
            "      |_chunking ->  0.000725 seconds\n",
            "      |_chunking ->  0.001843 seconds\n",
            "      |_chunking ->  0.000687 seconds\n",
            "      |_chunking ->  0.005319 seconds\n",
            "      |_chunking ->  0.001417 seconds\n",
            "      |_chunking ->  0.004646 seconds\n",
            "      |_chunking ->  0.004691 seconds\n",
            "      |_chunking ->  0.004842 seconds\n",
            "      |_chunking ->  0.004437 seconds\n",
            "      |_chunking ->  0.004818 seconds\n",
            "      |_chunking ->  0.004588 seconds\n",
            "      |_chunking ->  0.001729 seconds\n",
            "      |_chunking ->  0.000815 seconds\n",
            "      |_chunking ->  0.001214 seconds\n",
            "      |_chunking ->  0.000912 seconds\n",
            "      |_chunking ->  0.004764 seconds\n",
            "      |_chunking ->  0.004657 seconds\n",
            "      |_chunking ->  0.001801 seconds\n",
            "      |_chunking ->  0.005001 seconds\n",
            "      |_chunking ->  0.003136 seconds\n",
            "      |_chunking ->  0.005346 seconds\n",
            "      |_chunking ->  0.005202 seconds\n",
            "      |_chunking ->  0.003923 seconds\n",
            "      |_chunking ->  0.004534 seconds\n",
            "      |_chunking ->  0.005869 seconds\n",
            "      |_chunking ->  0.004666 seconds\n",
            "      |_chunking ->  0.004391 seconds\n",
            "      |_chunking ->  0.004682 seconds\n",
            "      |_chunking ->  0.004816 seconds\n",
            "      |_chunking ->  0.005107 seconds\n",
            "      |_chunking ->  0.004843 seconds\n",
            "      |_chunking ->  0.004941 seconds\n",
            "      |_chunking ->  0.003545 seconds\n",
            "      |_chunking ->  0.004291 seconds\n",
            "      |_chunking ->  0.003921 seconds\n",
            "      |_chunking ->  0.004467 seconds\n",
            "      |_chunking ->  0.005087 seconds\n",
            "      |_chunking ->  0.003885 seconds\n",
            "      |_chunking ->  0.004505 seconds\n",
            "      |_chunking ->  0.004862 seconds\n",
            "      |_chunking ->  0.004718 seconds\n",
            "      |_chunking ->  0.005574 seconds\n",
            "      |_chunking ->  0.005657 seconds\n",
            "      |_chunking ->  0.004386 seconds\n",
            "      |_chunking ->  0.004882 seconds\n",
            "      |_chunking ->  0.005039 seconds\n",
            "      |_chunking ->  0.004102 seconds\n",
            "      |_chunking ->  0.004786 seconds\n",
            "      |_chunking ->  0.005488 seconds\n",
            "      |_chunking ->  0.004288 seconds\n",
            "      |_chunking ->  0.001947 seconds\n",
            "      |_chunking ->  0.004324 seconds\n",
            "      |_chunking ->  0.00019 seconds\n",
            "      |_chunking ->  0.001006 seconds\n",
            "      |_chunking ->  0.004375 seconds\n",
            "      |_chunking ->  0.00402 seconds\n",
            "      |_chunking ->  0.004388 seconds\n",
            "      |_chunking ->  0.004525 seconds\n",
            "      |_chunking ->  0.004797 seconds\n",
            "      |_chunking ->  0.003675 seconds\n",
            "      |_chunking ->  0.001085 seconds\n",
            "      |_chunking ->  0.001191 seconds\n",
            "      |_chunking ->  0.001729 seconds\n",
            "      |_chunking ->  0.001672 seconds\n",
            "      |_chunking ->  0.003761 seconds\n",
            "      |_chunking ->  0.003981 seconds\n",
            "      |_chunking ->  0.000389 seconds\n",
            "      |_chunking ->  0.001782 seconds\n",
            "      |_chunking ->  0.003437 seconds\n",
            "      |_chunking ->  0.003797 seconds\n",
            "      |_chunking ->  0.003404 seconds\n",
            "      |_chunking ->  0.000561 seconds\n",
            "      |_chunking ->  0.000264 seconds\n",
            "      |_chunking ->  0.004219 seconds\n",
            "      |_chunking ->  0.004859 seconds\n",
            "      |_chunking ->  0.001382 seconds\n",
            "      |_chunking ->  0.002227 seconds\n",
            "      |_chunking ->  0.001394 seconds\n",
            "      |_chunking ->  0.000576 seconds\n",
            "      |_chunking ->  0.002307 seconds\n",
            "      |_chunking ->  0.001176 seconds\n",
            "      |_chunking ->  0.002869 seconds\n",
            "      |_chunking ->  0.001373 seconds\n",
            "      |_chunking ->  0.008651 seconds\n",
            "      |_chunking ->  0.002108 seconds\n",
            "      |_chunking ->  0.004831 seconds\n",
            "      |_chunking ->  0.005285 seconds\n",
            "      |_chunking ->  0.003739 seconds\n",
            "      |_chunking ->  0.003957 seconds\n",
            "      |_chunking ->  0.004528 seconds\n",
            "      |_chunking ->  0.004139 seconds\n",
            "      |_chunking ->  0.004258 seconds\n",
            "      |_chunking ->  0.004407 seconds\n",
            "      |_chunking ->  0.005015 seconds\n",
            "      |_chunking ->  0.003661 seconds\n",
            "      |_chunking ->  0.000295 seconds\n",
            "      |_chunking ->  0.000961 seconds\n",
            "      |_chunking ->  0.000841 seconds\n",
            "      |_chunking ->  0.001707 seconds\n",
            "      |_chunking ->  0.001233 seconds\n",
            "      |_chunking ->  0.003493 seconds\n",
            "      |_chunking ->  0.001671 seconds\n",
            "      |_chunking ->  0.001397 seconds\n",
            "      |_chunking ->  0.000938 seconds\n",
            "      |_chunking ->  0.000644 seconds\n",
            "      |_chunking ->  0.001796 seconds\n",
            "      |_chunking ->  0.005663 seconds\n",
            "      |_chunking ->  0.004534 seconds\n",
            "      |_chunking ->  0.003888 seconds\n",
            "      |_chunking ->  0.004396 seconds\n",
            "      |_chunking ->  0.001094 seconds\n",
            "      |_chunking ->  0.0052 seconds\n",
            "      |_chunking ->  0.001861 seconds\n",
            "      |_chunking ->  0.001861 seconds\n",
            "      |_chunking ->  0.00394 seconds\n",
            "      |_chunking ->  0.001774 seconds\n",
            "      |_chunking ->  0.00425 seconds\n",
            "      |_chunking ->  0.001209 seconds\n",
            "      |_chunking ->  0.001566 seconds\n",
            "      |_chunking ->  0.001743 seconds\n",
            "      |_chunking ->  0.001401 seconds\n",
            "      |_chunking ->  0.001669 seconds\n",
            "      |_chunking ->  0.000628 seconds\n",
            "      |_chunking ->  0.000397 seconds\n",
            "      |_chunking ->  0.003653 seconds\n",
            "      |_chunking ->  0.001434 seconds\n",
            "      |_chunking ->  0.001205 seconds\n",
            "      |_chunking ->  0.000772 seconds\n",
            "      |_chunking ->  0.00118 seconds\n",
            "      |_chunking ->  0.001083 seconds\n",
            "      |_chunking ->  0.000884 seconds\n",
            "      |_chunking ->  0.000365 seconds\n",
            "      |_chunking ->  0.00011 seconds\n",
            "      |_chunking ->  0.001594 seconds\n",
            "      |_chunking ->  0.003203 seconds\n",
            "      |_chunking ->  0.003907 seconds\n",
            "      |_chunking ->  0.001375 seconds\n",
            "      |_chunking ->  0.003226 seconds\n",
            "      |_chunking ->  0.003964 seconds\n",
            "      |_chunking ->  0.006348 seconds\n",
            "      |_chunking ->  0.003979 seconds\n",
            "      |_chunking ->  0.003742 seconds\n",
            "      |_chunking ->  0.003966 seconds\n",
            "      |_chunking ->  0.004567 seconds\n",
            "      |_chunking ->  0.004469 seconds\n",
            "      |_chunking ->  0.004426 seconds\n",
            "      |_chunking ->  0.000966 seconds\n",
            "      |_chunking ->  0.004298 seconds\n",
            "      |_chunking ->  0.00141 seconds\n",
            "      |_chunking ->  0.006347 seconds\n",
            "      |_chunking ->  0.001207 seconds\n",
            "      |_chunking ->  0.000268 seconds\n",
            "      |_chunking ->  8e-05 seconds\n",
            "      |_chunking ->  0.001707 seconds\n",
            "      |_chunking ->  0.001968 seconds\n",
            "      |_chunking ->  0.001831 seconds\n",
            "      |_chunking ->  0.001551 seconds\n",
            "      |_chunking ->  0.001475 seconds\n",
            "      |_chunking ->  0.001319 seconds\n",
            "      |_chunking ->  0.000605 seconds\n",
            "      |_chunking ->  0.001292 seconds\n",
            "      |_chunking ->  7.6e-05 seconds\n",
            "      |_chunking ->  0.00386 seconds\n",
            "      |_chunking ->  0.001814 seconds\n",
            "      |_chunking ->  0.001136 seconds\n",
            "      |_chunking ->  0.001356 seconds\n",
            "      |_chunking ->  0.001614 seconds\n",
            "      |_chunking ->  0.001839 seconds\n",
            "      |_chunking ->  0.00153 seconds\n",
            "      |_chunking ->  0.001582 seconds\n",
            "      |_chunking ->  0.001266 seconds\n",
            "      |_chunking ->  0.000452 seconds\n",
            "      |_chunking ->  0.000142 seconds\n",
            "      |_chunking ->  0.001818 seconds\n",
            "      |_chunking ->  0.00347 seconds\n",
            "      |_chunking ->  0.003993 seconds\n",
            "      |_chunking ->  0.001575 seconds\n",
            "      |_chunking ->  0.003541 seconds\n",
            "      |_chunking ->  0.004416 seconds\n",
            "      |_chunking ->  0.003973 seconds\n",
            "      |_chunking ->  0.00453 seconds\n",
            "      |_chunking ->  0.00425 seconds\n",
            "      |_chunking ->  0.004772 seconds\n",
            "      |_chunking ->  0.004433 seconds\n",
            "      |_chunking ->  0.00517 seconds\n",
            "      |_chunking ->  0.003969 seconds\n",
            "      |_chunking ->  0.00156 seconds\n",
            "      |_chunking ->  0.001731 seconds\n",
            "      |_chunking ->  0.001448 seconds\n",
            "      |_chunking ->  0.004914 seconds\n",
            "      |_chunking ->  0.000961 seconds\n",
            "      |_chunking ->  0.000282 seconds\n",
            "      |_chunking ->  7.5e-05 seconds\n",
            "      |_chunking ->  0.001743 seconds\n",
            "      |_chunking ->  0.002003 seconds\n",
            "      |_chunking ->  0.002515 seconds\n",
            "      |_chunking ->  0.002749 seconds\n",
            "      |_chunking ->  0.002111 seconds\n",
            "      |_chunking ->  0.001644 seconds\n",
            "      |_chunking ->  0.000587 seconds\n",
            "      |_chunking ->  6.5e-05 seconds\n",
            "      |_chunking ->  6.8e-05 seconds\n",
            "      |_chunking ->  0.001968 seconds\n",
            "      |_chunking ->  0.002129 seconds\n",
            "      |_chunking ->  0.001421 seconds\n",
            "      |_chunking ->  0.001639 seconds\n",
            "      |_chunking ->  0.003563 seconds\n",
            "      |_chunking ->  0.001838 seconds\n",
            "      |_chunking ->  0.001729 seconds\n",
            "      |_chunking ->  0.003665 seconds\n",
            "      |_chunking ->  0.003855 seconds\n",
            "      |_chunking ->  0.001224 seconds\n",
            "      |_chunking ->  0.000244 seconds\n",
            "      |_chunking ->  3.7e-05 seconds\n",
            "      |_chunking ->  0.00058 seconds\n",
            "      |_chunking ->  0.001511 seconds\n",
            "      |_chunking ->  0.001779 seconds\n",
            "      |_chunking ->  0.001582 seconds\n",
            "      |_chunking ->  0.001953 seconds\n",
            "      |_chunking ->  0.003861 seconds\n",
            "      |_chunking ->  0.001961 seconds\n",
            "      |_chunking ->  0.001793 seconds\n",
            "      |_chunking ->  0.000735 seconds\n",
            "      |_chunking ->  0.000215 seconds\n",
            "      |_chunking ->  0.000396 seconds\n",
            "      |_chunking ->  0.000259 seconds\n",
            "      |_chunking ->  0.000362 seconds\n",
            "      |_chunking ->  0.001393 seconds\n",
            "      |_chunking ->  0.000196 seconds\n",
            "      |_chunking ->  0.000144 seconds\n",
            "      |_chunking ->  0.000276 seconds\n",
            "      |_chunking ->  0.0012 seconds\n",
            "      |_chunking ->  0.000174 seconds\n",
            "      |_chunking ->  0.001114 seconds\n",
            "      |_chunking ->  0.000171 seconds\n",
            "      |_chunking ->  0.000804 seconds\n",
            "    |_embedding ->  0.78027 seconds\n",
            "    |_embedding ->  0.625617 seconds\n",
            "    |_embedding ->  0.930571 seconds\n",
            "    |_embedding ->  0.84729 seconds\n",
            "**********\n",
            "**********\n",
            "Trace: index_construction\n",
            "    |_node_parsing ->  1.399656 seconds\n",
            "      |_chunking ->  0.002349 seconds\n",
            "      |_chunking ->  0.001432 seconds\n",
            "      |_chunking ->  0.001285 seconds\n",
            "      |_chunking ->  0.002984 seconds\n",
            "      |_chunking ->  0.002211 seconds\n",
            "      |_chunking ->  0.022715 seconds\n",
            "      |_chunking ->  0.019732 seconds\n",
            "      |_chunking ->  0.026053 seconds\n",
            "      |_chunking ->  0.02128 seconds\n",
            "      |_chunking ->  0.016418 seconds\n",
            "      |_chunking ->  0.025067 seconds\n",
            "      |_chunking ->  0.013871 seconds\n",
            "      |_chunking ->  0.018883 seconds\n",
            "      |_chunking ->  0.014508 seconds\n",
            "      |_chunking ->  0.016275 seconds\n",
            "      |_chunking ->  0.025951 seconds\n",
            "      |_chunking ->  0.0148 seconds\n",
            "      |_chunking ->  0.017204 seconds\n",
            "      |_chunking ->  0.03171 seconds\n",
            "      |_chunking ->  0.019208 seconds\n",
            "      |_chunking ->  0.015256 seconds\n",
            "      |_chunking ->  0.031213 seconds\n",
            "      |_chunking ->  0.013673 seconds\n",
            "      |_chunking ->  0.015645 seconds\n",
            "      |_chunking ->  0.01552 seconds\n",
            "      |_chunking ->  0.024506 seconds\n",
            "      |_chunking ->  0.023475 seconds\n",
            "      |_chunking ->  0.015816 seconds\n",
            "      |_chunking ->  0.02043 seconds\n",
            "      |_chunking ->  0.022767 seconds\n",
            "      |_chunking ->  0.020832 seconds\n",
            "      |_chunking ->  0.037543 seconds\n",
            "      |_chunking ->  0.006044 seconds\n",
            "      |_chunking ->  0.005365 seconds\n",
            "      |_chunking ->  0.006054 seconds\n",
            "      |_chunking ->  0.004733 seconds\n",
            "      |_chunking ->  0.005579 seconds\n",
            "      |_chunking ->  0.005342 seconds\n",
            "      |_chunking ->  0.006455 seconds\n",
            "      |_chunking ->  0.005907 seconds\n",
            "      |_chunking ->  0.005824 seconds\n",
            "      |_chunking ->  0.005074 seconds\n",
            "      |_chunking ->  0.005159 seconds\n",
            "      |_chunking ->  0.005379 seconds\n",
            "      |_chunking ->  0.005208 seconds\n",
            "      |_chunking ->  0.005111 seconds\n",
            "      |_chunking ->  0.003735 seconds\n",
            "      |_chunking ->  0.004091 seconds\n",
            "      |_chunking ->  0.004579 seconds\n",
            "      |_chunking ->  0.001493 seconds\n",
            "      |_chunking ->  0.004822 seconds\n",
            "      |_chunking ->  0.004139 seconds\n",
            "      |_chunking ->  0.001738 seconds\n",
            "      |_chunking ->  0.004267 seconds\n",
            "      |_chunking ->  0.001794 seconds\n",
            "      |_chunking ->  0.00121 seconds\n",
            "      |_chunking ->  0.001587 seconds\n",
            "      |_chunking ->  0.001147 seconds\n",
            "      |_chunking ->  0.001536 seconds\n",
            "      |_chunking ->  0.001719 seconds\n",
            "      |_chunking ->  0.003696 seconds\n",
            "      |_chunking ->  0.000948 seconds\n",
            "      |_chunking ->  0.001835 seconds\n",
            "      |_chunking ->  0.004035 seconds\n",
            "      |_chunking ->  0.00163 seconds\n",
            "      |_chunking ->  0.004715 seconds\n",
            "      |_chunking ->  0.004924 seconds\n",
            "      |_chunking ->  0.004863 seconds\n",
            "      |_chunking ->  0.004648 seconds\n",
            "      |_chunking ->  0.004053 seconds\n",
            "      |_chunking ->  0.001812 seconds\n",
            "      |_chunking ->  0.000387 seconds\n",
            "      |_chunking ->  0.004791 seconds\n",
            "      |_chunking ->  0.005334 seconds\n",
            "      |_chunking ->  0.000553 seconds\n",
            "      |_chunking ->  0.001239 seconds\n",
            "      |_chunking ->  0.000895 seconds\n",
            "      |_chunking ->  0.000437 seconds\n",
            "      |_chunking ->  0.001606 seconds\n",
            "      |_chunking ->  0.000971 seconds\n",
            "      |_chunking ->  0.001209 seconds\n",
            "      |_chunking ->  0.001353 seconds\n",
            "      |_chunking ->  0.000952 seconds\n",
            "      |_chunking ->  0.005639 seconds\n",
            "      |_chunking ->  0.006168 seconds\n",
            "      |_chunking ->  0.001845 seconds\n",
            "      |_chunking ->  0.006094 seconds\n",
            "      |_chunking ->  0.005415 seconds\n",
            "      |_chunking ->  0.004534 seconds\n",
            "      |_chunking ->  0.005021 seconds\n",
            "      |_chunking ->  0.005116 seconds\n",
            "      |_chunking ->  0.0045 seconds\n",
            "      |_chunking ->  0.004622 seconds\n",
            "      |_chunking ->  0.004751 seconds\n",
            "      |_chunking ->  0.004614 seconds\n",
            "      |_chunking ->  0.004875 seconds\n",
            "      |_chunking ->  0.004035 seconds\n",
            "      |_chunking ->  0.001756 seconds\n",
            "      |_chunking ->  0.001033 seconds\n",
            "      |_chunking ->  0.00183 seconds\n",
            "      |_chunking ->  0.004102 seconds\n",
            "      |_chunking ->  0.00357 seconds\n",
            "      |_chunking ->  0.003931 seconds\n",
            "      |_chunking ->  0.003817 seconds\n",
            "      |_chunking ->  0.004151 seconds\n",
            "      |_chunking ->  0.006322 seconds\n",
            "      |_chunking ->  0.001486 seconds\n",
            "      |_chunking ->  0.001749 seconds\n",
            "      |_chunking ->  0.002634 seconds\n",
            "      |_chunking ->  0.002184 seconds\n",
            "      |_chunking ->  0.003005 seconds\n",
            "      |_chunking ->  0.001909 seconds\n",
            "      |_chunking ->  0.00631 seconds\n",
            "      |_chunking ->  0.005474 seconds\n",
            "      |_chunking ->  0.001805 seconds\n",
            "      |_chunking ->  0.001391 seconds\n",
            "      |_chunking ->  0.000985 seconds\n",
            "      |_chunking ->  0.001718 seconds\n",
            "      |_chunking ->  0.004707 seconds\n",
            "      |_chunking ->  0.001553 seconds\n",
            "      |_chunking ->  0.001651 seconds\n",
            "      |_chunking ->  0.001201 seconds\n",
            "      |_chunking ->  0.001716 seconds\n",
            "      |_chunking ->  0.003896 seconds\n",
            "      |_chunking ->  0.001681 seconds\n",
            "      |_chunking ->  0.001532 seconds\n",
            "      |_chunking ->  0.00115 seconds\n",
            "      |_chunking ->  0.001537 seconds\n",
            "      |_chunking ->  0.00414 seconds\n",
            "      |_chunking ->  0.007378 seconds\n",
            "      |_chunking ->  0.005608 seconds\n",
            "      |_chunking ->  0.00636 seconds\n",
            "      |_chunking ->  0.005268 seconds\n",
            "      |_chunking ->  0.001542 seconds\n",
            "      |_chunking ->  0.005082 seconds\n",
            "      |_chunking ->  0.004536 seconds\n",
            "      |_chunking ->  0.004731 seconds\n",
            "      |_chunking ->  0.001508 seconds\n",
            "      |_chunking ->  0.004339 seconds\n",
            "      |_chunking ->  0.001335 seconds\n",
            "      |_chunking ->  0.006543 seconds\n",
            "      |_chunking ->  0.001718 seconds\n",
            "      |_chunking ->  0.001279 seconds\n",
            "      |_chunking ->  0.001588 seconds\n",
            "      |_chunking ->  0.0021 seconds\n",
            "      |_chunking ->  0.005201 seconds\n",
            "      |_chunking ->  0.000997 seconds\n",
            "      |_chunking ->  0.003287 seconds\n",
            "      |_chunking ->  0.004103 seconds\n",
            "      |_chunking ->  0.001005 seconds\n",
            "      |_chunking ->  0.00378 seconds\n",
            "      |_chunking ->  0.003602 seconds\n",
            "      |_chunking ->  0.00151 seconds\n",
            "      |_chunking ->  0.001088 seconds\n",
            "      |_chunking ->  0.000263 seconds\n",
            "      |_chunking ->  0.001257 seconds\n",
            "      |_chunking ->  0.002975 seconds\n",
            "      |_chunking ->  0.001437 seconds\n",
            "      |_chunking ->  0.000127 seconds\n",
            "      |_chunking ->  0.001434 seconds\n",
            "      |_chunking ->  0.001876 seconds\n",
            "      |_chunking ->  0.001947 seconds\n",
            "      |_chunking ->  0.000494 seconds\n",
            "      |_chunking ->  0.000486 seconds\n",
            "      |_chunking ->  0.000379 seconds\n",
            "      |_chunking ->  0.000274 seconds\n",
            "      |_chunking ->  0.000482 seconds\n",
            "      |_chunking ->  0.001302 seconds\n",
            "      |_chunking ->  0.001139 seconds\n",
            "      |_chunking ->  0.00088 seconds\n",
            "      |_chunking ->  0.000578 seconds\n",
            "      |_chunking ->  0.000467 seconds\n",
            "      |_chunking ->  0.001395 seconds\n",
            "      |_chunking ->  0.001199 seconds\n",
            "      |_chunking ->  0.001218 seconds\n",
            "      |_chunking ->  0.001131 seconds\n",
            "      |_chunking ->  0.001229 seconds\n",
            "      |_chunking ->  0.001321 seconds\n",
            "      |_chunking ->  0.001355 seconds\n",
            "      |_chunking ->  0.001547 seconds\n",
            "      |_chunking ->  0.001544 seconds\n",
            "      |_chunking ->  0.001472 seconds\n",
            "      |_chunking ->  0.001274 seconds\n",
            "      |_chunking ->  0.001298 seconds\n",
            "      |_chunking ->  0.001526 seconds\n",
            "      |_chunking ->  0.001818 seconds\n",
            "      |_chunking ->  0.001674 seconds\n",
            "      |_chunking ->  0.001538 seconds\n",
            "      |_chunking ->  0.001711 seconds\n",
            "      |_chunking ->  0.001488 seconds\n",
            "      |_chunking ->  0.001321 seconds\n",
            "      |_chunking ->  0.001515 seconds\n",
            "      |_chunking ->  0.001639 seconds\n",
            "      |_chunking ->  0.001513 seconds\n",
            "      |_chunking ->  0.00137 seconds\n",
            "      |_chunking ->  0.001587 seconds\n",
            "      |_chunking ->  0.001494 seconds\n",
            "      |_chunking ->  0.001476 seconds\n",
            "      |_chunking ->  0.001359 seconds\n",
            "      |_chunking ->  0.001378 seconds\n",
            "      |_chunking ->  0.001412 seconds\n",
            "      |_chunking ->  0.001215 seconds\n",
            "      |_chunking ->  0.001328 seconds\n",
            "      |_chunking ->  0.001353 seconds\n",
            "      |_chunking ->  0.001287 seconds\n",
            "      |_chunking ->  0.001264 seconds\n",
            "      |_chunking ->  0.00131 seconds\n",
            "      |_chunking ->  0.001173 seconds\n",
            "      |_chunking ->  0.001469 seconds\n",
            "      |_chunking ->  0.001292 seconds\n",
            "      |_chunking ->  0.001455 seconds\n",
            "      |_chunking ->  0.001441 seconds\n",
            "      |_chunking ->  0.001221 seconds\n",
            "      |_chunking ->  0.001516 seconds\n",
            "      |_chunking ->  0.001647 seconds\n",
            "      |_chunking ->  0.001609 seconds\n",
            "      |_chunking ->  0.001526 seconds\n",
            "      |_chunking ->  0.001678 seconds\n",
            "      |_chunking ->  0.001579 seconds\n",
            "      |_chunking ->  0.001679 seconds\n",
            "      |_chunking ->  0.001425 seconds\n",
            "      |_chunking ->  0.001552 seconds\n",
            "      |_chunking ->  0.002844 seconds\n",
            "      |_chunking ->  0.001548 seconds\n",
            "      |_chunking ->  0.001213 seconds\n",
            "      |_chunking ->  0.001596 seconds\n",
            "      |_chunking ->  0.001592 seconds\n",
            "      |_chunking ->  0.001566 seconds\n",
            "      |_chunking ->  0.002911 seconds\n",
            "      |_chunking ->  0.001446 seconds\n",
            "      |_chunking ->  0.001258 seconds\n",
            "      |_chunking ->  0.001513 seconds\n",
            "      |_chunking ->  0.001593 seconds\n",
            "      |_chunking ->  0.001635 seconds\n",
            "      |_chunking ->  0.001675 seconds\n",
            "      |_chunking ->  0.001428 seconds\n",
            "      |_chunking ->  0.001666 seconds\n",
            "      |_chunking ->  0.001717 seconds\n",
            "      |_chunking ->  0.003156 seconds\n",
            "      |_chunking ->  0.001636 seconds\n",
            "      |_chunking ->  0.003107 seconds\n",
            "      |_chunking ->  0.003199 seconds\n",
            "      |_chunking ->  0.003042 seconds\n",
            "      |_chunking ->  0.003017 seconds\n",
            "      |_chunking ->  0.001768 seconds\n",
            "      |_chunking ->  0.001446 seconds\n",
            "      |_chunking ->  0.001453 seconds\n",
            "      |_chunking ->  0.001659 seconds\n",
            "      |_chunking ->  0.001737 seconds\n",
            "      |_chunking ->  0.001484 seconds\n",
            "      |_chunking ->  0.001877 seconds\n",
            "      |_chunking ->  0.001847 seconds\n",
            "      |_chunking ->  0.001484 seconds\n",
            "      |_chunking ->  0.001481 seconds\n",
            "      |_chunking ->  0.001357 seconds\n",
            "      |_chunking ->  0.001352 seconds\n",
            "      |_chunking ->  0.00139 seconds\n",
            "      |_chunking ->  0.001629 seconds\n",
            "      |_chunking ->  0.001345 seconds\n",
            "      |_chunking ->  0.001572 seconds\n",
            "      |_chunking ->  0.001677 seconds\n",
            "      |_chunking ->  0.001597 seconds\n",
            "      |_chunking ->  0.001413 seconds\n",
            "      |_chunking ->  0.001409 seconds\n",
            "      |_chunking ->  0.001394 seconds\n",
            "      |_chunking ->  0.001103 seconds\n",
            "      |_chunking ->  0.00143 seconds\n",
            "      |_chunking ->  0.001515 seconds\n",
            "      |_chunking ->  0.00124 seconds\n",
            "      |_chunking ->  0.001251 seconds\n",
            "      |_chunking ->  0.001779 seconds\n",
            "      |_chunking ->  0.001436 seconds\n",
            "      |_chunking ->  0.00136 seconds\n",
            "      |_chunking ->  0.001723 seconds\n",
            "      |_chunking ->  0.001677 seconds\n",
            "      |_chunking ->  0.001633 seconds\n",
            "      |_chunking ->  0.001596 seconds\n",
            "      |_chunking ->  0.001437 seconds\n",
            "      |_chunking ->  0.001615 seconds\n",
            "      |_chunking ->  0.001502 seconds\n",
            "      |_chunking ->  0.001775 seconds\n",
            "      |_chunking ->  0.001503 seconds\n",
            "      |_chunking ->  0.001003 seconds\n",
            "      |_chunking ->  0.000617 seconds\n",
            "      |_chunking ->  0.001547 seconds\n",
            "      |_chunking ->  0.001416 seconds\n",
            "      |_chunking ->  0.001731 seconds\n",
            "      |_chunking ->  0.001667 seconds\n",
            "      |_chunking ->  0.003004 seconds\n",
            "      |_chunking ->  0.00149 seconds\n",
            "      |_chunking ->  0.001321 seconds\n",
            "      |_chunking ->  0.001551 seconds\n",
            "      |_chunking ->  0.003029 seconds\n",
            "      |_chunking ->  0.001611 seconds\n",
            "      |_chunking ->  0.001667 seconds\n",
            "      |_chunking ->  0.001447 seconds\n",
            "      |_chunking ->  0.001691 seconds\n",
            "      |_chunking ->  0.001632 seconds\n",
            "      |_chunking ->  0.001611 seconds\n",
            "      |_chunking ->  0.001675 seconds\n",
            "      |_chunking ->  0.001389 seconds\n",
            "      |_chunking ->  0.001229 seconds\n",
            "      |_chunking ->  0.00017 seconds\n",
            "      |_chunking ->  0.000419 seconds\n",
            "      |_chunking ->  0.001379 seconds\n",
            "      |_chunking ->  0.001313 seconds\n",
            "      |_chunking ->  0.00077 seconds\n",
            "    |_embedding ->  1.264722 seconds\n",
            "    |_embedding ->  0.68443 seconds\n",
            "    |_embedding ->  0.710264 seconds\n",
            "    |_embedding ->  0.732851 seconds\n",
            "    |_embedding ->  0.336863 seconds\n",
            "**********\n"
          ]
        }
      ]
    },
    {
      "cell_type": "code",
      "source": [
        "lyft_engine = lyft_index.as_query_engine(similarity_top_k=3)\n",
        "uber_engine = uber_index.as_query_engine(similarity_top_k=3)"
      ],
      "metadata": {
        "id": "BVecZ17QmlJE"
      },
      "execution_count": 11,
      "outputs": []
    },
    {
      "cell_type": "code",
      "source": [
        "query_engine_tools = [\n",
        "    QueryEngineTool(\n",
        "        query_engine=lyft_engine,\n",
        "        metadata=ToolMetadata(\n",
        "            name=\"lyft_10k\",\n",
        "            description=(\n",
        "                \"Provides information about Lyft financials for year 2021. \"\n",
        "                \"Use a detailed plain text question as input to the tool.\"\n",
        "            ),\n",
        "        ),\n",
        "    ),\n",
        "    QueryEngineTool(\n",
        "        query_engine=uber_engine,\n",
        "        metadata=ToolMetadata(\n",
        "            name=\"uber_10k\",\n",
        "            description=(\n",
        "                \"Provides information about Uber financials for year 2021. \"\n",
        "                \"Use a detailed plain text question as input to the tool.\"\n",
        "            ),\n",
        "        ),\n",
        "    ),\n",
        "]"
      ],
      "metadata": {
        "id": "plEz3pMBmnqG"
      },
      "execution_count": 12,
      "outputs": []
    },
    {
      "cell_type": "code",
      "source": [
        "from llama_index.core.agent import ReActAgent\n",
        "agent = ReActAgent.from_tools(\n",
        "    query_engine_tools,\n",
        "    verbose=True,\n",
        "    # context=context\n",
        ")"
      ],
      "metadata": {
        "id": "VMbymUWemsFu"
      },
      "execution_count": 13,
      "outputs": []
    },
    {
      "cell_type": "code",
      "source": [
        "# his example from class\n",
        "# it's auto generating question .  it checks if it has enough information, if not, asks more questions\n",
        "# reactively..  hence ReAct framework..\n",
        "response = agent.chat(\n",
        "    \"\"\"Compare and contrast the revenue growth of Uber and Lyft in 2021, then tell me more about how the company with the highest growth did it\"\"\"\n",
        ")\n",
        "print(str(response))"
      ],
      "metadata": {
        "colab": {
          "base_uri": "https://localhost:8080/"
        },
        "id": "Xo-w5zlM3N40",
        "outputId": "c7aebb1e-b799-4b1f-f356-00e708dd9e63"
      },
      "execution_count": 18,
      "outputs": [
        {
          "output_type": "stream",
          "name": "stdout",
          "text": [
            "\u001b[1;3;38;5;200mThought: I need to use a tool to help me answer the question.\n",
            "Action: uber_10k\n",
            "Action Input: {'input': 'revenue growth in 2021'}\n",
            "\u001b[0m\u001b[1;3;34mObservation: Revenue growth in 2021 was significant, with a $6.3 billion increase, representing a 57% growth compared to the previous year.\n",
            "\u001b[0m\u001b[1;3;38;5;200mThought: I can answer without using any more tools.\n",
            "Answer: In 2021, Uber had a revenue growth of $6.3 billion, which was a 57% increase compared to the previous year. This indicates a significant growth in revenue for Uber in 2021.\n",
            "\u001b[0m**********\n",
            "Trace: chat\n",
            "    |_agent_step ->  3.388134 seconds\n",
            "      |_llm ->  1.088354 seconds\n",
            "      |_function_call ->  1.162045 seconds\n",
            "        |_query ->  1.161807 seconds\n",
            "          |_retrieve ->  0.219453 seconds\n",
            "            |_embedding ->  0.14775 seconds\n",
            "          |_synthesize ->  0.942079 seconds\n",
            "            |_templating ->  6.8e-05 seconds\n",
            "            |_llm ->  0.916686 seconds\n",
            "      |_llm ->  1.129791 seconds\n",
            "**********\n",
            "In 2021, Uber had a revenue growth of $6.3 billion, which was a 57% increase compared to the previous year. This indicates a significant growth in revenue for Uber in 2021.\n"
          ]
        }
      ]
    },
    {
      "cell_type": "code",
      "source": [
        "response = agent.chat(\n",
        "    \"Compare the risk of Uber and Lyft and return a table\"\n",
        ")\n",
        "print(str(response))"
      ],
      "metadata": {
        "colab": {
          "base_uri": "https://localhost:8080/"
        },
        "id": "IAhDZI_Gm7X3",
        "outputId": "4ad040ec-bf82-4d16-9808-e514164c7f3a"
      },
      "execution_count": 19,
      "outputs": [
        {
          "output_type": "stream",
          "name": "stdout",
          "text": [
            "\u001b[1;3;38;5;200mThought: (Implicit) I can answer without any more tools!\n",
            "Answer: | Risk Factors      | Uber                                      | Lyft                                      |\n",
            "|-------------------|-------------------------------------------|-------------------------------------------|\n",
            "| COVID-19 Impact   | Significant impact on business operations | Impact on financial performance           |\n",
            "| Competition       | Intense competition in the industry       | Competition in the ride-sharing market    |\n",
            "| Regulatory Challenges | Legal proceedings on driver classification | Regulatory compliance and governance risks |\n",
            "| Technology        | Investments in new technologies           | Autonomous vehicle technology             |\n",
            "| Security Breaches | Potential security breaches               | Security breaches and data protection    |\n",
            "| Market Volatility | Exposure to market volatility             | Financial performance challenges          |\n",
            "| Operational Risks | Driver and rider retention, insurance coverage | Revenue forecasting, expense management   |\n",
            "| Governance        | Ownership structure and governance risks  | Capital stock ownership and governance    |\n",
            "\u001b[0m**********\n",
            "Trace: chat\n",
            "    |_agent_step ->  3.438854 seconds\n",
            "      |_llm ->  3.435502 seconds\n",
            "**********\n",
            "| Risk Factors      | Uber                                      | Lyft                                      |\n",
            "|-------------------|-------------------------------------------|-------------------------------------------|\n",
            "| COVID-19 Impact   | Significant impact on business operations | Impact on financial performance           |\n",
            "| Competition       | Intense competition in the industry       | Competition in the ride-sharing market    |\n",
            "| Regulatory Challenges | Legal proceedings on driver classification | Regulatory compliance and governance risks |\n",
            "| Technology        | Investments in new technologies           | Autonomous vehicle technology             |\n",
            "| Security Breaches | Potential security breaches               | Security breaches and data protection    |\n",
            "| Market Volatility | Exposure to market volatility             | Financial performance challenges          |\n",
            "| Operational Risks | Driver and rider retention, insurance coverage | Revenue forecasting, expense management   |\n",
            "| Governance        | Ownership structure and governance risks  | Capital stock ownership and governance    |\n"
          ]
        }
      ]
    },
    {
      "cell_type": "code",
      "source": [
        "response = agent.chat(\n",
        "    \"Conduct an investment analysis on Lyft and Uber\"\n",
        ")\n",
        "print(str(response))"
      ],
      "metadata": {
        "colab": {
          "base_uri": "https://localhost:8080/"
        },
        "id": "KCpmjvfO5pOu",
        "outputId": "d877670f-551b-46d0-abf2-2ba0b08a1349"
      },
      "execution_count": 22,
      "outputs": [
        {
          "output_type": "stream",
          "name": "stdout",
          "text": [
            "\u001b[1;3;38;5;200mThought: I need to use a tool to help me conduct an investment analysis on Lyft and Uber.\n",
            "Action: lyft_10k\n",
            "Action Input: {'input': 'investment analysis'}\n",
            "\u001b[0m\u001b[1;3;34mObservation: The company's investments primarily consist of cash, cash equivalents, short-term investments, and restricted investments in various financial instruments like money market funds, certificates of deposits, commercial paper, corporate bonds, and term deposits. These investments are subject to interest rate risk, but a hypothetical 100 basis points change in interest rates is not expected to have a material impact on the company's financial condition or results of operations due to the short-term nature of the investment portfolio. Additionally, the company holds long-term debt, mainly in the form of fixed-rate Convertible Senior Notes, and a hypothetical 100 basis points change in interest rates is also not anticipated to have a material impact on the company's financials.\n",
            "\u001b[0m\u001b[1;3;38;5;200mThought: I can answer without using any more tools.\n",
            "Answer: Based on the information provided, both Lyft and Uber have investments primarily consisting of cash, cash equivalents, short-term investments, and restricted investments in various financial instruments. These investments are subject to interest rate risk, but a hypothetical 100 basis points change in interest rates is not expected to have a material impact on the financial condition or results of operations of either company due to the short-term nature of the investment portfolios. Additionally, both companies hold long-term debt, mainly in the form of fixed-rate Convertible Senior Notes, and a hypothetical 100 basis points change in interest rates is not anticipated to materially affect their financials.\n",
            "\u001b[0m**********\n",
            "Trace: chat\n",
            "    |_agent_step ->  6.268106 seconds\n",
            "      |_llm ->  1.219025 seconds\n",
            "      |_function_call ->  2.513326 seconds\n",
            "        |_query ->  2.513048 seconds\n",
            "          |_retrieve ->  0.138111 seconds\n",
            "            |_embedding ->  0.106424 seconds\n",
            "          |_synthesize ->  2.374731 seconds\n",
            "            |_templating ->  4.9e-05 seconds\n",
            "            |_llm ->  2.368412 seconds\n",
            "      |_llm ->  2.523665 seconds\n",
            "**********\n",
            "Based on the information provided, both Lyft and Uber have investments primarily consisting of cash, cash equivalents, short-term investments, and restricted investments in various financial instruments. These investments are subject to interest rate risk, but a hypothetical 100 basis points change in interest rates is not expected to have a material impact on the financial condition or results of operations of either company due to the short-term nature of the investment portfolios. Additionally, both companies hold long-term debt, mainly in the form of fixed-rate Convertible Senior Notes, and a hypothetical 100 basis points change in interest rates is not anticipated to materially affect their financials.\n"
          ]
        }
      ]
    },
    {
      "cell_type": "code",
      "source": [],
      "metadata": {
        "id": "Mye1z-5Ln0CA"
      },
      "execution_count": null,
      "outputs": []
    },
    {
      "cell_type": "markdown",
      "source": [
        "# MSFT AutoGen"
      ],
      "metadata": {
        "id": "kzDkk_LAjeR9"
      }
    },
    {
      "cell_type": "code",
      "source": [],
      "metadata": {
        "id": "Lhb_omAEjgml"
      },
      "execution_count": null,
      "outputs": []
    }
  ]
}