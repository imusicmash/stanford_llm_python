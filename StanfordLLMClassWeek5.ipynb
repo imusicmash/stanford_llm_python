{
  "nbformat": 4,
  "nbformat_minor": 0,
  "metadata": {
    "colab": {
      "provenance": [],
      "gpuType": "T4",
      "toc_visible": true,
      "include_colab_link": true
    },
    "kernelspec": {
      "name": "python3",
      "display_name": "Python 3"
    },
    "language_info": {
      "name": "python"
    }
  },
  "cells": [
    {
      "cell_type": "markdown",
      "metadata": {
        "id": "view-in-github",
        "colab_type": "text"
      },
      "source": [
        "<a href=\"https://colab.research.google.com/github/imusicmash/stanford_llm_python/blob/main/StanfordLLMClassWeek5.ipynb\" target=\"_parent\"><img src=\"https://colab.research.google.com/assets/colab-badge.svg\" alt=\"Open In Colab\"/></a>"
      ]
    },
    {
      "cell_type": "code",
      "source": [
        "!pip install openai\n",
        "!pip install sentence-transformers\n",
        "!pip install langchain pypdf langchain-openai #tiktoken chromadb"
      ],
      "metadata": {
        "id": "UAsj88npPdRu"
      },
      "execution_count": null,
      "outputs": []
    },
    {
      "cell_type": "code",
      "source": [
        "# need thes aysnc stuff later for the agent summary to work\n",
        "!pip install nest-asyncio\n",
        "import nest_asyncio\n",
        "nest_asyncio.apply()"
      ],
      "metadata": {
        "colab": {
          "base_uri": "https://localhost:8080/"
        },
        "id": "L9SSNF_3NdKY",
        "outputId": "a9f01476-9d11-4399-ba01-99294b85dc3f"
      },
      "execution_count": 11,
      "outputs": [
        {
          "output_type": "stream",
          "name": "stdout",
          "text": [
            "Requirement already satisfied: nest-asyncio in /usr/local/lib/python3.10/dist-packages (1.6.0)\n"
          ]
        }
      ]
    },
    {
      "cell_type": "markdown",
      "source": [
        "# RAG"
      ],
      "metadata": {
        "id": "JlNnTJmFN6k9"
      }
    },
    {
      "cell_type": "code",
      "source": [
        "!pip install llama-index --upgrade"
      ],
      "metadata": {
        "colab": {
          "base_uri": "https://localhost:8080/"
        },
        "id": "o2XmY9HZN-Ji",
        "outputId": "87a21535-4af4-451a-d389-bf66b2fab025"
      },
      "execution_count": 15,
      "outputs": [
        {
          "output_type": "stream",
          "name": "stdout",
          "text": [
            "Requirement already satisfied: llama-index in /usr/local/lib/python3.10/dist-packages (0.10.16)\n",
            "Requirement already satisfied: llama-index-agent-openai<0.2.0,>=0.1.4 in /usr/local/lib/python3.10/dist-packages (from llama-index) (0.1.5)\n",
            "Requirement already satisfied: llama-index-cli<0.2.0,>=0.1.2 in /usr/local/lib/python3.10/dist-packages (from llama-index) (0.1.7)\n",
            "Requirement already satisfied: llama-index-core<0.11.0,>=0.10.16 in /usr/local/lib/python3.10/dist-packages (from llama-index) (0.10.16.post1)\n",
            "Requirement already satisfied: llama-index-embeddings-openai<0.2.0,>=0.1.5 in /usr/local/lib/python3.10/dist-packages (from llama-index) (0.1.6)\n",
            "Requirement already satisfied: llama-index-indices-managed-llama-cloud<0.2.0,>=0.1.2 in /usr/local/lib/python3.10/dist-packages (from llama-index) (0.1.3)\n",
            "Requirement already satisfied: llama-index-legacy<0.10.0,>=0.9.48 in /usr/local/lib/python3.10/dist-packages (from llama-index) (0.9.48)\n",
            "Requirement already satisfied: llama-index-llms-openai<0.2.0,>=0.1.5 in /usr/local/lib/python3.10/dist-packages (from llama-index) (0.1.7)\n",
            "Requirement already satisfied: llama-index-multi-modal-llms-openai<0.2.0,>=0.1.3 in /usr/local/lib/python3.10/dist-packages (from llama-index) (0.1.4)\n",
            "Requirement already satisfied: llama-index-program-openai<0.2.0,>=0.1.3 in /usr/local/lib/python3.10/dist-packages (from llama-index) (0.1.4)\n",
            "Requirement already satisfied: llama-index-question-gen-openai<0.2.0,>=0.1.2 in /usr/local/lib/python3.10/dist-packages (from llama-index) (0.1.3)\n",
            "Requirement already satisfied: llama-index-readers-file<0.2.0,>=0.1.4 in /usr/local/lib/python3.10/dist-packages (from llama-index) (0.1.7)\n",
            "Requirement already satisfied: llama-index-readers-llama-parse<0.2.0,>=0.1.2 in /usr/local/lib/python3.10/dist-packages (from llama-index) (0.1.3)\n",
            "Requirement already satisfied: llama-index-vector-stores-chroma<0.2.0,>=0.1.1 in /usr/local/lib/python3.10/dist-packages (from llama-index-cli<0.2.0,>=0.1.2->llama-index) (0.1.5)\n",
            "Requirement already satisfied: PyYAML>=6.0.1 in /usr/local/lib/python3.10/dist-packages (from llama-index-core<0.11.0,>=0.10.16->llama-index) (6.0.1)\n",
            "Requirement already satisfied: SQLAlchemy[asyncio]>=1.4.49 in /usr/local/lib/python3.10/dist-packages (from llama-index-core<0.11.0,>=0.10.16->llama-index) (2.0.27)\n",
            "Requirement already satisfied: aiohttp<4.0.0,>=3.8.6 in /usr/local/lib/python3.10/dist-packages (from llama-index-core<0.11.0,>=0.10.16->llama-index) (3.9.3)\n",
            "Requirement already satisfied: dataclasses-json in /usr/local/lib/python3.10/dist-packages (from llama-index-core<0.11.0,>=0.10.16->llama-index) (0.6.4)\n",
            "Requirement already satisfied: deprecated>=1.2.9.3 in /usr/local/lib/python3.10/dist-packages (from llama-index-core<0.11.0,>=0.10.16->llama-index) (1.2.14)\n",
            "Requirement already satisfied: dirtyjson<2.0.0,>=1.0.8 in /usr/local/lib/python3.10/dist-packages (from llama-index-core<0.11.0,>=0.10.16->llama-index) (1.0.8)\n",
            "Requirement already satisfied: fsspec>=2023.5.0 in /usr/local/lib/python3.10/dist-packages (from llama-index-core<0.11.0,>=0.10.16->llama-index) (2023.6.0)\n",
            "Requirement already satisfied: httpx in /usr/local/lib/python3.10/dist-packages (from llama-index-core<0.11.0,>=0.10.16->llama-index) (0.27.0)\n",
            "Requirement already satisfied: llamaindex-py-client<0.2.0,>=0.1.13 in /usr/local/lib/python3.10/dist-packages (from llama-index-core<0.11.0,>=0.10.16->llama-index) (0.1.13)\n",
            "Requirement already satisfied: nest-asyncio<2.0.0,>=1.5.8 in /usr/local/lib/python3.10/dist-packages (from llama-index-core<0.11.0,>=0.10.16->llama-index) (1.6.0)\n",
            "Requirement already satisfied: networkx>=3.0 in /usr/local/lib/python3.10/dist-packages (from llama-index-core<0.11.0,>=0.10.16->llama-index) (3.2.1)\n",
            "Requirement already satisfied: nltk<4.0.0,>=3.8.1 in /usr/local/lib/python3.10/dist-packages (from llama-index-core<0.11.0,>=0.10.16->llama-index) (3.8.1)\n",
            "Requirement already satisfied: numpy in /usr/local/lib/python3.10/dist-packages (from llama-index-core<0.11.0,>=0.10.16->llama-index) (1.25.2)\n",
            "Requirement already satisfied: openai>=1.1.0 in /usr/local/lib/python3.10/dist-packages (from llama-index-core<0.11.0,>=0.10.16->llama-index) (1.13.3)\n",
            "Requirement already satisfied: pandas in /usr/local/lib/python3.10/dist-packages (from llama-index-core<0.11.0,>=0.10.16->llama-index) (1.5.3)\n",
            "Requirement already satisfied: pillow>=9.0.0 in /usr/local/lib/python3.10/dist-packages (from llama-index-core<0.11.0,>=0.10.16->llama-index) (9.4.0)\n",
            "Requirement already satisfied: requests>=2.31.0 in /usr/local/lib/python3.10/dist-packages (from llama-index-core<0.11.0,>=0.10.16->llama-index) (2.31.0)\n",
            "Requirement already satisfied: tenacity<9.0.0,>=8.2.0 in /usr/local/lib/python3.10/dist-packages (from llama-index-core<0.11.0,>=0.10.16->llama-index) (8.2.3)\n",
            "Requirement already satisfied: tiktoken>=0.3.3 in /usr/local/lib/python3.10/dist-packages (from llama-index-core<0.11.0,>=0.10.16->llama-index) (0.6.0)\n",
            "Requirement already satisfied: tqdm<5.0.0,>=4.66.1 in /usr/local/lib/python3.10/dist-packages (from llama-index-core<0.11.0,>=0.10.16->llama-index) (4.66.2)\n",
            "Requirement already satisfied: typing-extensions>=4.5.0 in /usr/local/lib/python3.10/dist-packages (from llama-index-core<0.11.0,>=0.10.16->llama-index) (4.10.0)\n",
            "Requirement already satisfied: typing-inspect>=0.8.0 in /usr/local/lib/python3.10/dist-packages (from llama-index-core<0.11.0,>=0.10.16->llama-index) (0.9.0)\n",
            "Requirement already satisfied: beautifulsoup4<5.0.0,>=4.12.3 in /usr/local/lib/python3.10/dist-packages (from llama-index-readers-file<0.2.0,>=0.1.4->llama-index) (4.12.3)\n",
            "Requirement already satisfied: bs4<0.0.3,>=0.0.2 in /usr/local/lib/python3.10/dist-packages (from llama-index-readers-file<0.2.0,>=0.1.4->llama-index) (0.0.2)\n",
            "Requirement already satisfied: pymupdf<2.0.0,>=1.23.21 in /usr/local/lib/python3.10/dist-packages (from llama-index-readers-file<0.2.0,>=0.1.4->llama-index) (1.23.26)\n",
            "Requirement already satisfied: pypdf<5.0.0,>=4.0.1 in /usr/local/lib/python3.10/dist-packages (from llama-index-readers-file<0.2.0,>=0.1.4->llama-index) (4.1.0)\n",
            "Requirement already satisfied: llama-parse<0.4.0,>=0.3.3 in /usr/local/lib/python3.10/dist-packages (from llama-index-readers-llama-parse<0.2.0,>=0.1.2->llama-index) (0.3.6)\n",
            "Requirement already satisfied: aiosignal>=1.1.2 in /usr/local/lib/python3.10/dist-packages (from aiohttp<4.0.0,>=3.8.6->llama-index-core<0.11.0,>=0.10.16->llama-index) (1.3.1)\n",
            "Requirement already satisfied: attrs>=17.3.0 in /usr/local/lib/python3.10/dist-packages (from aiohttp<4.0.0,>=3.8.6->llama-index-core<0.11.0,>=0.10.16->llama-index) (23.2.0)\n",
            "Requirement already satisfied: frozenlist>=1.1.1 in /usr/local/lib/python3.10/dist-packages (from aiohttp<4.0.0,>=3.8.6->llama-index-core<0.11.0,>=0.10.16->llama-index) (1.4.1)\n",
            "Requirement already satisfied: multidict<7.0,>=4.5 in /usr/local/lib/python3.10/dist-packages (from aiohttp<4.0.0,>=3.8.6->llama-index-core<0.11.0,>=0.10.16->llama-index) (6.0.5)\n",
            "Requirement already satisfied: yarl<2.0,>=1.0 in /usr/local/lib/python3.10/dist-packages (from aiohttp<4.0.0,>=3.8.6->llama-index-core<0.11.0,>=0.10.16->llama-index) (1.9.4)\n",
            "Requirement already satisfied: async-timeout<5.0,>=4.0 in /usr/local/lib/python3.10/dist-packages (from aiohttp<4.0.0,>=3.8.6->llama-index-core<0.11.0,>=0.10.16->llama-index) (4.0.3)\n",
            "Requirement already satisfied: soupsieve>1.2 in /usr/local/lib/python3.10/dist-packages (from beautifulsoup4<5.0.0,>=4.12.3->llama-index-readers-file<0.2.0,>=0.1.4->llama-index) (2.5)\n",
            "Requirement already satisfied: wrapt<2,>=1.10 in /usr/local/lib/python3.10/dist-packages (from deprecated>=1.2.9.3->llama-index-core<0.11.0,>=0.10.16->llama-index) (1.14.1)\n",
            "Requirement already satisfied: chromadb<0.5.0,>=0.4.22 in /usr/local/lib/python3.10/dist-packages (from llama-index-vector-stores-chroma<0.2.0,>=0.1.1->llama-index-cli<0.2.0,>=0.1.2->llama-index) (0.4.24)\n",
            "Requirement already satisfied: onnxruntime<2.0.0,>=1.17.0 in /usr/local/lib/python3.10/dist-packages (from llama-index-vector-stores-chroma<0.2.0,>=0.1.1->llama-index-cli<0.2.0,>=0.1.2->llama-index) (1.17.1)\n",
            "Requirement already satisfied: tokenizers<0.16.0,>=0.15.1 in /usr/local/lib/python3.10/dist-packages (from llama-index-vector-stores-chroma<0.2.0,>=0.1.1->llama-index-cli<0.2.0,>=0.1.2->llama-index) (0.15.2)\n",
            "Requirement already satisfied: pydantic>=1.10 in /usr/local/lib/python3.10/dist-packages (from llamaindex-py-client<0.2.0,>=0.1.13->llama-index-core<0.11.0,>=0.10.16->llama-index) (2.6.3)\n",
            "Requirement already satisfied: anyio in /usr/local/lib/python3.10/dist-packages (from httpx->llama-index-core<0.11.0,>=0.10.16->llama-index) (3.7.1)\n",
            "Requirement already satisfied: certifi in /usr/local/lib/python3.10/dist-packages (from httpx->llama-index-core<0.11.0,>=0.10.16->llama-index) (2024.2.2)\n",
            "Requirement already satisfied: httpcore==1.* in /usr/local/lib/python3.10/dist-packages (from httpx->llama-index-core<0.11.0,>=0.10.16->llama-index) (1.0.4)\n",
            "Requirement already satisfied: idna in /usr/local/lib/python3.10/dist-packages (from httpx->llama-index-core<0.11.0,>=0.10.16->llama-index) (3.6)\n",
            "Requirement already satisfied: sniffio in /usr/local/lib/python3.10/dist-packages (from httpx->llama-index-core<0.11.0,>=0.10.16->llama-index) (1.3.1)\n",
            "Requirement already satisfied: h11<0.15,>=0.13 in /usr/local/lib/python3.10/dist-packages (from httpcore==1.*->httpx->llama-index-core<0.11.0,>=0.10.16->llama-index) (0.14.0)\n",
            "Requirement already satisfied: click in /usr/local/lib/python3.10/dist-packages (from nltk<4.0.0,>=3.8.1->llama-index-core<0.11.0,>=0.10.16->llama-index) (8.1.7)\n",
            "Requirement already satisfied: joblib in /usr/local/lib/python3.10/dist-packages (from nltk<4.0.0,>=3.8.1->llama-index-core<0.11.0,>=0.10.16->llama-index) (1.3.2)\n",
            "Requirement already satisfied: regex>=2021.8.3 in /usr/local/lib/python3.10/dist-packages (from nltk<4.0.0,>=3.8.1->llama-index-core<0.11.0,>=0.10.16->llama-index) (2023.12.25)\n",
            "Requirement already satisfied: distro<2,>=1.7.0 in /usr/lib/python3/dist-packages (from openai>=1.1.0->llama-index-core<0.11.0,>=0.10.16->llama-index) (1.7.0)\n",
            "Requirement already satisfied: PyMuPDFb==1.23.22 in /usr/local/lib/python3.10/dist-packages (from pymupdf<2.0.0,>=1.23.21->llama-index-readers-file<0.2.0,>=0.1.4->llama-index) (1.23.22)\n",
            "Requirement already satisfied: charset-normalizer<4,>=2 in /usr/local/lib/python3.10/dist-packages (from requests>=2.31.0->llama-index-core<0.11.0,>=0.10.16->llama-index) (3.3.2)\n",
            "Requirement already satisfied: urllib3<3,>=1.21.1 in /usr/local/lib/python3.10/dist-packages (from requests>=2.31.0->llama-index-core<0.11.0,>=0.10.16->llama-index) (2.0.7)\n",
            "Requirement already satisfied: greenlet!=0.4.17 in /usr/local/lib/python3.10/dist-packages (from SQLAlchemy[asyncio]>=1.4.49->llama-index-core<0.11.0,>=0.10.16->llama-index) (3.0.3)\n",
            "Requirement already satisfied: mypy-extensions>=0.3.0 in /usr/local/lib/python3.10/dist-packages (from typing-inspect>=0.8.0->llama-index-core<0.11.0,>=0.10.16->llama-index) (1.0.0)\n",
            "Requirement already satisfied: marshmallow<4.0.0,>=3.18.0 in /usr/local/lib/python3.10/dist-packages (from dataclasses-json->llama-index-core<0.11.0,>=0.10.16->llama-index) (3.21.1)\n",
            "Requirement already satisfied: python-dateutil>=2.8.1 in /usr/local/lib/python3.10/dist-packages (from pandas->llama-index-core<0.11.0,>=0.10.16->llama-index) (2.8.2)\n",
            "Requirement already satisfied: pytz>=2020.1 in /usr/local/lib/python3.10/dist-packages (from pandas->llama-index-core<0.11.0,>=0.10.16->llama-index) (2023.4)\n",
            "Requirement already satisfied: exceptiongroup in /usr/local/lib/python3.10/dist-packages (from anyio->httpx->llama-index-core<0.11.0,>=0.10.16->llama-index) (1.2.0)\n",
            "Requirement already satisfied: build>=1.0.3 in /usr/local/lib/python3.10/dist-packages (from chromadb<0.5.0,>=0.4.22->llama-index-vector-stores-chroma<0.2.0,>=0.1.1->llama-index-cli<0.2.0,>=0.1.2->llama-index) (1.1.1)\n",
            "Requirement already satisfied: chroma-hnswlib==0.7.3 in /usr/local/lib/python3.10/dist-packages (from chromadb<0.5.0,>=0.4.22->llama-index-vector-stores-chroma<0.2.0,>=0.1.1->llama-index-cli<0.2.0,>=0.1.2->llama-index) (0.7.3)\n",
            "Requirement already satisfied: fastapi>=0.95.2 in /usr/local/lib/python3.10/dist-packages (from chromadb<0.5.0,>=0.4.22->llama-index-vector-stores-chroma<0.2.0,>=0.1.1->llama-index-cli<0.2.0,>=0.1.2->llama-index) (0.110.0)\n",
            "Requirement already satisfied: uvicorn[standard]>=0.18.3 in /usr/local/lib/python3.10/dist-packages (from chromadb<0.5.0,>=0.4.22->llama-index-vector-stores-chroma<0.2.0,>=0.1.1->llama-index-cli<0.2.0,>=0.1.2->llama-index) (0.27.1)\n",
            "Requirement already satisfied: posthog>=2.4.0 in /usr/local/lib/python3.10/dist-packages (from chromadb<0.5.0,>=0.4.22->llama-index-vector-stores-chroma<0.2.0,>=0.1.1->llama-index-cli<0.2.0,>=0.1.2->llama-index) (3.5.0)\n",
            "Requirement already satisfied: pulsar-client>=3.1.0 in /usr/local/lib/python3.10/dist-packages (from chromadb<0.5.0,>=0.4.22->llama-index-vector-stores-chroma<0.2.0,>=0.1.1->llama-index-cli<0.2.0,>=0.1.2->llama-index) (3.4.0)\n",
            "Requirement already satisfied: opentelemetry-api>=1.2.0 in /usr/local/lib/python3.10/dist-packages (from chromadb<0.5.0,>=0.4.22->llama-index-vector-stores-chroma<0.2.0,>=0.1.1->llama-index-cli<0.2.0,>=0.1.2->llama-index) (1.23.0)\n",
            "Requirement already satisfied: opentelemetry-exporter-otlp-proto-grpc>=1.2.0 in /usr/local/lib/python3.10/dist-packages (from chromadb<0.5.0,>=0.4.22->llama-index-vector-stores-chroma<0.2.0,>=0.1.1->llama-index-cli<0.2.0,>=0.1.2->llama-index) (1.23.0)\n",
            "Requirement already satisfied: opentelemetry-instrumentation-fastapi>=0.41b0 in /usr/local/lib/python3.10/dist-packages (from chromadb<0.5.0,>=0.4.22->llama-index-vector-stores-chroma<0.2.0,>=0.1.1->llama-index-cli<0.2.0,>=0.1.2->llama-index) (0.44b0)\n",
            "Requirement already satisfied: opentelemetry-sdk>=1.2.0 in /usr/local/lib/python3.10/dist-packages (from chromadb<0.5.0,>=0.4.22->llama-index-vector-stores-chroma<0.2.0,>=0.1.1->llama-index-cli<0.2.0,>=0.1.2->llama-index) (1.23.0)\n",
            "Requirement already satisfied: pypika>=0.48.9 in /usr/local/lib/python3.10/dist-packages (from chromadb<0.5.0,>=0.4.22->llama-index-vector-stores-chroma<0.2.0,>=0.1.1->llama-index-cli<0.2.0,>=0.1.2->llama-index) (0.48.9)\n",
            "Requirement already satisfied: overrides>=7.3.1 in /usr/local/lib/python3.10/dist-packages (from chromadb<0.5.0,>=0.4.22->llama-index-vector-stores-chroma<0.2.0,>=0.1.1->llama-index-cli<0.2.0,>=0.1.2->llama-index) (7.7.0)\n",
            "Requirement already satisfied: importlib-resources in /usr/local/lib/python3.10/dist-packages (from chromadb<0.5.0,>=0.4.22->llama-index-vector-stores-chroma<0.2.0,>=0.1.1->llama-index-cli<0.2.0,>=0.1.2->llama-index) (6.1.2)\n",
            "Requirement already satisfied: grpcio>=1.58.0 in /usr/local/lib/python3.10/dist-packages (from chromadb<0.5.0,>=0.4.22->llama-index-vector-stores-chroma<0.2.0,>=0.1.1->llama-index-cli<0.2.0,>=0.1.2->llama-index) (1.62.0)\n",
            "Requirement already satisfied: bcrypt>=4.0.1 in /usr/local/lib/python3.10/dist-packages (from chromadb<0.5.0,>=0.4.22->llama-index-vector-stores-chroma<0.2.0,>=0.1.1->llama-index-cli<0.2.0,>=0.1.2->llama-index) (4.1.2)\n",
            "Requirement already satisfied: typer>=0.9.0 in /usr/local/lib/python3.10/dist-packages (from chromadb<0.5.0,>=0.4.22->llama-index-vector-stores-chroma<0.2.0,>=0.1.1->llama-index-cli<0.2.0,>=0.1.2->llama-index) (0.9.0)\n",
            "Requirement already satisfied: kubernetes>=28.1.0 in /usr/local/lib/python3.10/dist-packages (from chromadb<0.5.0,>=0.4.22->llama-index-vector-stores-chroma<0.2.0,>=0.1.1->llama-index-cli<0.2.0,>=0.1.2->llama-index) (29.0.0)\n",
            "Requirement already satisfied: mmh3>=4.0.1 in /usr/local/lib/python3.10/dist-packages (from chromadb<0.5.0,>=0.4.22->llama-index-vector-stores-chroma<0.2.0,>=0.1.1->llama-index-cli<0.2.0,>=0.1.2->llama-index) (4.1.0)\n",
            "Requirement already satisfied: orjson>=3.9.12 in /usr/local/lib/python3.10/dist-packages (from chromadb<0.5.0,>=0.4.22->llama-index-vector-stores-chroma<0.2.0,>=0.1.1->llama-index-cli<0.2.0,>=0.1.2->llama-index) (3.9.15)\n",
            "Requirement already satisfied: packaging>=17.0 in /usr/local/lib/python3.10/dist-packages (from marshmallow<4.0.0,>=3.18.0->dataclasses-json->llama-index-core<0.11.0,>=0.10.16->llama-index) (23.2)\n",
            "Requirement already satisfied: coloredlogs in /usr/local/lib/python3.10/dist-packages (from onnxruntime<2.0.0,>=1.17.0->llama-index-vector-stores-chroma<0.2.0,>=0.1.1->llama-index-cli<0.2.0,>=0.1.2->llama-index) (15.0.1)\n",
            "Requirement already satisfied: flatbuffers in /usr/local/lib/python3.10/dist-packages (from onnxruntime<2.0.0,>=1.17.0->llama-index-vector-stores-chroma<0.2.0,>=0.1.1->llama-index-cli<0.2.0,>=0.1.2->llama-index) (23.5.26)\n",
            "Requirement already satisfied: protobuf in /usr/local/lib/python3.10/dist-packages (from onnxruntime<2.0.0,>=1.17.0->llama-index-vector-stores-chroma<0.2.0,>=0.1.1->llama-index-cli<0.2.0,>=0.1.2->llama-index) (3.20.3)\n",
            "Requirement already satisfied: sympy in /usr/local/lib/python3.10/dist-packages (from onnxruntime<2.0.0,>=1.17.0->llama-index-vector-stores-chroma<0.2.0,>=0.1.1->llama-index-cli<0.2.0,>=0.1.2->llama-index) (1.12)\n",
            "Requirement already satisfied: annotated-types>=0.4.0 in /usr/local/lib/python3.10/dist-packages (from pydantic>=1.10->llamaindex-py-client<0.2.0,>=0.1.13->llama-index-core<0.11.0,>=0.10.16->llama-index) (0.6.0)\n",
            "Requirement already satisfied: pydantic-core==2.16.3 in /usr/local/lib/python3.10/dist-packages (from pydantic>=1.10->llamaindex-py-client<0.2.0,>=0.1.13->llama-index-core<0.11.0,>=0.10.16->llama-index) (2.16.3)\n",
            "Requirement already satisfied: six>=1.5 in /usr/local/lib/python3.10/dist-packages (from python-dateutil>=2.8.1->pandas->llama-index-core<0.11.0,>=0.10.16->llama-index) (1.16.0)\n",
            "Requirement already satisfied: huggingface_hub<1.0,>=0.16.4 in /usr/local/lib/python3.10/dist-packages (from tokenizers<0.16.0,>=0.15.1->llama-index-vector-stores-chroma<0.2.0,>=0.1.1->llama-index-cli<0.2.0,>=0.1.2->llama-index) (0.20.3)\n",
            "Requirement already satisfied: pyproject_hooks in /usr/local/lib/python3.10/dist-packages (from build>=1.0.3->chromadb<0.5.0,>=0.4.22->llama-index-vector-stores-chroma<0.2.0,>=0.1.1->llama-index-cli<0.2.0,>=0.1.2->llama-index) (1.0.0)\n",
            "Requirement already satisfied: tomli>=1.1.0 in /usr/local/lib/python3.10/dist-packages (from build>=1.0.3->chromadb<0.5.0,>=0.4.22->llama-index-vector-stores-chroma<0.2.0,>=0.1.1->llama-index-cli<0.2.0,>=0.1.2->llama-index) (2.0.1)\n",
            "Requirement already satisfied: starlette<0.37.0,>=0.36.3 in /usr/local/lib/python3.10/dist-packages (from fastapi>=0.95.2->chromadb<0.5.0,>=0.4.22->llama-index-vector-stores-chroma<0.2.0,>=0.1.1->llama-index-cli<0.2.0,>=0.1.2->llama-index) (0.36.3)\n",
            "Requirement already satisfied: filelock in /usr/local/lib/python3.10/dist-packages (from huggingface_hub<1.0,>=0.16.4->tokenizers<0.16.0,>=0.15.1->llama-index-vector-stores-chroma<0.2.0,>=0.1.1->llama-index-cli<0.2.0,>=0.1.2->llama-index) (3.13.1)\n",
            "Requirement already satisfied: google-auth>=1.0.1 in /usr/local/lib/python3.10/dist-packages (from kubernetes>=28.1.0->chromadb<0.5.0,>=0.4.22->llama-index-vector-stores-chroma<0.2.0,>=0.1.1->llama-index-cli<0.2.0,>=0.1.2->llama-index) (2.27.0)\n",
            "Requirement already satisfied: websocket-client!=0.40.0,!=0.41.*,!=0.42.*,>=0.32.0 in /usr/local/lib/python3.10/dist-packages (from kubernetes>=28.1.0->chromadb<0.5.0,>=0.4.22->llama-index-vector-stores-chroma<0.2.0,>=0.1.1->llama-index-cli<0.2.0,>=0.1.2->llama-index) (1.7.0)\n",
            "Requirement already satisfied: requests-oauthlib in /usr/local/lib/python3.10/dist-packages (from kubernetes>=28.1.0->chromadb<0.5.0,>=0.4.22->llama-index-vector-stores-chroma<0.2.0,>=0.1.1->llama-index-cli<0.2.0,>=0.1.2->llama-index) (1.3.1)\n",
            "Requirement already satisfied: oauthlib>=3.2.2 in /usr/local/lib/python3.10/dist-packages (from kubernetes>=28.1.0->chromadb<0.5.0,>=0.4.22->llama-index-vector-stores-chroma<0.2.0,>=0.1.1->llama-index-cli<0.2.0,>=0.1.2->llama-index) (3.2.2)\n",
            "Requirement already satisfied: importlib-metadata<7.0,>=6.0 in /usr/local/lib/python3.10/dist-packages (from opentelemetry-api>=1.2.0->chromadb<0.5.0,>=0.4.22->llama-index-vector-stores-chroma<0.2.0,>=0.1.1->llama-index-cli<0.2.0,>=0.1.2->llama-index) (6.11.0)\n",
            "Requirement already satisfied: googleapis-common-protos~=1.52 in /usr/local/lib/python3.10/dist-packages (from opentelemetry-exporter-otlp-proto-grpc>=1.2.0->chromadb<0.5.0,>=0.4.22->llama-index-vector-stores-chroma<0.2.0,>=0.1.1->llama-index-cli<0.2.0,>=0.1.2->llama-index) (1.62.0)\n",
            "Requirement already satisfied: opentelemetry-exporter-otlp-proto-common==1.23.0 in /usr/local/lib/python3.10/dist-packages (from opentelemetry-exporter-otlp-proto-grpc>=1.2.0->chromadb<0.5.0,>=0.4.22->llama-index-vector-stores-chroma<0.2.0,>=0.1.1->llama-index-cli<0.2.0,>=0.1.2->llama-index) (1.23.0)\n",
            "Requirement already satisfied: opentelemetry-proto==1.23.0 in /usr/local/lib/python3.10/dist-packages (from opentelemetry-exporter-otlp-proto-grpc>=1.2.0->chromadb<0.5.0,>=0.4.22->llama-index-vector-stores-chroma<0.2.0,>=0.1.1->llama-index-cli<0.2.0,>=0.1.2->llama-index) (1.23.0)\n",
            "Requirement already satisfied: opentelemetry-instrumentation-asgi==0.44b0 in /usr/local/lib/python3.10/dist-packages (from opentelemetry-instrumentation-fastapi>=0.41b0->chromadb<0.5.0,>=0.4.22->llama-index-vector-stores-chroma<0.2.0,>=0.1.1->llama-index-cli<0.2.0,>=0.1.2->llama-index) (0.44b0)\n",
            "Requirement already satisfied: opentelemetry-instrumentation==0.44b0 in /usr/local/lib/python3.10/dist-packages (from opentelemetry-instrumentation-fastapi>=0.41b0->chromadb<0.5.0,>=0.4.22->llama-index-vector-stores-chroma<0.2.0,>=0.1.1->llama-index-cli<0.2.0,>=0.1.2->llama-index) (0.44b0)\n",
            "Requirement already satisfied: opentelemetry-semantic-conventions==0.44b0 in /usr/local/lib/python3.10/dist-packages (from opentelemetry-instrumentation-fastapi>=0.41b0->chromadb<0.5.0,>=0.4.22->llama-index-vector-stores-chroma<0.2.0,>=0.1.1->llama-index-cli<0.2.0,>=0.1.2->llama-index) (0.44b0)\n",
            "Requirement already satisfied: opentelemetry-util-http==0.44b0 in /usr/local/lib/python3.10/dist-packages (from opentelemetry-instrumentation-fastapi>=0.41b0->chromadb<0.5.0,>=0.4.22->llama-index-vector-stores-chroma<0.2.0,>=0.1.1->llama-index-cli<0.2.0,>=0.1.2->llama-index) (0.44b0)\n",
            "Requirement already satisfied: setuptools>=16.0 in /usr/local/lib/python3.10/dist-packages (from opentelemetry-instrumentation==0.44b0->opentelemetry-instrumentation-fastapi>=0.41b0->chromadb<0.5.0,>=0.4.22->llama-index-vector-stores-chroma<0.2.0,>=0.1.1->llama-index-cli<0.2.0,>=0.1.2->llama-index) (67.7.2)\n",
            "Requirement already satisfied: asgiref~=3.0 in /usr/local/lib/python3.10/dist-packages (from opentelemetry-instrumentation-asgi==0.44b0->opentelemetry-instrumentation-fastapi>=0.41b0->chromadb<0.5.0,>=0.4.22->llama-index-vector-stores-chroma<0.2.0,>=0.1.1->llama-index-cli<0.2.0,>=0.1.2->llama-index) (3.7.2)\n",
            "Requirement already satisfied: monotonic>=1.5 in /usr/local/lib/python3.10/dist-packages (from posthog>=2.4.0->chromadb<0.5.0,>=0.4.22->llama-index-vector-stores-chroma<0.2.0,>=0.1.1->llama-index-cli<0.2.0,>=0.1.2->llama-index) (1.6)\n",
            "Requirement already satisfied: backoff>=1.10.0 in /usr/local/lib/python3.10/dist-packages (from posthog>=2.4.0->chromadb<0.5.0,>=0.4.22->llama-index-vector-stores-chroma<0.2.0,>=0.1.1->llama-index-cli<0.2.0,>=0.1.2->llama-index) (2.2.1)\n",
            "Requirement already satisfied: httptools>=0.5.0 in /usr/local/lib/python3.10/dist-packages (from uvicorn[standard]>=0.18.3->chromadb<0.5.0,>=0.4.22->llama-index-vector-stores-chroma<0.2.0,>=0.1.1->llama-index-cli<0.2.0,>=0.1.2->llama-index) (0.6.1)\n",
            "Requirement already satisfied: python-dotenv>=0.13 in /usr/local/lib/python3.10/dist-packages (from uvicorn[standard]>=0.18.3->chromadb<0.5.0,>=0.4.22->llama-index-vector-stores-chroma<0.2.0,>=0.1.1->llama-index-cli<0.2.0,>=0.1.2->llama-index) (1.0.1)\n",
            "Requirement already satisfied: uvloop!=0.15.0,!=0.15.1,>=0.14.0 in /usr/local/lib/python3.10/dist-packages (from uvicorn[standard]>=0.18.3->chromadb<0.5.0,>=0.4.22->llama-index-vector-stores-chroma<0.2.0,>=0.1.1->llama-index-cli<0.2.0,>=0.1.2->llama-index) (0.19.0)\n",
            "Requirement already satisfied: watchfiles>=0.13 in /usr/local/lib/python3.10/dist-packages (from uvicorn[standard]>=0.18.3->chromadb<0.5.0,>=0.4.22->llama-index-vector-stores-chroma<0.2.0,>=0.1.1->llama-index-cli<0.2.0,>=0.1.2->llama-index) (0.21.0)\n",
            "Requirement already satisfied: websockets>=10.4 in /usr/local/lib/python3.10/dist-packages (from uvicorn[standard]>=0.18.3->chromadb<0.5.0,>=0.4.22->llama-index-vector-stores-chroma<0.2.0,>=0.1.1->llama-index-cli<0.2.0,>=0.1.2->llama-index) (12.0)\n",
            "Requirement already satisfied: humanfriendly>=9.1 in /usr/local/lib/python3.10/dist-packages (from coloredlogs->onnxruntime<2.0.0,>=1.17.0->llama-index-vector-stores-chroma<0.2.0,>=0.1.1->llama-index-cli<0.2.0,>=0.1.2->llama-index) (10.0)\n",
            "Requirement already satisfied: mpmath>=0.19 in /usr/local/lib/python3.10/dist-packages (from sympy->onnxruntime<2.0.0,>=1.17.0->llama-index-vector-stores-chroma<0.2.0,>=0.1.1->llama-index-cli<0.2.0,>=0.1.2->llama-index) (1.3.0)\n",
            "Requirement already satisfied: cachetools<6.0,>=2.0.0 in /usr/local/lib/python3.10/dist-packages (from google-auth>=1.0.1->kubernetes>=28.1.0->chromadb<0.5.0,>=0.4.22->llama-index-vector-stores-chroma<0.2.0,>=0.1.1->llama-index-cli<0.2.0,>=0.1.2->llama-index) (5.3.3)\n",
            "Requirement already satisfied: pyasn1-modules>=0.2.1 in /usr/local/lib/python3.10/dist-packages (from google-auth>=1.0.1->kubernetes>=28.1.0->chromadb<0.5.0,>=0.4.22->llama-index-vector-stores-chroma<0.2.0,>=0.1.1->llama-index-cli<0.2.0,>=0.1.2->llama-index) (0.3.0)\n",
            "Requirement already satisfied: rsa<5,>=3.1.4 in /usr/local/lib/python3.10/dist-packages (from google-auth>=1.0.1->kubernetes>=28.1.0->chromadb<0.5.0,>=0.4.22->llama-index-vector-stores-chroma<0.2.0,>=0.1.1->llama-index-cli<0.2.0,>=0.1.2->llama-index) (4.9)\n",
            "Requirement already satisfied: zipp>=0.5 in /usr/local/lib/python3.10/dist-packages (from importlib-metadata<7.0,>=6.0->opentelemetry-api>=1.2.0->chromadb<0.5.0,>=0.4.22->llama-index-vector-stores-chroma<0.2.0,>=0.1.1->llama-index-cli<0.2.0,>=0.1.2->llama-index) (3.17.0)\n",
            "Requirement already satisfied: pyasn1<0.6.0,>=0.4.6 in /usr/local/lib/python3.10/dist-packages (from pyasn1-modules>=0.2.1->google-auth>=1.0.1->kubernetes>=28.1.0->chromadb<0.5.0,>=0.4.22->llama-index-vector-stores-chroma<0.2.0,>=0.1.1->llama-index-cli<0.2.0,>=0.1.2->llama-index) (0.5.1)\n"
          ]
        }
      ]
    },
    {
      "cell_type": "code",
      "source": [
        "!pip install pypdf"
      ],
      "metadata": {
        "colab": {
          "base_uri": "https://localhost:8080/"
        },
        "id": "jT6Yd3IqPbwg",
        "outputId": "55ed8268-4334-478e-ab40-eae15452af54"
      },
      "execution_count": null,
      "outputs": [
        {
          "output_type": "stream",
          "name": "stdout",
          "text": [
            "Requirement already satisfied: pypdf in /usr/local/lib/python3.10/dist-packages (4.0.2)\n"
          ]
        }
      ]
    },
    {
      "cell_type": "code",
      "source": [
        "!wget https://www.goldmansachs.com/intelligence/pages/gs-research/2024-us-equity-outlook-all-you-had-to-do-was-stay/report.pdf"
      ],
      "metadata": {
        "colab": {
          "base_uri": "https://localhost:8080/"
        },
        "id": "q7t2rkYZEpYE",
        "outputId": "bbae7112-2cbf-41dc-825a-5bbe58461263"
      },
      "execution_count": 7,
      "outputs": [
        {
          "output_type": "stream",
          "name": "stdout",
          "text": [
            "--2024-03-05 20:16:21--  https://www.goldmansachs.com/intelligence/pages/gs-research/2024-us-equity-outlook-all-you-had-to-do-was-stay/report.pdf\n",
            "Resolving www.goldmansachs.com (www.goldmansachs.com)... 23.213.120.152\n",
            "Connecting to www.goldmansachs.com (www.goldmansachs.com)|23.213.120.152|:443... connected.\n",
            "HTTP request sent, awaiting response... 200 OK\n",
            "Length: 491250 (480K) [application/pdf]\n",
            "Saving to: ‘report.pdf’\n",
            "\n",
            "report.pdf          100%[===================>] 479.74K  --.-KB/s    in 0.06s   \n",
            "\n",
            "2024-03-05 20:16:22 (8.18 MB/s) - ‘report.pdf’ saved [491250/491250]\n",
            "\n"
          ]
        }
      ]
    },
    {
      "cell_type": "code",
      "source": [
        "from openai import OpenAI\n",
        "from google.colab import userdata\n",
        "\n",
        "open_ai_key = userdata.get('openai')\n",
        "# client = OpenAI(api_key=open_ai_key)"
      ],
      "metadata": {
        "id": "DES1mJnfTwMt"
      },
      "execution_count": 8,
      "outputs": []
    },
    {
      "cell_type": "code",
      "source": [
        "import os\n",
        "os.environ[\"OPENAI_API_KEY\"] = open_ai_key"
      ],
      "metadata": {
        "id": "oJOpJn7ROq0h"
      },
      "execution_count": 9,
      "outputs": []
    },
    {
      "cell_type": "markdown",
      "source": [
        "# Routing"
      ],
      "metadata": {
        "id": "QSZ_DMYjh4dE"
      }
    },
    {
      "cell_type": "code",
      "source": [
        "# Import necessary classes from the llama_index package\n",
        "from llama_index.core import VectorStoreIndex, SimpleDirectoryReader, SummaryIndex\n",
        "from llama_index.core import Settings\n",
        "\n",
        "# Read documents from the specified directory and load a specific document, \"report.pdf\".\n",
        "documents = SimpleDirectoryReader(\"./\").load_data(\"report.pdf\")\n",
        "\n",
        "# initialize settings (set chunk size)\n",
        "Settings.chunk_size = 1024\n",
        "# think of nodes like the chunks.\n",
        "nodes = Settings.node_parser.get_nodes_from_documents(documents)\n",
        "\n",
        "# Create a VectorStoreIndex object from the documents. This will involve processing the documents\n",
        "# and creating a vector representation for each of them, suitable for semantic searching.\n",
        "summary_index = SummaryIndex(nodes)\n",
        "vector_index = VectorStoreIndex(nodes)\n",
        "\n",
        "summary_query_engine = summary_index.as_query_engine(\n",
        "    response_mode=\"tree_summarize\",\n",
        "    use_async=True,\n",
        ")\n",
        "vector_query_engine = vector_index.as_query_engine()\n"
      ],
      "metadata": {
        "id": "ivg6ru6pOE4v",
        "colab": {
          "base_uri": "https://localhost:8080/"
        },
        "outputId": "ac13fe1e-4853-41da-9c47-5ca863ad364e"
      },
      "execution_count": 12,
      "outputs": [
        {
          "output_type": "stream",
          "name": "stderr",
          "text": [
            "\rLoading files:   0%|          | 0/1 [00:00<?, ?file/s]/usr/local/lib/python3.10/dist-packages/fsspec/implementations/local.py:388: RuntimeWarning: coroutine 'LLM.apredict' was never awaited\n",
            "  return self.f.seek(*args, **kwargs)\n",
            "RuntimeWarning: Enable tracemalloc to get the object allocation traceback\n",
            "/usr/local/lib/python3.10/dist-packages/fsspec/implementations/local.py:388: RuntimeWarning: coroutine 'run_async_tasks.<locals>._gather' was never awaited\n",
            "  return self.f.seek(*args, **kwargs)\n",
            "RuntimeWarning: Enable tracemalloc to get the object allocation traceback\n",
            "Loading files: 100%|██████████| 1/1 [00:02<00:00,  2.63s/file]\n"
          ]
        }
      ]
    },
    {
      "cell_type": "code",
      "source": [
        "# build the one central query engine, which will have several query engines\n",
        "from llama_index.core.query_engine import RouterQueryEngine\n",
        "from llama_index.core.selectors import PydanticSingleSelector\n",
        "from llama_index.core.tools import QueryEngineTool\n",
        "\n",
        "\n",
        "summary_tool = QueryEngineTool.from_defaults(\n",
        "    query_engine=summary_query_engine,\n",
        "    description=\"Useful for summarization questions related to the data source\",\n",
        "    #description = \"\"\n",
        ")\n",
        "vector_tool = QueryEngineTool.from_defaults(\n",
        "    query_engine=vector_query_engine,\n",
        "    description=\"Useful for retrieving specific context related to the data source\",\n",
        "    #description=\"Useful for generating pictures\",\n",
        "    #description = \"\"\n",
        ")\n",
        "\n",
        "query_engine = RouterQueryEngine(\n",
        "    selector=PydanticSingleSelector.from_defaults(),\n",
        "    query_engine_tools=[\n",
        "        summary_tool,\n",
        "        vector_tool,\n",
        "    ],\n",
        ")\n"
      ],
      "metadata": {
        "id": "9qvkE3JX5xKU"
      },
      "execution_count": 30,
      "outputs": []
    },
    {
      "cell_type": "code",
      "source": [
        "response = query_engine.query(\"What is the 2024 outlook for US GDP?\")\n",
        "print(response)\n",
        "\n",
        "# note i tried to trick it by saying the vector tool description is for generating pictures.\n",
        "# it properly told me it cannot answer with the context it has."
      ],
      "metadata": {
        "colab": {
          "base_uri": "https://localhost:8080/"
        },
        "id": "Jr0KuSKD5xZ-",
        "outputId": "86b9f0e9-c005-4bbb-8fe2-40b1bd2106b3"
      },
      "execution_count": 31,
      "outputs": [
        {
          "output_type": "stream",
          "name": "stdout",
          "text": [
            "The 2024 outlook for US GDP is forecasted to be above-consensus with a growth rate of 2.1%.\n"
          ]
        }
      ]
    },
    {
      "cell_type": "code",
      "source": [
        "response = query_engine.query(\"Summarize the document\")\n",
        "print(response)"
      ],
      "metadata": {
        "colab": {
          "base_uri": "https://localhost:8080/"
        },
        "id": "zvlRUe7ZM5_F",
        "outputId": "5f55ed57-52ce-44a0-d2bd-00388fe4be08"
      },
      "execution_count": 27,
      "outputs": [
        {
          "output_type": "stream",
          "name": "stdout",
          "text": [
            "The document provides an in-depth analysis and outlook on the US equity market for 2024, focusing on the S&P 500 index. It forecasts a positive year with a 5% price gain and a total return of 6%, including dividends. The report emphasizes expectations of modest economic expansion, earnings growth of 5%, and stable equity valuations. It discusses factors influencing equity appreciation, investment strategies, ownership allocations, and potential risks in the market. Additionally, the document highlights the performance and outlook of the \"Magnificent 7\" mega-cap tech stocks within the S&P 500 index, addressing factors affecting their future performance and associated risks. Furthermore, it provides insights into earnings forecasts, market scenarios, macroeconomic factors, and equity market trends for the upcoming year. The document also includes detailed disclosures and regulations related to investment research reports issued by Goldman Sachs in various jurisdictions worldwide, outlining restrictions, disclaimers, and distribution practices.\n"
          ]
        }
      ]
    },
    {
      "cell_type": "code",
      "source": [
        "# we discussed exactly how it knows which to use\n",
        "# someone mentined that Pydantic can also know that it's summary engine underneath.. so it may use both descriptin and type of q engine..\n",
        "# someone said that if u leave off desciption it may still work\n",
        "# watch pydanic video https://www.youtube.com/watch?v=yj-wSRJwrrc"
      ],
      "metadata": {
        "id": "LjUCO8VgZI7A"
      },
      "execution_count": 24,
      "outputs": []
    },
    {
      "cell_type": "markdown",
      "source": [
        "# Sub Question Query Engine"
      ],
      "metadata": {
        "id": "JcdIt8vUiU5b"
      }
    },
    {
      "cell_type": "code",
      "source": [
        "from llama_index.core import VectorStoreIndex, SimpleDirectoryReader\n",
        "from llama_index.core.tools import QueryEngineTool, ToolMetadata\n",
        "from llama_index.core.query_engine import SubQuestionQueryEngine\n",
        "from llama_index.core.callbacks import CallbackManager, LlamaDebugHandler\n",
        "from llama_index.core import Settings\n",
        "\n",
        "# Using the LlamaDebugHandler to print the trace of the sub questions\n",
        "# captured by the SUB_QUESTION callback event type\n",
        "llama_debug = LlamaDebugHandler(print_trace_on_end=True)\n",
        "callback_manager = CallbackManager([llama_debug])\n",
        "\n",
        "Settings.callback_manager = callback_manager\n",
        "\n",
        "documents = SimpleDirectoryReader(\"./\").load_data(\"report.pdf\")\n",
        "\n",
        "# build index and query engine\n",
        "vector_query_engine = VectorStoreIndex.from_documents(\n",
        "    documents,\n",
        "    use_async=True,\n",
        ").as_query_engine()\n",
        "\n",
        "\n",
        "# setup base query engine as tool\n",
        "query_engine_tools = [\n",
        "    QueryEngineTool(\n",
        "        query_engine=vector_query_engine,\n",
        "        metadata=ToolMetadata(\n",
        "            name=\"documents\",\n",
        "            description=\"Report\",\n",
        "        ),\n",
        "    ),\n",
        "]\n",
        "\n",
        "query_engine = SubQuestionQueryEngine.from_defaults(\n",
        "    query_engine_tools=query_engine_tools,\n",
        "    use_async=True,\n",
        ")\n",
        "\n",
        "response = query_engine.query(\n",
        "    \"What is the outlook for the US economy?\"\n",
        ")\n",
        "\n",
        "print(response)"
      ],
      "metadata": {
        "colab": {
          "base_uri": "https://localhost:8080/"
        },
        "id": "NmmfVrOfiWu8",
        "outputId": "34bfccff-ccf4-441b-e694-4ea3ebcf6ad5"
      },
      "execution_count": 14,
      "outputs": [
        {
          "output_type": "stream",
          "name": "stderr",
          "text": [
            "Loading files: 100%|██████████| 1/1 [00:01<00:00,  1.08s/file]\n"
          ]
        },
        {
          "output_type": "stream",
          "name": "stdout",
          "text": [
            "**********\n",
            "Trace: index_construction\n",
            "    |_embedding ->  0.827657 seconds\n",
            "**********\n",
            "Generated 2 sub questions.\n",
            "\u001b[1;3;38;2;237;90;200m[documents] Q: What are the current economic indicators for the US economy?\n",
            "\u001b[0m\u001b[1;3;38;2;90;149;237m[documents] Q: What is the GDP growth forecast for the US economy?\n",
            "\u001b[0m\u001b[1;3;38;2;90;149;237m[documents] A: The GDP growth forecast for the US economy is 2.1% in 2024.\n",
            "\u001b[0m\u001b[1;3;38;2;237;90;200m[documents] A: The current economic indicators for the US economy include the pricing of real GDP growth at roughly 2% in US equities, as reflected in the performance of cyclical stocks vs. defensive stocks. Additionally, there is mention of fear of a recession among investors despite a lower likelihood forecasted by Goldman Sachs compared to Bloomberg consensus.\n",
            "\u001b[0m**********\n",
            "Trace: query\n",
            "    |_query ->  4.275029 seconds\n",
            "      |_llm ->  1.03632 seconds\n",
            "      |_sub_question ->  1.945216 seconds\n",
            "        |_query ->  1.944226 seconds\n",
            "          |_retrieve ->  0.247576 seconds\n",
            "            |_embedding ->  0.243425 seconds\n",
            "          |_synthesize ->  1.696443 seconds\n",
            "            |_templating ->  3.8e-05 seconds\n",
            "            |_llm ->  1.690741 seconds\n",
            "      |_sub_question ->  1.208236 seconds\n",
            "        |_query ->  1.207852 seconds\n",
            "          |_retrieve ->  0.199736 seconds\n",
            "            |_embedding ->  0.192125 seconds\n",
            "          |_synthesize ->  1.007878 seconds\n",
            "            |_templating ->  5e-05 seconds\n",
            "            |_llm ->  0.999203 seconds\n",
            "      |_synthesize ->  1.291128 seconds\n",
            "        |_templating ->  3.9e-05 seconds\n",
            "        |_llm ->  1.28771 seconds\n",
            "**********\n",
            "The outlook for the US economy suggests a moderate growth trajectory with a forecasted GDP growth rate of 2.1% in 2024. Additionally, there are indications of investor concerns about a potential recession despite a lower likelihood forecasted by some sources.\n"
          ]
        }
      ]
    },
    {
      "cell_type": "markdown",
      "source": [
        "# Calling OpenAI AssistantAPI (Code interpreter)"
      ],
      "metadata": {
        "id": "6H6aP4WUSp21"
      }
    },
    {
      "cell_type": "code",
      "source": [
        "from llama_index.agent.openai import OpenAIAssistantAgent\n",
        "\n",
        "agent = OpenAIAssistantAgent.from_new(\n",
        "    name=\"Python agent\",\n",
        "    openai_tools=[{\"type\": \"code_interpreter\"}],\n",
        "    instructions=\"You are an expert at writing python code to solve problems.\",\n",
        "    verbose=True\n",
        ")\n",
        "\n",
        "response = agent.chat(\n",
        "    \"\"\"Generate code to answer the following question:\n",
        "    How much is the us population likely to grow to by 2030?\n",
        "    Return and answer and the code used.\"\"\"\n",
        ")"
      ],
      "metadata": {
        "id": "173K-wLCSo8S"
      },
      "execution_count": 33,
      "outputs": []
    },
    {
      "cell_type": "code",
      "source": [
        "print(str(response))"
      ],
      "metadata": {
        "colab": {
          "base_uri": "https://localhost:8080/"
        },
        "id": "PjnQJnqVeiNl",
        "outputId": "15c156ae-4045-4dea-8116-433157fa027f"
      },
      "execution_count": 34,
      "outputs": [
        {
          "output_type": "stream",
          "name": "stdout",
          "text": [
            "Based on the hypothetical figures provided, the estimated US population by the year 2030 is approximately 348.6 million people.\n",
            "\n",
            "Here is the Python code used to perform the estimation:\n",
            "\n",
            "```python\n",
            "# Given data\n",
            "current_population = 332_000_000  # Current US population estimate in 2023\n",
            "annual_growth_rate = 0.007  # Average annual growth rate (in decimal form)\n",
            "target_year = 2030\n",
            "current_year = 2023\n",
            "years_into_future = target_year - current_year\n",
            "\n",
            "# Calculate the future population\n",
            "future_population = current_population * ((1 + annual_growth_rate) ** years_into_future)\n",
            "```\n",
            "\n",
            "This calculation is a simplified model that assumes a constant growth rate and does not account for other demographic factors (like immigration, emigration, birth rates, and death rates) that could influence the actual future population. For a more precise prediction, a more detailed demographic model would need to be used, and updated population statistics and growth rates should be obtained from a reliable source such as the US Census Bureau.\n"
          ]
        }
      ]
    },
    {
      "cell_type": "code",
      "source": [
        "response = agent.chat(\"Calculate 2+2 and show the python code\")\n",
        "print(str(response))"
      ],
      "metadata": {
        "colab": {
          "base_uri": "https://localhost:8080/"
        },
        "id": "QPpFVsJbqesD",
        "outputId": "0af0265e-179d-490a-ba5e-319275aa813b"
      },
      "execution_count": 36,
      "outputs": [
        {
          "output_type": "stream",
          "name": "stdout",
          "text": [
            "The result of calculating 2 + 2 is 4.\n",
            "\n",
            "Here is the Python code used to perform the calculation:\n",
            "\n",
            "```python\n",
            "# Python code to calculate 2+2\n",
            "result = 2 + 2\n",
            "```\n"
          ]
        }
      ]
    },
    {
      "cell_type": "code",
      "source": [
        "response = agent.chat(\n",
        "    \"\"\"Generate code to answer the following question:\n",
        "    Use the Titanic data set from Kaggle, and write python code to build a decision tree model that can predict if a passenger survived or not.\n",
        "    Return and answer and the code used.\"\"\"\n",
        ")\n",
        "print(str(response))"
      ],
      "metadata": {
        "colab": {
          "base_uri": "https://localhost:8080/"
        },
        "id": "zTK6FEX3flbK",
        "outputId": "632f52ee-150a-4ec1-ae67-6724afc0e117"
      },
      "execution_count": 37,
      "outputs": [
        {
          "output_type": "stream",
          "name": "stdout",
          "text": [
            "To build a decision tree model to predict passenger survival on the Titanic, we would need the Titanic dataset from Kaggle. Typically, this would involve downloading the data, performing data analysis, cleaning, and preprocessing, then training and testing a machine learning model.\n",
            "\n",
            "As I don't have access to the internet to download the dataset from Kaggle, I'll assume the dataset is in the commonly used format with features like 'Pclass' (passenger class), 'Sex', 'Age', 'SibSp' (siblings/spouses aboard), 'Parch' (parents/children aboard), 'Fare', 'Embarked' (port of embarkation), and the target variable 'Survived'.\n",
            "\n",
            "Here is a general outline of the steps you'd take to build the decision tree model using the scikit-learn library in Python:\n",
            "\n",
            "1. Load the dataset.\n",
            "2. Perform exploratory data analysis to understand the data.\n",
            "3. Preprocess the data (handle missing values, convert categorical variables to numeric, etc.).\n",
            "4. Split the dataset into a training set and a test set.\n",
            "5. Instantiate a decision tree classifier.\n",
            "6. Train the classifier on the training data.\n",
            "7. Test the classifier on the test data and evaluate its performance.\n",
            "\n",
            "I can show you the code to perform these steps. However, without the actual dataset, I won't be able to execute the model training and testing. Would you like to proceed with the example code, assuming a typical Titanic dataset format? If you have a specific dataset you would like to use and can provide it, please upload it, and I can write code tailored to that data and run the model training.\n"
          ]
        }
      ]
    },
    {
      "cell_type": "markdown",
      "source": [
        "# ReAct"
      ],
      "metadata": {
        "id": "I2CM35w9mSv0"
      }
    },
    {
      "cell_type": "code",
      "source": [
        "# more advanced.. it will choose the next best action\n",
        "# seems these next few lines are about persistence in vector db\n",
        "try:\n",
        "    storage_context = StorageContext.from_defaults(\n",
        "        persist_dir=\"./storage/lyft\"\n",
        "    )\n",
        "    lyft_index = load_index_from_storage(storage_context)\n",
        "\n",
        "    storage_context = StorageContext.from_defaults(\n",
        "        persist_dir=\"./storage/uber\"\n",
        "    )\n",
        "    uber_index = load_index_from_storage(storage_context)\n",
        "\n",
        "    index_loaded = True\n",
        "except:\n",
        "    index_loaded = False"
      ],
      "metadata": {
        "id": "Hw13jqUGmWNY"
      },
      "execution_count": 2,
      "outputs": []
    },
    {
      "cell_type": "code",
      "source": [
        "!mkdir -p 'data/10k/'\n",
        "!wget 'https://raw.githubusercontent.com/run-llama/llama_index/main/docs/examples/data/10k/uber_2021.pdf' -O 'data/10k/uber_2021.pdf'\n",
        "!wget 'https://raw.githubusercontent.com/run-llama/llama_index/main/docs/examples/data/10k/lyft_2021.pdf' -O 'data/10k/lyft_2021.pdf'"
      ],
      "metadata": {
        "colab": {
          "base_uri": "https://localhost:8080/"
        },
        "id": "ivEES8bFmfth",
        "outputId": "ca263bac-3180-4ecc-ac93-88d30d2e8a18"
      },
      "execution_count": 3,
      "outputs": [
        {
          "output_type": "stream",
          "name": "stdout",
          "text": [
            "--2024-03-05 20:14:39--  https://raw.githubusercontent.com/run-llama/llama_index/main/docs/examples/data/10k/uber_2021.pdf\n",
            "Resolving raw.githubusercontent.com (raw.githubusercontent.com)... 185.199.108.133, 185.199.109.133, 185.199.110.133, ...\n",
            "Connecting to raw.githubusercontent.com (raw.githubusercontent.com)|185.199.108.133|:443... connected.\n",
            "HTTP request sent, awaiting response... 200 OK\n",
            "Length: 1880483 (1.8M) [application/octet-stream]\n",
            "Saving to: ‘data/10k/uber_2021.pdf’\n",
            "\n",
            "\rdata/10k/uber_2021.   0%[                    ]       0  --.-KB/s               \rdata/10k/uber_2021. 100%[===================>]   1.79M  --.-KB/s    in 0.06s   \n",
            "\n",
            "2024-03-05 20:14:39 (28.7 MB/s) - ‘data/10k/uber_2021.pdf’ saved [1880483/1880483]\n",
            "\n",
            "--2024-03-05 20:14:40--  https://raw.githubusercontent.com/run-llama/llama_index/main/docs/examples/data/10k/lyft_2021.pdf\n",
            "Resolving raw.githubusercontent.com (raw.githubusercontent.com)... 185.199.108.133, 185.199.109.133, 185.199.110.133, ...\n",
            "Connecting to raw.githubusercontent.com (raw.githubusercontent.com)|185.199.108.133|:443... connected.\n",
            "HTTP request sent, awaiting response... 200 OK\n",
            "Length: 1440303 (1.4M) [application/octet-stream]\n",
            "Saving to: ‘data/10k/lyft_2021.pdf’\n",
            "\n",
            "data/10k/lyft_2021. 100%[===================>]   1.37M  --.-KB/s    in 0.05s   \n",
            "\n",
            "2024-03-05 20:14:40 (25.5 MB/s) - ‘data/10k/lyft_2021.pdf’ saved [1440303/1440303]\n",
            "\n"
          ]
        }
      ]
    },
    {
      "cell_type": "code",
      "source": [
        "if not index_loaded:\n",
        "    # load data\n",
        "    lyft_docs = SimpleDirectoryReader(\n",
        "        input_files=[\"./data/10k/lyft_2021.pdf\"]\n",
        "    ).load_data()\n",
        "    uber_docs = SimpleDirectoryReader(\n",
        "        input_files=[\"./data/10k/uber_2021.pdf\"]\n",
        "    ).load_data()\n",
        "\n",
        "    # build index\n",
        "    lyft_index = VectorStoreIndex.from_documents(lyft_docs)\n",
        "    uber_index = VectorStoreIndex.from_documents(uber_docs)\n",
        "\n",
        "    # persist index\n",
        "    lyft_index.storage_context.persist(persist_dir=\"./storage/lyft\")\n",
        "    uber_index.storage_context.persist(persist_dir=\"./storage/uber\")"
      ],
      "metadata": {
        "colab": {
          "base_uri": "https://localhost:8080/"
        },
        "id": "EsgIAm39mfzl",
        "outputId": "8d9aa54b-0aff-461c-e4dc-2857635690c0"
      },
      "execution_count": 13,
      "outputs": [
        {
          "output_type": "stream",
          "name": "stdout",
          "text": [
            "**********\n",
            "Trace: index_construction\n",
            "    |_embedding ->  2.667118 seconds\n",
            "    |_embedding ->  2.524968 seconds\n",
            "    |_embedding ->  2.409049 seconds\n",
            "    |_embedding ->  1.525902 seconds\n",
            "**********\n",
            "**********\n",
            "Trace: index_construction\n",
            "    |_embedding ->  3.109073 seconds\n",
            "    |_embedding ->  2.020976 seconds\n",
            "    |_embedding ->  2.704623 seconds\n",
            "    |_embedding ->  3.11701 seconds\n",
            "    |_embedding ->  0.444401 seconds\n",
            "**********\n"
          ]
        }
      ]
    },
    {
      "cell_type": "code",
      "source": [
        "lyft_engine = lyft_index.as_query_engine(similarity_top_k=3)\n",
        "uber_engine = uber_index.as_query_engine(similarity_top_k=3)"
      ],
      "metadata": {
        "id": "BVecZ17QmlJE"
      },
      "execution_count": 17,
      "outputs": []
    },
    {
      "cell_type": "code",
      "source": [
        "query_engine_tools = [\n",
        "    QueryEngineTool(\n",
        "        query_engine=lyft_engine,\n",
        "        metadata=ToolMetadata(\n",
        "            name=\"lyft_10k\",\n",
        "            description=(\n",
        "                \"Provides information about Lyft financials for year 2021. \"\n",
        "                \"Use a detailed plain text question as input to the tool.\"\n",
        "            ),\n",
        "        ),\n",
        "    ),\n",
        "    QueryEngineTool(\n",
        "        query_engine=uber_engine,\n",
        "        metadata=ToolMetadata(\n",
        "            name=\"uber_10k\",\n",
        "            description=(\n",
        "                \"Provides information about Uber financials for year 2021. \"\n",
        "                \"Use a detailed plain text question as input to the tool.\"\n",
        "            ),\n",
        "        ),\n",
        "    ),\n",
        "]"
      ],
      "metadata": {
        "id": "plEz3pMBmnqG"
      },
      "execution_count": 18,
      "outputs": []
    },
    {
      "cell_type": "code",
      "source": [
        "from llama_index.core.agent import ReActAgent\n",
        "agent = ReActAgent.from_tools(\n",
        "    query_engine_tools,\n",
        "    verbose=True,\n",
        "    # context=context\n",
        ")"
      ],
      "metadata": {
        "id": "VMbymUWemsFu"
      },
      "execution_count": 19,
      "outputs": []
    },
    {
      "cell_type": "code",
      "source": [
        "# his example from class\n",
        "# it's auto generating question .  it checks if it has enough information, if not, asks more questions\n",
        "# reactively..  hence ReAct framework..\n",
        "response = agent.chat(\n",
        "    \"\"\"Compare and contrast the revenue growth of Uber and Lyft in 2021, then tell me more about how the company with the highest growth did it\"\"\"\n",
        ")\n",
        "print(str(response))"
      ],
      "metadata": {
        "colab": {
          "base_uri": "https://localhost:8080/"
        },
        "id": "Xo-w5zlM3N40",
        "outputId": "9ffebfb9-ebab-408c-d97b-774426b37288"
      },
      "execution_count": 22,
      "outputs": [
        {
          "output_type": "stream",
          "name": "stdout",
          "text": [
            "\u001b[1;3;38;5;200mThought: I need to compare the revenue growth of Uber and Lyft in 2021 and then provide more information on how the company with the highest growth achieved it.\n",
            "Action: lyft_10k\n",
            "Action Input: {'input': \"Please provide information on Lyft's revenue growth in 2021\"}\n",
            "\u001b[0m\u001b[1;3;34mObservation: Lyft's revenue increased by 36% in 2021 compared to the prior year.\n",
            "\u001b[0m\u001b[1;3;38;5;200mThought: I need to compare Uber's revenue growth in 2021 to Lyft's 36% growth and then find out more about how the company with the highest growth achieved it.\n",
            "Action: uber_10k\n",
            "Action Input: {'input': \"Please provide information on Uber's revenue growth in 2021\"}\n",
            "\u001b[0m\u001b[1;3;34mObservation: Uber's revenue in 2021 experienced significant growth compared to the previous year. The total revenue for 2021 was $17,455 million, representing a 57% increase from the revenue of $11,139 million in 2020. This growth was primarily driven by a substantial increase in Gross Bookings, particularly in Delivery Gross Bookings, which saw a 71% increase. Additionally, Mobility Gross Bookings grew by 38% in 2021. The rise in revenue was also influenced by increased Delivery revenue resulting from higher demand for food delivery services due to stay-at-home orders related to COVID-19.\n",
            "\u001b[0m\u001b[1;3;38;5;200mThought: I can answer without using any more tools.\n",
            "Answer: In 2021, Uber experienced a higher revenue growth of 57% compared to Lyft's 36% growth. Uber's revenue growth was primarily driven by a significant increase in Gross Bookings, particularly in Delivery Gross Bookings, which saw a 71% increase. The rise in revenue was also influenced by increased Delivery revenue due to higher demand for food delivery services during the COVID-19 pandemic.\n",
            "\u001b[0m**********\n",
            "Trace: chat\n",
            "    |_agent_step ->  10.027598 seconds\n",
            "      |_llm ->  1.892751 seconds\n",
            "      |_function_call ->  1.926566 seconds\n",
            "        |_query ->  1.926346 seconds\n",
            "          |_synthesize ->  1.673872 seconds\n",
            "            |_templating ->  6.3e-05 seconds\n",
            "            |_llm ->  1.661623 seconds\n",
            "      |_llm ->  1.563358 seconds\n",
            "      |_function_call ->  2.434661 seconds\n",
            "        |_query ->  2.434431 seconds\n",
            "          |_synthesize ->  2.151606 seconds\n",
            "            |_templating ->  8.6e-05 seconds\n",
            "            |_llm ->  2.138635 seconds\n",
            "      |_llm ->  2.204614 seconds\n",
            "**********\n",
            "In 2021, Uber experienced a higher revenue growth of 57% compared to Lyft's 36% growth. Uber's revenue growth was primarily driven by a significant increase in Gross Bookings, particularly in Delivery Gross Bookings, which saw a 71% increase. The rise in revenue was also influenced by increased Delivery revenue due to higher demand for food delivery services during the COVID-19 pandemic.\n"
          ]
        }
      ]
    },
    {
      "cell_type": "code",
      "source": [
        "response = agent.chat(\n",
        "    \"Compare the risk of Uber and Lyft and return a table\"\n",
        ")\n",
        "print(str(response))"
      ],
      "metadata": {
        "colab": {
          "base_uri": "https://localhost:8080/"
        },
        "id": "IAhDZI_Gm7X3",
        "outputId": "27274644-c8a1-4c3c-da06-6c146a52095a"
      },
      "execution_count": 24,
      "outputs": [
        {
          "output_type": "stream",
          "name": "stdout",
          "text": [
            "\u001b[1;3;38;5;200mThought: I need to use a tool to help me compare the risks of Uber and Lyft in 2021.\n",
            "Action: uber_10k\n",
            "Action Input: {'input': 'risks'}\n",
            "\u001b[0m\u001b[1;3;34mObservation: The risks outlined in the provided context include potential challenges related to autonomous vehicle technologies, attrition of high-quality personnel, security breaches and data privacy issues, cyberattacks, climate change risks, reliance on third parties for distribution, the need for additional capital, risks associated with acquisitions and integration, legal and regulatory risks, risks related to intellectual property protection, market price volatility, and risks associated with the COVID-19 pandemic. Additionally, market risks such as interest rate risk, investment risk, and foreign currency risk are highlighted. Other risks mentioned involve litigation related to drivers and couriers, insurance coverage limitations, and the inherent risks associated with expanding into new offerings and technologies.\n",
            "\u001b[0m\u001b[1;3;38;5;200mThought: I can answer without using any more tools.\n",
            "Answer: Based on the information provided, both Uber and Lyft faced a wide range of risks in 2021, including challenges related to technology, personnel, security, regulatory environment, market conditions, and the impact of the COVID-19 pandemic. Both companies had to address issues such as data privacy, cyberattacks, regulatory changes, market volatility, and the need for additional capital. Additionally, risks specific to their business models, such as reliance on third parties, acquisitions, and expansion into new offerings, were also highlighted.\n",
            "\u001b[0m**********\n",
            "Trace: chat\n",
            "    |_agent_step ->  6.626226 seconds\n",
            "      |_llm ->  1.063344 seconds\n",
            "      |_function_call ->  2.509467 seconds\n",
            "        |_query ->  2.509301 seconds\n",
            "          |_synthesize ->  2.270772 seconds\n",
            "            |_templating ->  0.000284 seconds\n",
            "            |_llm ->  2.257848 seconds\n",
            "      |_llm ->  3.047626 seconds\n",
            "**********\n",
            "Based on the information provided, both Uber and Lyft faced a wide range of risks in 2021, including challenges related to technology, personnel, security, regulatory environment, market conditions, and the impact of the COVID-19 pandemic. Both companies had to address issues such as data privacy, cyberattacks, regulatory changes, market volatility, and the need for additional capital. Additionally, risks specific to their business models, such as reliance on third parties, acquisitions, and expansion into new offerings, were also highlighted.\n"
          ]
        }
      ]
    },
    {
      "cell_type": "code",
      "source": [
        "response = agent.chat(\n",
        "    \"Conduct an investment analysis on Lyft and Uber\"\n",
        ")\n",
        "print(str(response))"
      ],
      "metadata": {
        "colab": {
          "base_uri": "https://localhost:8080/"
        },
        "id": "KCpmjvfO5pOu",
        "outputId": "27208c69-a2d3-4657-e56f-a82a64014f22"
      },
      "execution_count": 25,
      "outputs": [
        {
          "output_type": "stream",
          "name": "stdout",
          "text": [
            "\u001b[1;3;38;5;200mThought: I need to use a tool to help me analyze the investment aspects of Lyft and Uber.\n",
            "Action: lyft_10k\n",
            "Action Input: {'input': 'investment analysis'}\n",
            "\u001b[0m\u001b[1;3;34mObservation: The company's investments primarily consist of cash, cash equivalents, short-term investments, and restricted investments in various financial instruments like money market funds, certificates of deposits, commercial paper, corporate bonds, and term deposits. These investments are subject to interest rate risk, but the company has stated that a hypothetical 100 basis points change in interest rates would not have a material impact on its financial condition or results of operations due to the short-term nature of the investment portfolio. Additionally, the company holds long-term debt, with a significant portion being fixed-rate Convertible Senior Notes. The company has mentioned that a hypothetical 100 basis points change in interest rates would also not have a material impact on its financial condition or results of operations due to immateriality.\n",
            "\u001b[0m\u001b[1;3;38;5;200mThought: I can answer without using any more tools.\n",
            "Answer: Based on the information provided, both Lyft and Uber have investments primarily consisting of cash, cash equivalents, short-term investments, and restricted investments in various financial instruments. These investments are subject to interest rate risk, but both companies have stated that a hypothetical 100 basis points change in interest rates would not have a material impact on their financial condition or results of operations. Additionally, both companies hold long-term debt, with a significant portion being fixed-rate Convertible Senior Notes, and they have mentioned that a hypothetical 100 basis points change in interest rates would also not have a material impact on their financial condition or results of operations.\n",
            "\u001b[0m**********\n",
            "Trace: chat\n",
            "    |_agent_step ->  8.195222 seconds\n",
            "      |_llm ->  1.651837 seconds\n",
            "      |_function_call ->  3.539621 seconds\n",
            "        |_query ->  3.53944 seconds\n",
            "          |_synthesize ->  3.320648 seconds\n",
            "            |_templating ->  5.3e-05 seconds\n",
            "            |_llm ->  3.311719 seconds\n",
            "      |_llm ->  2.994104 seconds\n",
            "**********\n",
            "Based on the information provided, both Lyft and Uber have investments primarily consisting of cash, cash equivalents, short-term investments, and restricted investments in various financial instruments. These investments are subject to interest rate risk, but both companies have stated that a hypothetical 100 basis points change in interest rates would not have a material impact on their financial condition or results of operations. Additionally, both companies hold long-term debt, with a significant portion being fixed-rate Convertible Senior Notes, and they have mentioned that a hypothetical 100 basis points change in interest rates would also not have a material impact on their financial condition or results of operations.\n"
          ]
        }
      ]
    },
    {
      "cell_type": "code",
      "source": [],
      "metadata": {
        "id": "Mye1z-5Ln0CA"
      },
      "execution_count": null,
      "outputs": []
    },
    {
      "cell_type": "markdown",
      "source": [
        "# MSFT AutoGen"
      ],
      "metadata": {
        "id": "kzDkk_LAjeR9"
      }
    },
    {
      "cell_type": "code",
      "source": [],
      "metadata": {
        "id": "Lhb_omAEjgml"
      },
      "execution_count": null,
      "outputs": []
    }
  ]
}