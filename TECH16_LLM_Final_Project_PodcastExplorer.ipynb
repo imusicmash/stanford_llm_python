{
  "cells": [
    {
      "cell_type": "markdown",
      "metadata": {
        "id": "view-in-github",
        "colab_type": "text"
      },
      "source": [
        "<a href=\"https://colab.research.google.com/github/imusicmash/stanford_llm_python/blob/main/TECH16_LLM_Final_Project_PodcastExplorer.ipynb\" target=\"_parent\"><img src=\"https://colab.research.google.com/assets/colab-badge.svg\" alt=\"Open In Colab\"/></a>"
      ]
    },
    {
      "cell_type": "markdown",
      "source": [
        "#**PodCast Explorer: A Better way to navigate podcasts**"
      ],
      "metadata": {
        "id": "ha_6vFvLW78l"
      }
    },
    {
      "cell_type": "markdown",
      "source": [
        "#Problem Statement:"
      ],
      "metadata": {
        "id": "iq80DXfNW75d"
      }
    },
    {
      "cell_type": "markdown",
      "source": [
        "My motivation for this project is personal. I recently got interested in real estate investing. Like many novices in a new space, I relied on podcasts to learn. <br> <br> Enter Problem 1: There are endless real estate podcasts. Which is the best for me? After a few tries I settled on the *Bigger Pockets* podcast. <br> <br> Enter Problem 2: Bigger pockets has over 900 podcasts episodes AND counting on various real estate investment topics and strategies. After a few episodes I identified what type of investment strategy suited my personality and risk tolerance. I wanted to listen to episodes covering this strategy only but had to keep listening to all 900 in hopes that my topic would be covered. <br> <br> Question: Can I simplify podcast exploration for someone like me looking to learn about a new field through podcasts but feeling overwhelmed with content? Maybe I have a vague idea of where to start learning and want to easily find good content without listening for months to countless episodes majority of which I'm not interested in. Also, how can I efficiently discover new podcasts beyond the one or two I started with? Surely Bigger Pockets is not the only good real estate podcast out there."
      ],
      "metadata": {
        "id": "hCRH6-6tW72S"
      }
    },
    {
      "cell_type": "markdown",
      "source": [
        "#Solution:"
      ],
      "metadata": {
        "id": "Fru59-c3W7v1"
      }
    },
    {
      "cell_type": "markdown",
      "source": [
        "I would like to solve this using an app with a conversational interface. A user can ask about a topic, be presented with top n podcasts episodes that cover this topic along with a summary of said episode if they please. This app will have access to all podcast content so top returns for each query will likely come from different podcasts, giving the user various opportunities to discover new podcasts."
      ],
      "metadata": {
        "id": "F_LKqNASW7Xk"
      }
    },
    {
      "cell_type": "markdown",
      "source": [
        "#Scope:"
      ],
      "metadata": {
        "id": "pNHGNFpkhgox"
      }
    },
    {
      "cell_type": "markdown",
      "source": [
        "Working on this project solo I only got a skeleton of the overall idea done. I used google's youtube api to download 90 episodes of Bigger pockets podcasts, transcribed them with OpenAI's whisper python package and saved the transcriptions along with youtube url to a PineCone vector database. I then used langchain to query the database. I did not have enough time to create a streamlit app for the demo but will plan to keep working on this over the coming weeks."
      ],
      "metadata": {
        "id": "WwLYFWn7hd4d"
      }
    },
    {
      "cell_type": "markdown",
      "source": [
        "##Install packages, api keys etc"
      ],
      "metadata": {
        "id": "K-iZk9I5W7E3"
      }
    },
    {
      "cell_type": "code",
      "source": [
        "!pip install -qU openai pod-gpt datasets git+https://github.com/openai/whisper.git\n",
        "!pip install -q --upgrade pytube"
      ],
      "metadata": {
        "id": "3_Ms6x63e5zn"
      },
      "execution_count": null,
      "outputs": []
    },
    {
      "cell_type": "code",
      "source": [
        "import os\n",
        "from google.colab import userdata\n",
        "\n",
        "# openai api key\n",
        "OPENAI_API_KEY = userdata.get('OPENAI_API_KEY')\n",
        "# pinecone api key\n",
        "PINECONE_API_KEY = userdata.get('PINECONE_API_KEY')\n",
        "# pinecone environment\n",
        "PINECONE_ENV = userdata.get(\"PINECONE_ENVIRONMENT\")\n",
        "# youtube api key\n",
        "YOUTUBE_API_KEY = userdata.get('YOUTUBE_API_KEY')\n"
      ],
      "metadata": {
        "id": "8nZXklc4YWG_"
      },
      "execution_count": null,
      "outputs": []
    },
    {
      "cell_type": "markdown",
      "source": [
        "#Download Youtube videos, transcribe and save to PineCone db"
      ],
      "metadata": {
        "id": "ohC_hco-gy1v"
      }
    },
    {
      "cell_type": "code",
      "source": [
        "import pod_gpt\n",
        "\n",
        "channel = pod_gpt.Channel(\n",
        "    channel_id='UCVWDbXqQ8cupuVpotWNt2eg',  # Bigger Pockets YouTube Channel id\n",
        "    api_key=YOUTUBE_API_KEY  # Google YouTube API\n",
        ")"
      ],
      "metadata": {
        "id": "8KUZtIYGYWEZ"
      },
      "execution_count": null,
      "outputs": []
    },
    {
      "cell_type": "code",
      "source": [
        "channel.get_videos_info(max_results=90)"
      ],
      "metadata": {
        "id": "gu1b-RiyYWBi"
      },
      "execution_count": null,
      "outputs": []
    },
    {
      "cell_type": "code",
      "source": [
        "import torch\n",
        "import whisper\n",
        "\n",
        "# prep whisper model\n",
        "device = \"cuda\" if torch.cuda.is_available() else \"cpu\"\n",
        "print(device)\n",
        "\n",
        "model = whisper.load_model(\"tiny.en\").to(device)"
      ],
      "metadata": {
        "id": "l2AhdRHtYV-Z"
      },
      "execution_count": null,
      "outputs": []
    },
    {
      "cell_type": "code",
      "source": [
        "channel.get_videos()"
      ],
      "metadata": {
        "id": "YQlbI3VFYV7R"
      },
      "execution_count": null,
      "outputs": []
    },
    {
      "cell_type": "code",
      "source": [
        "channel.transcribe_videos(model)"
      ],
      "metadata": {
        "colab": {
          "base_uri": "https://localhost:8080/",
          "height": 49,
          "referenced_widgets": [
            "255fd524dc6048919dea5932599af4d3",
            "2c0dd8e92f8b436cb77ed8cf108f7b1d",
            "d66acf0ad59e4c8e8a5d583980116338",
            "79e48a2eeeb2494a89ee77541b6f4223",
            "a0e04c8f10d2456eb48bfb6e718e42ab",
            "2acd774f8d9f461ea9b96345f8032d44",
            "efa1a97bdb8946329fe4d33329f6491a",
            "e4c2e60108a2499883431a081fe18d04",
            "1045749c0b3f471a9edda554514f08be",
            "11fe1ec35d7d4814bec0aa953448c0c7",
            "a4fe28874af94e2dafb683d8ff7610d7"
          ]
        },
        "id": "7zpDRYqPYV4J",
        "outputId": "daf9f0bc-6158-439c-d8f9-6f6fb02d97fb"
      },
      "execution_count": null,
      "outputs": [
        {
          "output_type": "display_data",
          "data": {
            "text/plain": [
              "  0%|          | 0/90 [00:00<?, ?it/s]"
            ],
            "application/vnd.jupyter.widget-view+json": {
              "version_major": 2,
              "version_minor": 0,
              "model_id": "255fd524dc6048919dea5932599af4d3"
            }
          },
          "metadata": {}
        }
      ]
    },
    {
      "cell_type": "code",
      "source": [
        "channel.save(filepath='BiggerPockets/transcripts.jsonl')"
      ],
      "metadata": {
        "id": "5-p5eFaNYV1C"
      },
      "execution_count": null,
      "outputs": []
    },
    {
      "cell_type": "code",
      "source": [
        "from datasets import load_dataset\n",
        "\n",
        "data = load_dataset(\n",
        "    'BiggerPockets/',\n",
        "    split='train'\n",
        ")\n",
        "data"
      ],
      "metadata": {
        "colab": {
          "base_uri": "https://localhost:8080/"
        },
        "id": "LR1qalSHYVsL",
        "outputId": "fdfeb689-43c9-4b8d-d224-631c100bb042"
      },
      "execution_count": null,
      "outputs": [
        {
          "output_type": "execute_result",
          "data": {
            "text/plain": [
              "Dataset({\n",
              "    features: ['video_id', 'channel_id', 'title', 'published', 'source', 'transcript'],\n",
              "    num_rows: 90\n",
              "})"
            ]
          },
          "metadata": {},
          "execution_count": 7
        }
      ]
    },
    {
      "cell_type": "code",
      "source": [
        "import pod_gpt\n",
        "\n",
        "indexer = pod_gpt.Indexer(\n",
        "    openai_api_key=OPENAI_API_KEY,\n",
        "    pinecone_api_key=PINECONE_API_KEY,\n",
        "    pinecone_environment=PINECONE_ENV,\n",
        "    index_name=\"llm-project\"\n",
        ")"
      ],
      "metadata": {
        "id": "nAo1zoTrYVoy"
      },
      "execution_count": null,
      "outputs": []
    },
    {
      "cell_type": "code",
      "source": [
        "from tqdm.auto import tqdm\n",
        "\n",
        "for row in tqdm(data):\n",
        "    row['published'] = row['published'].strftime('%Y%m%d')\n",
        "    indexer(pod_gpt.VideoRecord(**row))"
      ],
      "metadata": {
        "colab": {
          "base_uri": "https://localhost:8080/",
          "height": 49,
          "referenced_widgets": [
            "59da71d75fa84a36886157536ac0f793",
            "5eef778b4a294615bf100fd42624b8a8",
            "019d0373a9cf4e6e8c083443fd9f255e",
            "da6b591818cd466b8a5c1ae7b7db52ed",
            "c15f4b37d2a840f787ce279238db240d",
            "99e95397ed32464d80279cec412c8eab",
            "74acca34e1914aa2ae2857b06f12d9a8",
            "0b58fce96ade42fa979c28fec6150f39",
            "e5fc5605e56e43749cc254a8c257f18e",
            "b35057f4f1d4412da904da887e2162de",
            "e74348107a8b4b40b0f390562847a76a"
          ]
        },
        "id": "OryIZqjJYVXF",
        "outputId": "3c809882-8d3b-483e-9c2a-8f5bce4d6a94"
      },
      "execution_count": null,
      "outputs": [
        {
          "output_type": "display_data",
          "data": {
            "text/plain": [
              "  0%|          | 0/90 [00:00<?, ?it/s]"
            ],
            "application/vnd.jupyter.widget-view+json": {
              "version_major": 2,
              "version_minor": 0,
              "model_id": "59da71d75fa84a36886157536ac0f793"
            }
          },
          "metadata": {}
        }
      ]
    },
    {
      "cell_type": "markdown",
      "source": [
        "#Use LangChain to query documents in PineCone db"
      ],
      "metadata": {
        "id": "rHUPq3DBiB-I"
      }
    },
    {
      "cell_type": "code",
      "source": [
        "!pip install -qU pinecone-client==3.0.0 pinecone-datasets==0.7.0 langchain-pinecone==0.0.3 langchain-openai==0.0.7 langchain==0.1.9"
      ],
      "metadata": {
        "id": "nmID8XUh8JPt"
      },
      "execution_count": null,
      "outputs": []
    },
    {
      "cell_type": "code",
      "source": [
        "from langchain_openai import OpenAIEmbeddings\n",
        "\n",
        "# get openai api key from platform.openai.com\n",
        "model_name = 'text-embedding-ada-002'\n",
        "\n",
        "embeddings = OpenAIEmbeddings(\n",
        "    model=model_name,\n",
        "    openai_api_key=OPENAI_API_KEY\n",
        ")"
      ],
      "metadata": {
        "id": "fBLQwcPS8JS4"
      },
      "execution_count": null,
      "outputs": []
    },
    {
      "cell_type": "code",
      "source": [
        "from pinecone import Pinecone, ServerlessSpec, PodSpec\n",
        "import time\n",
        "import os\n",
        "\n",
        "use_serverless = False\n",
        "\n",
        "# configure client\n",
        "pc = Pinecone(api_key=PINECONE_API_KEY)\n",
        "\n",
        "index_name=\"llm-project\"\n",
        "index = pc.Index(index_name)\n",
        "index.describe_index_stats()"
      ],
      "metadata": {
        "colab": {
          "base_uri": "https://localhost:8080/"
        },
        "id": "5HGLJvgd8JWT",
        "outputId": "2f137b3e-1a65-490f-f1d1-21f8e1290a70"
      },
      "execution_count": null,
      "outputs": [
        {
          "output_type": "execute_result",
          "data": {
            "text/plain": [
              "{'dimension': 1536,\n",
              " 'index_fullness': 0.01262,\n",
              " 'namespaces': {'': {'vector_count': 1262}},\n",
              " 'total_vector_count': 1262}"
            ]
          },
          "metadata": {},
          "execution_count": 5
        }
      ]
    },
    {
      "cell_type": "code",
      "source": [
        "from langchain_pinecone import PineconeVectorStore\n",
        "\n",
        "text_field = \"text\"\n",
        "\n",
        "vectorstore = PineconeVectorStore(\n",
        "    index, embeddings, text_field\n",
        ")"
      ],
      "metadata": {
        "id": "j8UWs0In8JZb"
      },
      "execution_count": null,
      "outputs": []
    },
    {
      "cell_type": "code",
      "source": [
        "from langchain_openai import ChatOpenAI\n",
        "from langchain.chains import RetrievalQA\n",
        "\n",
        "# completion llm\n",
        "llm = ChatOpenAI(\n",
        "    openai_api_key=OPENAI_API_KEY,\n",
        "    model_name='gpt-3.5-turbo',\n",
        "    temperature=0.0\n",
        ")\n"
      ],
      "metadata": {
        "id": "WWeQOb7H8Jfo"
      },
      "execution_count": null,
      "outputs": []
    },
    {
      "cell_type": "code",
      "source": [
        "from langchain_openai import ChatOpenAI\n",
        "from langchain.chains import RetrievalQA\n",
        "\n",
        "from langchain.prompts.chat import (\n",
        "    ChatPromptTemplate,\n",
        "    SystemMessagePromptTemplate,\n",
        "    HumanMessagePromptTemplate,\n",
        ")\n",
        "\n",
        "from langchain_core.messages import SystemMessage\n",
        "from langchain.prompts import PromptTemplate\n",
        "\n",
        "prompt_template = \"\"\"You are a helpful assistant that helps the user answer questions from video transcriptions of podcasts. If you don't know the answer, just say I dont know. Don't try to make up an answer. ALWAYS return SOURCES.\n",
        "The SOURCES part should be a reference to the source of the document from which you got your answer.\n",
        "\n",
        "Example of your response should be:\n",
        "\n",
        "The answer is xyz\n",
        "SOURCES:\n",
        "1. xyz\n",
        "2. xyz\n",
        "3. xyz\n",
        "4. xyz\n",
        "5. xyz\n",
        "\n",
        "Begin!\n",
        "=========\n",
        "{summaries}\n",
        "=========\"\"\"\n",
        "\n",
        "PROMPT = PromptTemplate(\n",
        "    template=prompt_template, input_variables=[\"context\", \"question\"]\n",
        ")\n",
        "\n",
        "chain_type_kwargs = {\"prompt\": PROMPT}\n",
        "\n",
        "qa_with_sources = RetrievalQAWithSourcesChain.from_chain_type(\n",
        "    llm=llm,\n",
        "    chain_type=\"stuff\",\n",
        "    retriever=vectorstore.as_retriever(search_kwargs={'k': 5}),\n",
        "    chain_type_kwargs=chain_type_kwargs,\n",
        "    return_source_documents=True\n",
        ")\n"
      ],
      "metadata": {
        "id": "rMJege2rMknC"
      },
      "execution_count": null,
      "outputs": []
    },
    {
      "cell_type": "code",
      "source": [
        "query = \"Is buying a house for apprecation over cash flow wise?\"\n",
        "qa_with_sources(query)"
      ],
      "metadata": {
        "colab": {
          "base_uri": "https://localhost:8080/"
        },
        "id": "8XhFuKOaMktS",
        "outputId": "3f328a49-0333-4fae-8284-2d5648b0b5ab"
      },
      "execution_count": null,
      "outputs": [
        {
          "output_type": "execute_result",
          "data": {
            "text/plain": [
              "{'question': 'Is buying a house for apprecation over cash flow wise?',\n",
              " 'answer': \"The answer is: The upside to investing in properties with good cash flow is that you can become very efficient, get properties under market value, know how to add value, and scale relatively quickly without a lot of risk. The downside is that there's not a big upside in terms of appreciation, rents may not keep up with other areas, and you're exposed to more capital expenditure downside.\\n\",\n",
              " 'sources': '',\n",
              " 'source_documents': [Document(page_content=\"But for the time being, that sounds like a good option to me. Okay. That's something that you like then you should this, then you have your plan, like that's what you're looking at. You're not looking at the boulder. The upside to this is that you can become very efficient. If you know the market, if you know these properties, you can get them under market value. You know how to add value to them and you know that you can cash flow. You can, you can scale relatively quick without a whole lot of risk in this. The downside is there's not a big upside. You're not going to get as much appreciation, rents are not going to keep up with what it would be like if you invested in other areas where population is moving there. And you're exposed to more capital expenditure downside. So those properties cash were really good till the roof goes out or the air conditioner goes out and you could get hit pretty hard. So it's not, it's not, I'm not saying that there are better or worse areas to invest in. It depends on what your goal is. And Alex, most people start exactly where you're starting. They worship at the altar of cash flow. And that's because cash flow means more to somebody than just a number on a spreadsheet. It's how you get out of your job. It's how you get some freedom back. It's how you can start to snowball a little bit of momentum. It's kind of like first gear on a bike, but you'll find that most experienced investors realize that cash flow pales in comparison when you start looking at appreciation, both in the value of the asset and the rent going up. That's another thing people forget about appreciation. Doesn't just apply to the value of the home. It applies to how much rent you're getting and then your cash flow increasing as well as tax benefits and other things\", metadata={'channel_id': 'UCVWDbXqQ8cupuVpotWNt2eg', 'chunk': 6.0, 'published': '20220111', 'source': 'https://youtu.be/aMRD00BnpH4', 'title': 'What Can/Will Go Wrong in a BRRRR? + Mitigating Your Risk'}),\n",
              "  Document(page_content=\"And if you're not managing it, you're managing the person who's managing it. So there is a point of diminishing returns where if you just continue chasing after the same type of property, it starts to have a negative effect on your life and you lose the freedom that you were trying to gain in the first place by getting these deals. Anything you want to add on that? Yeah. So I kind of want to turn it back over to you because this is something that you and I have talked about quite quite a bit in like this first deal. And obviously you're a big fan of appreciation. So I'm kind of curious just hearing it from you. When do you think an investor or what kind of investor should really be focusing on appreciation versus cash flow? The first thing I want to address is the belief that appreciation is not guaranteed at speculative, but cash flow is guaranteed. If you're looking at it from that prism, no matter what I say, you're just going to throw it off to the side and say, that's heresy. Cash flow is not guaranteed. If you are a investor who owns a lot of properties and you try to live off the cash flow, you know how difficult it is. How many things go wrong that make cash flow wildly inconsiderate or inconsistent, I should say. And then the other thing I've noticed is my best cash flowing properties got there through appreciation of the rent. What I, what it was renting for when I bought it is not what it's renting for now. And that's why I'm getting a lot more cash flow. So you had to break yourself out of the cycle of looking at an investment like it's a one year decision. It's not. It's a many year decision. And so if you look at a property, how is going to perform over a long period of time? Properties that appreciate more are going to make you more money\", metadata={'channel_id': 'UCVWDbXqQ8cupuVpotWNt2eg', 'chunk': 8.0, 'published': '20220303', 'source': 'https://youtu.be/g3wsAl8EPIY', 'title': 'The 5 Steps to Making Short-Term Rental Millions (Part 1)'}),\n",
              "  Document(page_content=\"And I get it like I have a couple students who they're so focused on the cash on cash metric, you know, and obviously that's the metric, guys, there's a little bit more to real estate investing than your cash on cash return. There's tax deductions, there's appreciation, there's paydown and all that kind of stuff. So and again, as someone that that was there and like not too long ago, like I understand that cash flow is really important. So I think it's important when you're first starting out for like a newbie investor to kind of aim for that because it helps you just build up your amount of cash that you can then put into the next investment. And obviously there's like an argument for focusing on appreciation first too. But for me as someone that kind of did that at the very beginning of their portfolio career, like I think that newbie investors are a little bit more prone to take that cash flow side of things. Okay. And probably also I would say people that don't have as much cash, right? Cash flow is more important when you don't have a lot of cash flow in other parts of your life. But maybe if you're a little more financially successful or comfortable, that isn't as important to you. And that's typically why the wealthier people tend to look at appreciation. The last little, all you little cherry on top of the Sunday, if step number one, by saying that the thing that a lot of people don't consider is the time they're going to put into the property and the energy they're going to put into the property. So that's another thing. If you have 90 cash willing properties, what you've done is created another job. You don't have to manage 90 properties. And if you're not managing it, you're managing the person who's managing it\", metadata={'channel_id': 'UCVWDbXqQ8cupuVpotWNt2eg', 'chunk': 7.0, 'published': '20220303', 'source': 'https://youtu.be/g3wsAl8EPIY', 'title': 'The 5 Steps to Making Short-Term Rental Millions (Part 1)'}),\n",
              "  Document(page_content=\"You are getting the tax advantages and you're depreciating it. You are getting appreciation because it's going up in value and if you bought it correctly, you are getting some equity capture. The one thing you may not be getting is cash flow. For an example, I had an owner one time talk with me and they were telling me that their property was not making in many money because he was losing $200 a month was his perception. The reality was, yeah, he was losing $200 a month. After we started talking about this particular property that was in a major downtown area that was going up in value, he realized that even though he was losing a couple hundred dollars a month, the money that he was making on appreciation totally eclipsed anything that he was losing on a monthly basis. So yes, he was laying out a little bit of cash and he was what's called a negative geared property. However, what he was not thinking about were the other ways that he was making money. It's not the fact that your property is not making you any money. It's the fact that one of the five is not making you money. Chances are it's making you money other ways you're just not thinking about it the right way. Don't focus just on cash flow. Look at all the other variables that you may think about when you are looking to have a property and again, if you have maintenance on your property, let's say you have to replace the air conditioning unit or the roof or the hot water heater. Those are called capital improvements. That is going to improve the property. It's not a loss. You're actually making the property worth more money. Just remember that just because you have to outlay cash or maybe you're losing a little bit of money every month as long as the other factors come into play, which is cash flow, equity, capture, debt pay down, depreciation, and appreciation\", metadata={'channel_id': 'UCVWDbXqQ8cupuVpotWNt2eg', 'chunk': 1.0, 'published': '20200216', 'source': 'https://youtu.be/vztaRlR_g-Q', 'title': 'Why Your Rental Property Isn&#39;t Making Money'}),\n",
              "  Document(page_content=\"But basically, this is just the money you're left with in your pocket at the end of every month. Now number two, appreciation. This is basically the simple truth that real estate tends to climb over time in value. Now, sure, things like 2008 do happen in prices, do drop sometimes a lot, but over time, prices tend to climb. As long as you can hold on to a property long enough, you should always see appreciation. And that's why cash flow, which we just talked about a second ago, is so vital, right? Because as long as I'm making cash flow, I can hold on to it as long as I need to, waiting for the property to climb in value. Now number three, the loan paydown. Now, normally, when you buy a piece of real estate, you get a loan from a bank, which you then pay every month. But the cool thing is over time, the loan then gets paid down, which means you you might start owing, let's call it, 200 grand, but eventually you'll own nothing, right? So the loan starts here and over time tends to drop on what you owe it. And number four, the fourth, the wealth generator, tax benefits. Okay, so for the purpose of this video, we're not going to talk a lot about tax benefits, but in real life, man, the tax benefits are huge. Like, if you made a 100 grand from real estate and your friend made a 100 grand from a job or maybe a business sale own, who do you think would end up keeping more money? You would with real estate, way more money than your friend. All right, so let me show you how these four wealth generators can make you a millionaire would combine together. Okay, let's just say you bought a house as a rental property. Maybe you put down 20% or maybe you found a more creative way to finance it\", metadata={'channel_id': 'UCVWDbXqQ8cupuVpotWNt2eg', 'chunk': 1.0, 'published': '20190628', 'source': 'https://youtu.be/naZAknwNgkY', 'title': 'How To Become A Millionaire Through Real Estate Investing (Newbies!)'})]}"
            ]
          },
          "metadata": {},
          "execution_count": 41
        }
      ]
    },
    {
      "cell_type": "code",
      "source": [
        "query = \"Tell me about tax benefits of investing in real estate\"\n",
        "qa_with_sources(query)"
      ],
      "metadata": {
        "id": "ONYrVxTx8Jqn",
        "colab": {
          "base_uri": "https://localhost:8080/"
        },
        "outputId": "5fb0be63-b7f9-429f-c1e3-168a96dc1663"
      },
      "execution_count": null,
      "outputs": [
        {
          "output_type": "execute_result",
          "data": {
            "text/plain": [
              "{'question': 'Tell me about tax benefits of investing in real estate',\n",
              " 'answer': 'The answer is the four wealth generators in real estate investing are cash flow, appreciation, loan paydown, and tax benefits.\\n',\n",
              " 'sources': '',\n",
              " 'source_documents': [Document(page_content=\"But basically, this is just the money you're left with in your pocket at the end of every month. Now number two, appreciation. This is basically the simple truth that real estate tends to climb over time in value. Now, sure, things like 2008 do happen in prices, do drop sometimes a lot, but over time, prices tend to climb. As long as you can hold on to a property long enough, you should always see appreciation. And that's why cash flow, which we just talked about a second ago, is so vital, right? Because as long as I'm making cash flow, I can hold on to it as long as I need to, waiting for the property to climb in value. Now number three, the loan paydown. Now, normally, when you buy a piece of real estate, you get a loan from a bank, which you then pay every month. But the cool thing is over time, the loan then gets paid down, which means you you might start owing, let's call it, 200 grand, but eventually you'll own nothing, right? So the loan starts here and over time tends to drop on what you owe it. And number four, the fourth, the wealth generator, tax benefits. Okay, so for the purpose of this video, we're not going to talk a lot about tax benefits, but in real life, man, the tax benefits are huge. Like, if you made a 100 grand from real estate and your friend made a 100 grand from a job or maybe a business sale own, who do you think would end up keeping more money? You would with real estate, way more money than your friend. All right, so let me show you how these four wealth generators can make you a millionaire would combine together. Okay, let's just say you bought a house as a rental property. Maybe you put down 20% or maybe you found a more creative way to finance it\", metadata={'channel_id': 'UCVWDbXqQ8cupuVpotWNt2eg', 'chunk': 1.0, 'published': '20190628', 'source': 'https://youtu.be/naZAknwNgkY', 'title': 'How To Become A Millionaire Through Real Estate Investing (Newbies!)'}),\n",
              "  Document(page_content=\"You know they say there are two things that are mandatory in this life. Death and taxes. I'm here to challenge that assumption today. Hi, I'm Paul Moore, managing partner of Wellings Capital and the author of Bigger Pockets Book, storing up profits, capitalized on America's obsession with stuff by investing in self-storage. That's available right now at BiggerPockets.com slash storage. I think that if you look back through history, you'll figure out why the Forbes 400, the wealthiest people in America almost all investing commercial real estate. Today we're going to talk about how self-storage and other commercial real estate helps people save on taxes, kick the can down the road, and sometimes never pay federal or state income taxes. I'm going to go through about 10 different ways commercial real estate investors and operators save on taxes. So let's jump right in. Number one, higher attack strategist. That may not sound like a tax saving strategy, but it is. My friend Ed had been paying about $100 to $120,000 a year in taxes in California on his commercial real estate investments. And he stumbled across an article about ways to save on taxes for commercial real estate investors. And he was puzzled. So he took his CPA to lunch. Well, that was the last lunch they'd ever have. You'll see why in a second. He said, Hey, what about this strategy? And the CPA said, Yeah, that would be really good for you. You should do that. And he said, You knew about this and you didn't tell me. And he's like, Yeah, yeah, you should try that. He said, What about this strategy? He said, Yeah, yeah, that would be a good for you too. You could save a lot with that. And he said, Wait, wait, wait, wait. You're a CPA. You do taxes for a living\", metadata={'channel_id': 'UCVWDbXqQ8cupuVpotWNt2eg', 'chunk': 0.0, 'published': '20220430', 'source': 'https://youtu.be/IdzSxCHmbBs', 'title': 'How Real Estate Investors Avoid Paying Taxes (Forever!)'}),\n",
              "  Document(page_content=\"Hi, my name is Amanda Hahn and I'm Matt McFarlane and we're with Keystone CPA. We are CPAs by day and real estate investors by night and you might have seen us on some of the bigger pockets podcast or rest of our blogs. You might also read one of our books. We wrote for bigger pockets called the tax savings strategy for the Saudi real estate investor. So we're really excited to be here with you today to talk about how to avoid taxes with your real estate investments and why is this topic important? Well, because the tax foundation came out with a research result that said that the average American loses more money to taxes than we do on food, clothing and housing combined. So think about it. The vast majority of where our money is going is towards taxes like federal income taxes, dating income taxes, payroll taxes, what else sales tax? Yeah, I mean, it's crazy, right? So I mean, let that sink in for a second that you are losing or spending more money in taxes than the three of your biggest expenses, food, clothing and shelter, right? I mean, that's even for a CPA that's crazy. Yeah. And so that's why we're here to talk about how to avoid doing that. But you know, before we start, I think one of the things that a lot of people, you know, when we talk about minimizing taxes or avoiding taxes, some people almost feel like it's wrong, you know, it's like cheating the government. Not everybody, but some people. But the fact is that the government actually incentivizes real estate investors to take advantage of these loopholes. And the reason is because they want to incentivize us to invest in more real estate and to help the community. So it's, it's definitely not wrong to do it. And it's highly encouraged that you take advantage of a lot of these loopholes and benefits that the government has designed specifically for us\", metadata={'channel_id': 'UCVWDbXqQ8cupuVpotWNt2eg', 'chunk': 0.0, 'published': '20220207', 'source': 'https://youtu.be/SFTiG_x3TR4', 'title': '3 Overlooked Tax Deductions for Real Estate Investors'}),\n",
              "  Document(page_content=\"So what does that mean? Well, you're 275,000 dollar building is going to provide you with a $10,000 tax deduction every single year. So think about that for a second, right? So let's say you've got $10,000 a positive cash flow that you would otherwise be paying taxes on. Well, with this $10,000 write off, now you're down to zero taxable income from that rental property. That's pretty powerful. Yeah, yeah. And that's really important to make sure that we're using deductions, we're using depreciation so that we can keep all of the cash flow and appreciation that we're earning through our rental real estate, right? And what's phenomenal about tax savings is it's not just about paying the lease amount to the government. It's also about utilizing a way to supercharge your wealth, right? Because think about it, if you saved $20,000 in taxes, you can use that as a down payment and buy $100,000 worth of real estate, right? So think about the power of that. If you could do that every year, every couple of years, how much faster you can reach financial freedom by doing that. I love that. That's great. And I feel like, you know, investors are always looking for more money to invest, right? That's a common thing we hear all the time is where can they get money? I could buy more properties if only I had more money. So in addition to just being financing or partnering with other people, why not first look in your own pocket, right? Because if you can save money on taxes, that's more money of your own that you can invest in real estate, you know, tax savings actually. The way I look at it, it could be one of the easiest money you ever make because you already made that money in fact, right? It's just about keeping it\", metadata={'channel_id': 'UCVWDbXqQ8cupuVpotWNt2eg', 'chunk': 3.0, 'published': '20220207', 'source': 'https://youtu.be/SFTiG_x3TR4', 'title': '3 Overlooked Tax Deductions for Real Estate Investors'}),\n",
              "  Document(page_content=\"So a couple of things, um, most it's kind of the same thing with anybody. Most wholesalers don't know what they're doing. Most real estate agents don't know what they're doing and thank goodness for that. It's the 1% that are out there being consistent and doing the things they need to do to continually educate, educate themselves. Guess what? Most CPAs actually don't know that much. I find a lot of CPAs that don't even know what the word depreciation is. I blows my mind that they don't know what depreciation is. It's crazy, right? But again, we all we learn on the job, right? You go get a degree, you don't learn any of the stuff that you're getting a degree for. You have to go learn it on the job. So if you are a CPA for school teachers, well, then you're probably not going to learn about the tax benefits of real estate. I totally get that. So make sure you find a CPA that knows what they're talking about. If you are hiring a CPA that does not own real estate, you hire the wrong CPA, hire a CPA that's also investing in real estate. His mind is constantly thinking about these things and researching IRS and blah, blah, blah. So a couple of things. Cool thing about creative finance is I can put little money down. Like the deal you're putting your buying, Rob, you're putting very little money down and you're going to get a $500,000 property that you can do bonus appreciation on. You'll probably get a $50,000, $60,000 tax benefit. I call it the IRS bonus, but you'll get a tax benefit this year. Here's the cool thing for the sellers part. The seller can mitigate their gains on that property as they receive the money. So they don't have to take all that capital gains in the first year they sell the property\", metadata={'channel_id': 'UCVWDbXqQ8cupuVpotWNt2eg', 'chunk': 29.0, 'published': '20230425', 'source': 'https://youtu.be/E79spurDiHI', 'title': 'Pace Morby&#39;s Secret to $0 Down, 3% Interest Real Estate Deals'})]}"
            ]
          },
          "metadata": {},
          "execution_count": 47
        }
      ]
    },
    {
      "cell_type": "markdown",
      "source": [],
      "metadata": {
        "id": "iyAk7pr7W4jp"
      }
    }
  ],
  "metadata": {
    "colab": {
      "provenance": [],
      "gpuType": "V100",
      "include_colab_link": true
    },
    "kernelspec": {
      "display_name": "Python 3",
      "name": "python3"
    },
    "language_info": {
      "name": "python"
    },
    "widgets": {
      "application/vnd.jupyter.widget-state+json": {
        "255fd524dc6048919dea5932599af4d3": {
          "model_module": "@jupyter-widgets/controls",
          "model_name": "HBoxModel",
          "model_module_version": "1.5.0",
          "state": {
            "_dom_classes": [],
            "_model_module": "@jupyter-widgets/controls",
            "_model_module_version": "1.5.0",
            "_model_name": "HBoxModel",
            "_view_count": null,
            "_view_module": "@jupyter-widgets/controls",
            "_view_module_version": "1.5.0",
            "_view_name": "HBoxView",
            "box_style": "",
            "children": [
              "IPY_MODEL_2c0dd8e92f8b436cb77ed8cf108f7b1d",
              "IPY_MODEL_d66acf0ad59e4c8e8a5d583980116338",
              "IPY_MODEL_79e48a2eeeb2494a89ee77541b6f4223"
            ],
            "layout": "IPY_MODEL_a0e04c8f10d2456eb48bfb6e718e42ab"
          }
        },
        "2c0dd8e92f8b436cb77ed8cf108f7b1d": {
          "model_module": "@jupyter-widgets/controls",
          "model_name": "HTMLModel",
          "model_module_version": "1.5.0",
          "state": {
            "_dom_classes": [],
            "_model_module": "@jupyter-widgets/controls",
            "_model_module_version": "1.5.0",
            "_model_name": "HTMLModel",
            "_view_count": null,
            "_view_module": "@jupyter-widgets/controls",
            "_view_module_version": "1.5.0",
            "_view_name": "HTMLView",
            "description": "",
            "description_tooltip": null,
            "layout": "IPY_MODEL_2acd774f8d9f461ea9b96345f8032d44",
            "placeholder": "​",
            "style": "IPY_MODEL_efa1a97bdb8946329fe4d33329f6491a",
            "value": "100%"
          }
        },
        "d66acf0ad59e4c8e8a5d583980116338": {
          "model_module": "@jupyter-widgets/controls",
          "model_name": "FloatProgressModel",
          "model_module_version": "1.5.0",
          "state": {
            "_dom_classes": [],
            "_model_module": "@jupyter-widgets/controls",
            "_model_module_version": "1.5.0",
            "_model_name": "FloatProgressModel",
            "_view_count": null,
            "_view_module": "@jupyter-widgets/controls",
            "_view_module_version": "1.5.0",
            "_view_name": "ProgressView",
            "bar_style": "success",
            "description": "",
            "description_tooltip": null,
            "layout": "IPY_MODEL_e4c2e60108a2499883431a081fe18d04",
            "max": 90,
            "min": 0,
            "orientation": "horizontal",
            "style": "IPY_MODEL_1045749c0b3f471a9edda554514f08be",
            "value": 90
          }
        },
        "79e48a2eeeb2494a89ee77541b6f4223": {
          "model_module": "@jupyter-widgets/controls",
          "model_name": "HTMLModel",
          "model_module_version": "1.5.0",
          "state": {
            "_dom_classes": [],
            "_model_module": "@jupyter-widgets/controls",
            "_model_module_version": "1.5.0",
            "_model_name": "HTMLModel",
            "_view_count": null,
            "_view_module": "@jupyter-widgets/controls",
            "_view_module_version": "1.5.0",
            "_view_name": "HTMLView",
            "description": "",
            "description_tooltip": null,
            "layout": "IPY_MODEL_11fe1ec35d7d4814bec0aa953448c0c7",
            "placeholder": "​",
            "style": "IPY_MODEL_a4fe28874af94e2dafb683d8ff7610d7",
            "value": " 90/90 [1:44:10&lt;00:00, 97.42s/it]"
          }
        },
        "a0e04c8f10d2456eb48bfb6e718e42ab": {
          "model_module": "@jupyter-widgets/base",
          "model_name": "LayoutModel",
          "model_module_version": "1.2.0",
          "state": {
            "_model_module": "@jupyter-widgets/base",
            "_model_module_version": "1.2.0",
            "_model_name": "LayoutModel",
            "_view_count": null,
            "_view_module": "@jupyter-widgets/base",
            "_view_module_version": "1.2.0",
            "_view_name": "LayoutView",
            "align_content": null,
            "align_items": null,
            "align_self": null,
            "border": null,
            "bottom": null,
            "display": null,
            "flex": null,
            "flex_flow": null,
            "grid_area": null,
            "grid_auto_columns": null,
            "grid_auto_flow": null,
            "grid_auto_rows": null,
            "grid_column": null,
            "grid_gap": null,
            "grid_row": null,
            "grid_template_areas": null,
            "grid_template_columns": null,
            "grid_template_rows": null,
            "height": null,
            "justify_content": null,
            "justify_items": null,
            "left": null,
            "margin": null,
            "max_height": null,
            "max_width": null,
            "min_height": null,
            "min_width": null,
            "object_fit": null,
            "object_position": null,
            "order": null,
            "overflow": null,
            "overflow_x": null,
            "overflow_y": null,
            "padding": null,
            "right": null,
            "top": null,
            "visibility": null,
            "width": null
          }
        },
        "2acd774f8d9f461ea9b96345f8032d44": {
          "model_module": "@jupyter-widgets/base",
          "model_name": "LayoutModel",
          "model_module_version": "1.2.0",
          "state": {
            "_model_module": "@jupyter-widgets/base",
            "_model_module_version": "1.2.0",
            "_model_name": "LayoutModel",
            "_view_count": null,
            "_view_module": "@jupyter-widgets/base",
            "_view_module_version": "1.2.0",
            "_view_name": "LayoutView",
            "align_content": null,
            "align_items": null,
            "align_self": null,
            "border": null,
            "bottom": null,
            "display": null,
            "flex": null,
            "flex_flow": null,
            "grid_area": null,
            "grid_auto_columns": null,
            "grid_auto_flow": null,
            "grid_auto_rows": null,
            "grid_column": null,
            "grid_gap": null,
            "grid_row": null,
            "grid_template_areas": null,
            "grid_template_columns": null,
            "grid_template_rows": null,
            "height": null,
            "justify_content": null,
            "justify_items": null,
            "left": null,
            "margin": null,
            "max_height": null,
            "max_width": null,
            "min_height": null,
            "min_width": null,
            "object_fit": null,
            "object_position": null,
            "order": null,
            "overflow": null,
            "overflow_x": null,
            "overflow_y": null,
            "padding": null,
            "right": null,
            "top": null,
            "visibility": null,
            "width": null
          }
        },
        "efa1a97bdb8946329fe4d33329f6491a": {
          "model_module": "@jupyter-widgets/controls",
          "model_name": "DescriptionStyleModel",
          "model_module_version": "1.5.0",
          "state": {
            "_model_module": "@jupyter-widgets/controls",
            "_model_module_version": "1.5.0",
            "_model_name": "DescriptionStyleModel",
            "_view_count": null,
            "_view_module": "@jupyter-widgets/base",
            "_view_module_version": "1.2.0",
            "_view_name": "StyleView",
            "description_width": ""
          }
        },
        "e4c2e60108a2499883431a081fe18d04": {
          "model_module": "@jupyter-widgets/base",
          "model_name": "LayoutModel",
          "model_module_version": "1.2.0",
          "state": {
            "_model_module": "@jupyter-widgets/base",
            "_model_module_version": "1.2.0",
            "_model_name": "LayoutModel",
            "_view_count": null,
            "_view_module": "@jupyter-widgets/base",
            "_view_module_version": "1.2.0",
            "_view_name": "LayoutView",
            "align_content": null,
            "align_items": null,
            "align_self": null,
            "border": null,
            "bottom": null,
            "display": null,
            "flex": null,
            "flex_flow": null,
            "grid_area": null,
            "grid_auto_columns": null,
            "grid_auto_flow": null,
            "grid_auto_rows": null,
            "grid_column": null,
            "grid_gap": null,
            "grid_row": null,
            "grid_template_areas": null,
            "grid_template_columns": null,
            "grid_template_rows": null,
            "height": null,
            "justify_content": null,
            "justify_items": null,
            "left": null,
            "margin": null,
            "max_height": null,
            "max_width": null,
            "min_height": null,
            "min_width": null,
            "object_fit": null,
            "object_position": null,
            "order": null,
            "overflow": null,
            "overflow_x": null,
            "overflow_y": null,
            "padding": null,
            "right": null,
            "top": null,
            "visibility": null,
            "width": null
          }
        },
        "1045749c0b3f471a9edda554514f08be": {
          "model_module": "@jupyter-widgets/controls",
          "model_name": "ProgressStyleModel",
          "model_module_version": "1.5.0",
          "state": {
            "_model_module": "@jupyter-widgets/controls",
            "_model_module_version": "1.5.0",
            "_model_name": "ProgressStyleModel",
            "_view_count": null,
            "_view_module": "@jupyter-widgets/base",
            "_view_module_version": "1.2.0",
            "_view_name": "StyleView",
            "bar_color": null,
            "description_width": ""
          }
        },
        "11fe1ec35d7d4814bec0aa953448c0c7": {
          "model_module": "@jupyter-widgets/base",
          "model_name": "LayoutModel",
          "model_module_version": "1.2.0",
          "state": {
            "_model_module": "@jupyter-widgets/base",
            "_model_module_version": "1.2.0",
            "_model_name": "LayoutModel",
            "_view_count": null,
            "_view_module": "@jupyter-widgets/base",
            "_view_module_version": "1.2.0",
            "_view_name": "LayoutView",
            "align_content": null,
            "align_items": null,
            "align_self": null,
            "border": null,
            "bottom": null,
            "display": null,
            "flex": null,
            "flex_flow": null,
            "grid_area": null,
            "grid_auto_columns": null,
            "grid_auto_flow": null,
            "grid_auto_rows": null,
            "grid_column": null,
            "grid_gap": null,
            "grid_row": null,
            "grid_template_areas": null,
            "grid_template_columns": null,
            "grid_template_rows": null,
            "height": null,
            "justify_content": null,
            "justify_items": null,
            "left": null,
            "margin": null,
            "max_height": null,
            "max_width": null,
            "min_height": null,
            "min_width": null,
            "object_fit": null,
            "object_position": null,
            "order": null,
            "overflow": null,
            "overflow_x": null,
            "overflow_y": null,
            "padding": null,
            "right": null,
            "top": null,
            "visibility": null,
            "width": null
          }
        },
        "a4fe28874af94e2dafb683d8ff7610d7": {
          "model_module": "@jupyter-widgets/controls",
          "model_name": "DescriptionStyleModel",
          "model_module_version": "1.5.0",
          "state": {
            "_model_module": "@jupyter-widgets/controls",
            "_model_module_version": "1.5.0",
            "_model_name": "DescriptionStyleModel",
            "_view_count": null,
            "_view_module": "@jupyter-widgets/base",
            "_view_module_version": "1.2.0",
            "_view_name": "StyleView",
            "description_width": ""
          }
        },
        "59da71d75fa84a36886157536ac0f793": {
          "model_module": "@jupyter-widgets/controls",
          "model_name": "HBoxModel",
          "model_module_version": "1.5.0",
          "state": {
            "_dom_classes": [],
            "_model_module": "@jupyter-widgets/controls",
            "_model_module_version": "1.5.0",
            "_model_name": "HBoxModel",
            "_view_count": null,
            "_view_module": "@jupyter-widgets/controls",
            "_view_module_version": "1.5.0",
            "_view_name": "HBoxView",
            "box_style": "",
            "children": [
              "IPY_MODEL_5eef778b4a294615bf100fd42624b8a8",
              "IPY_MODEL_019d0373a9cf4e6e8c083443fd9f255e",
              "IPY_MODEL_da6b591818cd466b8a5c1ae7b7db52ed"
            ],
            "layout": "IPY_MODEL_c15f4b37d2a840f787ce279238db240d"
          }
        },
        "5eef778b4a294615bf100fd42624b8a8": {
          "model_module": "@jupyter-widgets/controls",
          "model_name": "HTMLModel",
          "model_module_version": "1.5.0",
          "state": {
            "_dom_classes": [],
            "_model_module": "@jupyter-widgets/controls",
            "_model_module_version": "1.5.0",
            "_model_name": "HTMLModel",
            "_view_count": null,
            "_view_module": "@jupyter-widgets/controls",
            "_view_module_version": "1.5.0",
            "_view_name": "HTMLView",
            "description": "",
            "description_tooltip": null,
            "layout": "IPY_MODEL_99e95397ed32464d80279cec412c8eab",
            "placeholder": "​",
            "style": "IPY_MODEL_74acca34e1914aa2ae2857b06f12d9a8",
            "value": "100%"
          }
        },
        "019d0373a9cf4e6e8c083443fd9f255e": {
          "model_module": "@jupyter-widgets/controls",
          "model_name": "FloatProgressModel",
          "model_module_version": "1.5.0",
          "state": {
            "_dom_classes": [],
            "_model_module": "@jupyter-widgets/controls",
            "_model_module_version": "1.5.0",
            "_model_name": "FloatProgressModel",
            "_view_count": null,
            "_view_module": "@jupyter-widgets/controls",
            "_view_module_version": "1.5.0",
            "_view_name": "ProgressView",
            "bar_style": "success",
            "description": "",
            "description_tooltip": null,
            "layout": "IPY_MODEL_0b58fce96ade42fa979c28fec6150f39",
            "max": 90,
            "min": 0,
            "orientation": "horizontal",
            "style": "IPY_MODEL_e5fc5605e56e43749cc254a8c257f18e",
            "value": 90
          }
        },
        "da6b591818cd466b8a5c1ae7b7db52ed": {
          "model_module": "@jupyter-widgets/controls",
          "model_name": "HTMLModel",
          "model_module_version": "1.5.0",
          "state": {
            "_dom_classes": [],
            "_model_module": "@jupyter-widgets/controls",
            "_model_module_version": "1.5.0",
            "_model_name": "HTMLModel",
            "_view_count": null,
            "_view_module": "@jupyter-widgets/controls",
            "_view_module_version": "1.5.0",
            "_view_name": "HTMLView",
            "description": "",
            "description_tooltip": null,
            "layout": "IPY_MODEL_b35057f4f1d4412da904da887e2162de",
            "placeholder": "​",
            "style": "IPY_MODEL_e74348107a8b4b40b0f390562847a76a",
            "value": " 90/90 [01:17&lt;00:00,  1.07s/it]"
          }
        },
        "c15f4b37d2a840f787ce279238db240d": {
          "model_module": "@jupyter-widgets/base",
          "model_name": "LayoutModel",
          "model_module_version": "1.2.0",
          "state": {
            "_model_module": "@jupyter-widgets/base",
            "_model_module_version": "1.2.0",
            "_model_name": "LayoutModel",
            "_view_count": null,
            "_view_module": "@jupyter-widgets/base",
            "_view_module_version": "1.2.0",
            "_view_name": "LayoutView",
            "align_content": null,
            "align_items": null,
            "align_self": null,
            "border": null,
            "bottom": null,
            "display": null,
            "flex": null,
            "flex_flow": null,
            "grid_area": null,
            "grid_auto_columns": null,
            "grid_auto_flow": null,
            "grid_auto_rows": null,
            "grid_column": null,
            "grid_gap": null,
            "grid_row": null,
            "grid_template_areas": null,
            "grid_template_columns": null,
            "grid_template_rows": null,
            "height": null,
            "justify_content": null,
            "justify_items": null,
            "left": null,
            "margin": null,
            "max_height": null,
            "max_width": null,
            "min_height": null,
            "min_width": null,
            "object_fit": null,
            "object_position": null,
            "order": null,
            "overflow": null,
            "overflow_x": null,
            "overflow_y": null,
            "padding": null,
            "right": null,
            "top": null,
            "visibility": null,
            "width": null
          }
        },
        "99e95397ed32464d80279cec412c8eab": {
          "model_module": "@jupyter-widgets/base",
          "model_name": "LayoutModel",
          "model_module_version": "1.2.0",
          "state": {
            "_model_module": "@jupyter-widgets/base",
            "_model_module_version": "1.2.0",
            "_model_name": "LayoutModel",
            "_view_count": null,
            "_view_module": "@jupyter-widgets/base",
            "_view_module_version": "1.2.0",
            "_view_name": "LayoutView",
            "align_content": null,
            "align_items": null,
            "align_self": null,
            "border": null,
            "bottom": null,
            "display": null,
            "flex": null,
            "flex_flow": null,
            "grid_area": null,
            "grid_auto_columns": null,
            "grid_auto_flow": null,
            "grid_auto_rows": null,
            "grid_column": null,
            "grid_gap": null,
            "grid_row": null,
            "grid_template_areas": null,
            "grid_template_columns": null,
            "grid_template_rows": null,
            "height": null,
            "justify_content": null,
            "justify_items": null,
            "left": null,
            "margin": null,
            "max_height": null,
            "max_width": null,
            "min_height": null,
            "min_width": null,
            "object_fit": null,
            "object_position": null,
            "order": null,
            "overflow": null,
            "overflow_x": null,
            "overflow_y": null,
            "padding": null,
            "right": null,
            "top": null,
            "visibility": null,
            "width": null
          }
        },
        "74acca34e1914aa2ae2857b06f12d9a8": {
          "model_module": "@jupyter-widgets/controls",
          "model_name": "DescriptionStyleModel",
          "model_module_version": "1.5.0",
          "state": {
            "_model_module": "@jupyter-widgets/controls",
            "_model_module_version": "1.5.0",
            "_model_name": "DescriptionStyleModel",
            "_view_count": null,
            "_view_module": "@jupyter-widgets/base",
            "_view_module_version": "1.2.0",
            "_view_name": "StyleView",
            "description_width": ""
          }
        },
        "0b58fce96ade42fa979c28fec6150f39": {
          "model_module": "@jupyter-widgets/base",
          "model_name": "LayoutModel",
          "model_module_version": "1.2.0",
          "state": {
            "_model_module": "@jupyter-widgets/base",
            "_model_module_version": "1.2.0",
            "_model_name": "LayoutModel",
            "_view_count": null,
            "_view_module": "@jupyter-widgets/base",
            "_view_module_version": "1.2.0",
            "_view_name": "LayoutView",
            "align_content": null,
            "align_items": null,
            "align_self": null,
            "border": null,
            "bottom": null,
            "display": null,
            "flex": null,
            "flex_flow": null,
            "grid_area": null,
            "grid_auto_columns": null,
            "grid_auto_flow": null,
            "grid_auto_rows": null,
            "grid_column": null,
            "grid_gap": null,
            "grid_row": null,
            "grid_template_areas": null,
            "grid_template_columns": null,
            "grid_template_rows": null,
            "height": null,
            "justify_content": null,
            "justify_items": null,
            "left": null,
            "margin": null,
            "max_height": null,
            "max_width": null,
            "min_height": null,
            "min_width": null,
            "object_fit": null,
            "object_position": null,
            "order": null,
            "overflow": null,
            "overflow_x": null,
            "overflow_y": null,
            "padding": null,
            "right": null,
            "top": null,
            "visibility": null,
            "width": null
          }
        },
        "e5fc5605e56e43749cc254a8c257f18e": {
          "model_module": "@jupyter-widgets/controls",
          "model_name": "ProgressStyleModel",
          "model_module_version": "1.5.0",
          "state": {
            "_model_module": "@jupyter-widgets/controls",
            "_model_module_version": "1.5.0",
            "_model_name": "ProgressStyleModel",
            "_view_count": null,
            "_view_module": "@jupyter-widgets/base",
            "_view_module_version": "1.2.0",
            "_view_name": "StyleView",
            "bar_color": null,
            "description_width": ""
          }
        },
        "b35057f4f1d4412da904da887e2162de": {
          "model_module": "@jupyter-widgets/base",
          "model_name": "LayoutModel",
          "model_module_version": "1.2.0",
          "state": {
            "_model_module": "@jupyter-widgets/base",
            "_model_module_version": "1.2.0",
            "_model_name": "LayoutModel",
            "_view_count": null,
            "_view_module": "@jupyter-widgets/base",
            "_view_module_version": "1.2.0",
            "_view_name": "LayoutView",
            "align_content": null,
            "align_items": null,
            "align_self": null,
            "border": null,
            "bottom": null,
            "display": null,
            "flex": null,
            "flex_flow": null,
            "grid_area": null,
            "grid_auto_columns": null,
            "grid_auto_flow": null,
            "grid_auto_rows": null,
            "grid_column": null,
            "grid_gap": null,
            "grid_row": null,
            "grid_template_areas": null,
            "grid_template_columns": null,
            "grid_template_rows": null,
            "height": null,
            "justify_content": null,
            "justify_items": null,
            "left": null,
            "margin": null,
            "max_height": null,
            "max_width": null,
            "min_height": null,
            "min_width": null,
            "object_fit": null,
            "object_position": null,
            "order": null,
            "overflow": null,
            "overflow_x": null,
            "overflow_y": null,
            "padding": null,
            "right": null,
            "top": null,
            "visibility": null,
            "width": null
          }
        },
        "e74348107a8b4b40b0f390562847a76a": {
          "model_module": "@jupyter-widgets/controls",
          "model_name": "DescriptionStyleModel",
          "model_module_version": "1.5.0",
          "state": {
            "_model_module": "@jupyter-widgets/controls",
            "_model_module_version": "1.5.0",
            "_model_name": "DescriptionStyleModel",
            "_view_count": null,
            "_view_module": "@jupyter-widgets/base",
            "_view_module_version": "1.2.0",
            "_view_name": "StyleView",
            "description_width": ""
          }
        }
      }
    },
    "accelerator": "GPU"
  },
  "nbformat": 4,
  "nbformat_minor": 0
}