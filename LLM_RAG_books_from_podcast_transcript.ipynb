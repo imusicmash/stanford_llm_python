{
  "nbformat": 4,
  "nbformat_minor": 0,
  "metadata": {
    "colab": {
      "provenance": [],
      "authorship_tag": "ABX9TyNVz4BtNM1T/VFJ+ZhDeY+h",
      "include_colab_link": true
    },
    "kernelspec": {
      "name": "python3",
      "display_name": "Python 3"
    },
    "language_info": {
      "name": "python"
    }
  },
  "cells": [
    {
      "cell_type": "markdown",
      "metadata": {
        "id": "view-in-github",
        "colab_type": "text"
      },
      "source": [
        "<a href=\"https://colab.research.google.com/github/imusicmash/stanford_llm_python/blob/main/LLM_RAG_books_from_podcast_transcript.ipynb\" target=\"_parent\"><img src=\"https://colab.research.google.com/assets/colab-badge.svg\" alt=\"Open In Colab\"/></a>"
      ]
    },
    {
      "cell_type": "code",
      "execution_count": null,
      "metadata": {
        "id": "z8IF8wKj1app"
      },
      "outputs": [],
      "source": [
        "# code to find books mentioned in podcast transcipts, using llama_index and openai\n",
        "# using concepts we learned in LLM4BIZ Stanford class\n",
        "# author: Al Nevarez, March 2024"
      ]
    },
    {
      "cell_type": "code",
      "source": [
        "# install openai and llama-index\n",
        "!pip install openai\n",
        "!pip install llama-index --upgrade"
      ],
      "metadata": {
        "id": "a-ocL98R2VV6"
      },
      "execution_count": null,
      "outputs": []
    },
    {
      "cell_type": "code",
      "source": [
        "from openai import OpenAI\n",
        "from google.colab import userdata\n",
        "\n",
        "open_ai_key = userdata.get('openai')\n",
        "client = OpenAI(api_key=open_ai_key)"
      ],
      "metadata": {
        "id": "eGPyVsXo1rak"
      },
      "execution_count": 3,
      "outputs": []
    },
    {
      "cell_type": "code",
      "source": [
        "import os\n",
        "os.environ[\"OPENAI_API_KEY\"] = open_ai_key"
      ],
      "metadata": {
        "id": "2WsWsPFG11Qy"
      },
      "execution_count": 4,
      "outputs": []
    },
    {
      "cell_type": "code",
      "source": [
        "from llama_index.core import VectorStoreIndex, SimpleDirectoryReader"
      ],
      "metadata": {
        "id": "0vRV5E_01_Eq"
      },
      "execution_count": 5,
      "outputs": []
    },
    {
      "cell_type": "code",
      "source": [
        "# Find books mentioned in a single podcast transcript.. a test to see if we can extract this easily.\n",
        "# the following line provided in class doesn't exactly work, it seems to read all the files in the directory\n",
        "# documents = SimpleDirectoryReader(\"./\").load_data(\"lennypodcast_20240303.txt\")\n",
        "\n",
        "# tried this way instead to read one file and it seems better, works now to find the books in THIS transcript\n",
        "reader = SimpleDirectoryReader(\n",
        "    input_files=[\"lennypodcast_20240303.txt\"]\n",
        ")\n",
        "documents = reader.load_data()"
      ],
      "metadata": {
        "id": "6OZSgYAw2E8L"
      },
      "execution_count": 24,
      "outputs": []
    },
    {
      "cell_type": "code",
      "source": [
        "# commented out for now the alter the chunk size to try to extract books\n",
        "# service_context = ServiceContext.from_defaults(chunk_size=800)\n",
        "index = VectorStoreIndex.from_documents(\n",
        "    documents, #service_context=service_context\n",
        ")\n",
        "query_engine = index.as_query_engine()\n",
        "\n",
        "response = query_engine.query(\n",
        "    \"What are the books and their author mentioned in this podcast?\"\n",
        ")\n",
        "print(response)"
      ],
      "metadata": {
        "colab": {
          "base_uri": "https://localhost:8080/"
        },
        "id": "ABSCCkhG2HVT",
        "outputId": "189c7ac9-f482-4d62-88f1-03cb06cc5506"
      },
      "execution_count": 20,
      "outputs": [
        {
          "output_type": "stream",
          "name": "stdout",
          "text": [
            "The books mentioned in the podcast are \"The Dream Machine\" by J.C.R Licklider and \"Good Inside\" by Dr. Becky.\n"
          ]
        }
      ]
    },
    {
      "cell_type": "code",
      "source": [
        "# now find books from multiple transcript files\n",
        "# this is setup to pull in the 4 files.\n",
        "# note you can also use SimpleDirectoryReader and set multiple file paths\n",
        "# documents = SimpleDirectoryReader(input_dir=\"./\", required_exts=[\".txt\"])\n",
        "\n",
        "# List of file paths\n",
        "file_paths = [\"lennypodcast_20240303.txt\", \"lennypodcast_20240225.txt\", \"lennypodcast_20240222.txt\", \"lennypodcast_20240218.txt\"]\n",
        "#file_paths = [\"lennypodcast_20240303.txt\", \"lennypodcast_20240225.txt\"]\n",
        "#file_paths = [\"lennypodcast_20240303.txt\"]\n",
        "#file_paths = [\"lennypodcast_20240222.txt\"]\n",
        "\n",
        "reader = SimpleDirectoryReader(input_files = file_paths)\n",
        "#reader = SimpleDirectoryReader(input_files = [\"./lennypodcast_20240303.txt\", \"./lennypodcast_20240225.txt\"])\n",
        "\n",
        "documents = reader.load_data()\n"
      ],
      "metadata": {
        "id": "a_yxk_R130vR"
      },
      "execution_count": 36,
      "outputs": []
    },
    {
      "cell_type": "code",
      "source": [
        "# create an index and send a query to find the books\n",
        "index = VectorStoreIndex.from_documents(\n",
        "    documents\n",
        ")\n",
        "query_engine = index.as_query_engine()\n",
        "\n",
        "response = query_engine.query(\n",
        "    \"What are the books mentioned in these podcasts\"\n",
        ")\n",
        "print(response)"
      ],
      "metadata": {
        "colab": {
          "base_uri": "https://localhost:8080/"
        },
        "id": "peAv-X_b5PR_",
        "outputId": "89fc2a11-5eb6-4fec-8a9b-72c44043e9fb"
      },
      "execution_count": 37,
      "outputs": [
        {
          "output_type": "stream",
          "name": "stdout",
          "text": [
            "The books mentioned in these podcasts are not explicitly stated.\n"
          ]
        }
      ]
    },
    {
      "cell_type": "code",
      "source": [],
      "metadata": {
        "id": "OWtsuNYN7xJk"
      },
      "execution_count": null,
      "outputs": []
    },
    {
      "cell_type": "code",
      "source": [
        "# This isn't working when i try with multiple files..\n",
        "# the response is always:\n",
        "# The books mentioned in these podcasts are not explicitly stated.\n"
      ],
      "metadata": {
        "id": "51FFtAaT5RAD"
      },
      "execution_count": 30,
      "outputs": []
    },
    {
      "cell_type": "code",
      "source": [],
      "metadata": {
        "id": "cjj3qQD_7wkq"
      },
      "execution_count": null,
      "outputs": []
    }
  ]
}